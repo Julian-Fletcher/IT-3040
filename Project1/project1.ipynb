{
 "cells": [
  {
   "cell_type": "code",
   "execution_count": 3,
   "id": "initial_id",
   "metadata": {
    "collapsed": true,
    "ExecuteTime": {
     "end_time": "2023-11-15T16:27:39.598813Z",
     "start_time": "2023-11-15T16:27:39.479430800Z"
    }
   },
   "outputs": [],
   "source": [
    "import numpy as np\n",
    "import matplotlib.pyplot as plt\n",
    "import pandas as pd\n",
    "from functions import *\n",
    "import math\n",
    "\n",
    "%matplotlib inline"
   ]
  },
  {
   "cell_type": "markdown",
   "source": [
    "## Preprocessing\n",
    "Convert the datafile into two numpy arrays and apply normalization to them"
   ],
   "metadata": {
    "collapsed": false
   },
   "id": "cdf48c85fdc881d8"
  },
  {
   "cell_type": "code",
   "execution_count": 4,
   "outputs": [],
   "source": [
    "#Create datapath \n",
    "def preprocess(file):\n",
    "    #file = \"Project1_data/shopping.csv\"\n",
    "\n",
    "    #put data into a pandas dataframe\n",
    "    df = pd.read_csv(file)\n",
    "    \n",
    "    #view dataframe rows\n",
    "    df.head()\n",
    "    \n",
    "    #define replacement mapping\n",
    "    bool_mapping = {\n",
    "        \"TRUE\": 1,\n",
    "        \"FALSE\": 0,\n",
    "    }\n",
    "    \n",
    "    month_mapping = {\n",
    "        \"Jan\": 1, \"Feb\": 2, \"Mar\": 3, \"Apr\": 4, \"May\": 5, \"June\": 6, \"Jul\": 7, \"Aug\": 8, \"Sep\": 9, \"Oct\": 10, \"Nov\": 11, \"Dec\": 12\n",
    "    }\n",
    "    \n",
    "    visit_mapping = {\n",
    "        \"New_Visitor\": 1, \"Returning_Visitor\": 2, \"Other\": 3\n",
    "    }\n",
    "    \n",
    "    #Convert true/false to strings\n",
    "    df['Weekend'] = df['Weekend'].astype(str)\n",
    "    df['Revenue'] = df['Revenue'].astype(str)\n",
    "    \n",
    "    df['Weekend'] = df['Weekend'].str.upper()\n",
    "    df['Revenue'] = df['Revenue'].str.upper()\n",
    "    \n",
    "    #Replace non-integer values\n",
    "    df['Month'] = df['Month'].replace(month_mapping)\n",
    "    df['VisitorType'] = df['VisitorType'].replace(visit_mapping)\n",
    "    df['Weekend'] = df['Weekend'].replace(bool_mapping)\n",
    "    df['Revenue'] = df['Revenue'].replace(bool_mapping)\n",
    "    \n",
    "    df.head(10)\n",
    "    \n",
    "    #convert dataframe to numpy array\n",
    "    data_array = df.to_numpy()\n",
    "    \n",
    "    return split_data(data_array)\n",
    "\n",
    "def split_data(data):\n",
    "    X = data[:, :17]\n",
    "    y = data[:, 17]\n",
    "    return normalize(X), y\n",
    "\n",
    "def normalize(x_unn):\n",
    "    return min_max(x_unn)\n",
    "    \n"
   ],
   "metadata": {
    "collapsed": false,
    "ExecuteTime": {
     "end_time": "2023-11-15T16:27:39.828826700Z",
     "start_time": "2023-11-15T16:27:39.511783500Z"
    }
   },
   "id": "aab66b9c85028ca3"
  },
  {
   "cell_type": "code",
   "execution_count": 5,
   "outputs": [],
   "source": [
    "X_train, y_train = preprocess(\"Project1_data/shopping.csv\")"
   ],
   "metadata": {
    "collapsed": false,
    "ExecuteTime": {
     "end_time": "2023-11-15T16:27:40.009832600Z",
     "start_time": "2023-11-15T16:27:39.517754100Z"
    }
   },
   "id": "62574b0e63ec414b"
  },
  {
   "cell_type": "code",
   "execution_count": 6,
   "outputs": [
    {
     "name": "stdout",
     "output_type": "stream",
     "text": [
      "First five elements in X_train are:\n",
      " [[4.68944009e-05 2.22748404e-03 0.00000000e+00 0.00000000e+00\n",
      "  7.50310415e-04 1.64483042e-02 6.79628985e-08 2.03888696e-07\n",
      "  0.00000000e+00 0.00000000e+00 1.71946137e-04 1.56314670e-05\n",
      "  1.25051736e-04 9.37888018e-05 1.71946137e-04 3.12629339e-05\n",
      "  0.00000000e+00]\n",
      " [9.37888018e-05 6.83706773e-03 3.12629339e-05 3.68199205e-03\n",
      "  1.29741176e-03 3.91393454e-02 3.43548694e-08 7.68464175e-08\n",
      "  3.26106555e-05 0.00000000e+00 4.68944009e-05 3.12629339e-05\n",
      "  3.12629339e-05 4.68944009e-05 3.12629339e-05 3.12629339e-05\n",
      "  0.00000000e+00]\n",
      " [1.56314670e-05 6.42844079e-04 0.00000000e+00 0.00000000e+00\n",
      "  1.96956484e-03 6.73716956e-02 1.07518076e-08 2.00439847e-07\n",
      "  5.39453198e-05 0.00000000e+00 1.71946137e-04 3.12629339e-05\n",
      "  3.12629339e-05 3.12629339e-05 3.12629339e-05 3.12629339e-05\n",
      "  0.00000000e+00]\n",
      " [3.12629339e-05 2.20403684e-03 0.00000000e+00 0.00000000e+00\n",
      "  1.56314670e-04 9.48308997e-03 1.30262220e-07 4.12497047e-07\n",
      "  5.73241753e-04 0.00000000e+00 1.25051736e-04 3.12629339e-05\n",
      "  7.81573349e-05 1.09420269e-04 6.25258679e-05 3.12629339e-05\n",
      "  0.00000000e+00]\n",
      " [2.81366406e-04 9.50612033e-03 9.37888018e-05 1.14703705e-02\n",
      "  2.62608645e-03 7.73507318e-02 1.03664184e-07 2.11454795e-07\n",
      "  1.58669452e-04 0.00000000e+00 1.25051736e-04 3.12629339e-05\n",
      "  3.12629339e-05 4.68944009e-05 1.56314670e-05 3.12629339e-05\n",
      "  1.56314670e-05]]\n",
      "Type of X_train: <class 'numpy.ndarray'>\n",
      "Shape of X_train: (5000, 17)\n"
     ]
    }
   ],
   "source": [
    "print(\"First five elements in X_train are:\\n\", X_train[:5])\n",
    "print(\"Type of X_train:\",type(X_train))\n",
    "print(\"Shape of X_train:\", X_train.shape)"
   ],
   "metadata": {
    "collapsed": false,
    "ExecuteTime": {
     "end_time": "2023-11-15T16:27:40.009832600Z",
     "start_time": "2023-11-15T16:27:39.551236200Z"
    }
   },
   "id": "5d957a719e6cf08b"
  },
  {
   "cell_type": "code",
   "execution_count": 7,
   "outputs": [
    {
     "name": "stdout",
     "output_type": "stream",
     "text": [
      "First five elements in y_train are:\n",
      " [0. 1. 0. 0. 0.]\n",
      "Type of y_train: <class 'numpy.ndarray'>\n",
      "Shape of y_train: (5000,)\n"
     ]
    }
   ],
   "source": [
    "print(\"First five elements in y_train are:\\n\", y_train[:5])\n",
    "print(\"Type of y_train:\",type(y_train))\n",
    "print(\"Shape of y_train:\", y_train.shape)"
   ],
   "metadata": {
    "collapsed": false,
    "ExecuteTime": {
     "end_time": "2023-11-15T16:27:40.009832600Z",
     "start_time": "2023-11-15T16:27:39.557356600Z"
    }
   },
   "id": "873ce481fdd2b321"
  },
  {
   "cell_type": "code",
   "execution_count": 8,
   "outputs": [
    {
     "name": "stdout",
     "output_type": "stream",
     "text": [
      "The shape of X_train is: (5000, 17)\n",
      "The shape of y_train is: (5000,)\n",
      "We have m = 5000 training examples\n"
     ]
    }
   ],
   "source": [
    "print ('The shape of X_train is: ' + str(X_train.shape))\n",
    "print ('The shape of y_train is: ' + str(y_train.shape))\n",
    "print ('We have m = %d training examples' % (len(y_train)))"
   ],
   "metadata": {
    "collapsed": false,
    "ExecuteTime": {
     "end_time": "2023-11-15T16:27:40.009832600Z",
     "start_time": "2023-11-15T16:27:39.570239700Z"
    }
   },
   "id": "299a1c045c54bcf6"
  },
  {
   "cell_type": "markdown",
   "source": [
    "Visualizing Data"
   ],
   "metadata": {
    "collapsed": false
   },
   "id": "8fa5a9f66ff3e7cd"
  },
  {
   "cell_type": "code",
   "execution_count": 9,
   "outputs": [],
   "source": [
    "def sigmoid(z):\n",
    "    r = 1 / (1 + np.exp(-z))\n",
    "    return r"
   ],
   "metadata": {
    "collapsed": false,
    "ExecuteTime": {
     "end_time": "2023-11-15T16:27:40.014001400Z",
     "start_time": "2023-11-15T16:27:39.573772Z"
    }
   },
   "id": "6cdb17468bb979"
  },
  {
   "cell_type": "code",
   "execution_count": 23,
   "outputs": [],
   "source": [
    "# cost function for the regression model\n",
    "def compute_cost(X, y, w, b, *argv):\n",
    "    \"\"\"\n",
    "    Computes the cost over all examples\n",
    "    Args:\n",
    "      X : (ndarray Shape (m,n)) data, m examples by n features\n",
    "      y : (ndarray Shape (m,))  target value \n",
    "      w : (ndarray Shape (n,))  values of parameters of the model      \n",
    "      b : (scalar)              value of bias parameter of the model\n",
    "      *argv : unused, for compatibility with regularized version below\n",
    "    Returns:\n",
    "      total_cost : (scalar) cost \n",
    "    \"\"\"\n",
    "    \n",
    "    m, n = X.shape\n",
    "    \n",
    "    ### START CODE HERE ###\n",
    "    loss = 0.0\n",
    "    z = np.dot(X, w) + b\n",
    "    prediction = sigmoid(z)\n",
    "    total_cost = (-1/m) * np.sum(y * np.log(prediction) + (1 - y) * np.log(1 - prediction))\n",
    "    \n",
    "    \n",
    "    ### END CODE HERE ### \n",
    "    \n",
    "    return total_cost"
   ],
   "metadata": {
    "collapsed": false,
    "ExecuteTime": {
     "end_time": "2023-11-15T16:41:36.895069500Z",
     "start_time": "2023-11-15T16:41:36.879431800Z"
    }
   },
   "id": "82afe017b8d55a7b"
  },
  {
   "cell_type": "markdown",
   "source": [
    "Test the compute cost function with w and b values"
   ],
   "metadata": {
    "collapsed": false
   },
   "id": "b849914b85bda66f"
  },
  {
   "cell_type": "code",
   "execution_count": 20,
   "outputs": [],
   "source": [
    "def compute_gradient(X, y, w, b, *argv):\n",
    "    m = X.shape[0]\n",
    "    z = np.dot(X, w) + b\n",
    "    predictions = 1/ (1 + np.exp(-z))\n",
    "    \n",
    "    dj_db = np.mean(predictions - y)\n",
    "    dj_dw = np.dot(X.T, (predictions - y)) / m\n",
    "    \n",
    "    return dj_db, dj_dw"
   ],
   "metadata": {
    "collapsed": false,
    "ExecuteTime": {
     "end_time": "2023-11-15T16:39:07.485466900Z",
     "start_time": "2023-11-15T16:39:07.258480300Z"
    }
   },
   "id": "abfcc2643f5ee9d8"
  },
  {
   "cell_type": "code",
   "execution_count": 21,
   "outputs": [],
   "source": [
    "# Descent algorithm, written by Dr. Kristofferson Culmer\n",
    "def gradient_descent(X, y, w_in, b_in, cost_function, gradient_function, alpha, num_iters, lambda_): \n",
    "    \"\"\"\n",
    "    Performs batch gradient descent to learn theta. Updates theta by taking \n",
    "    num_iters gradient steps with learning rate alpha\n",
    "    \n",
    "    Args:\n",
    "      X :    (ndarray Shape (m, n) data, m examples by n features\n",
    "      y :    (ndarray Shape (m,))  target value \n",
    "      w_in : (ndarray Shape (n,))  Initial values of parameters of the model\n",
    "      b_in : (scalar)              Initial value of parameter of the model\n",
    "      cost_function :              function to compute cost\n",
    "      gradient_function :          function to compute gradient\n",
    "      alpha : (float)              Learning rate\n",
    "      num_iters : (int)            number of iterations to run gradient descent\n",
    "      lambda_ : (scalar, float)    regularization constant\n",
    "      \n",
    "    Returns:\n",
    "      w : (ndarray Shape (n,)) Updated values of parameters of the model after\n",
    "          running gradient descent\n",
    "      b : (scalar)                Updated value of parameter of the model after\n",
    "          running gradient descent\n",
    "    \"\"\"\n",
    "    \n",
    "    # number of training examples\n",
    "    m = len(X)\n",
    "    \n",
    "    # An array to store cost J and w's at each iteration primarily for graphing later\n",
    "    J_history = []\n",
    "    w_history = []\n",
    "    \n",
    "    for i in range(num_iters):\n",
    "\n",
    "        # Calculate the gradient and update the parameters\n",
    "        dj_db, dj_dw = gradient_function(X, y, w_in, b_in, lambda_)   \n",
    "\n",
    "        # Update Parameters using w, b, alpha and gradient\n",
    "        w_in = w_in - alpha * dj_dw               \n",
    "        b_in = b_in - alpha * dj_db              \n",
    "       \n",
    "        # Save cost J at each iteration\n",
    "        if i<100000:      # prevent resource exhaustion \n",
    "            cost =  cost_function(X, y, w_in, b_in, lambda_)\n",
    "            J_history.append(cost)\n",
    "\n",
    "        # Print cost every at intervals 10 times or as many iterations if < 10\n",
    "        if i% math.ceil(num_iters/10) == 0 or i == (num_iters-1):\n",
    "            w_history.append(w_in)\n",
    "            print(f\"Iteration {i:4}: Cost {float(J_history[-1]):8.2f}   \")\n",
    "        \n",
    "    return w_in, b_in, J_history, w_history #return w and J,w history for graphing"
   ],
   "metadata": {
    "collapsed": false,
    "ExecuteTime": {
     "end_time": "2023-11-15T16:39:07.567792500Z",
     "start_time": "2023-11-15T16:39:07.277259100Z"
    }
   },
   "id": "c3c373916d60319c"
  },
  {
   "cell_type": "code",
   "execution_count": 25,
   "outputs": [
    {
     "name": "stdout",
     "output_type": "stream",
     "text": [
      "Iteration    0: Cost     1.23   \n",
      "Iteration 10000: Cost     0.43   \n",
      "Iteration 20000: Cost     0.43   \n",
      "Iteration 30000: Cost     0.43   \n",
      "Iteration 40000: Cost     0.43   \n",
      "Iteration 50000: Cost     0.43   \n",
      "Iteration 60000: Cost     0.43   \n",
      "Iteration 70000: Cost     0.43   \n",
      "Iteration 80000: Cost     0.43   \n",
      "Iteration 90000: Cost     0.43   \n",
      "Iteration 99999: Cost     0.43   \n"
     ]
    }
   ],
   "source": [
    "# Runs the algorithm above to learn parameters\n",
    "np.random.seed(1)\n",
    "initial_w = 0.01 * (np.random.rand(17) - 0.5)\n",
    "initial_b = -8\n",
    "\n",
    "# Some gradient descent settings\n",
    "iterations = 100000\n",
    "alpha = 0.01\n",
    "\n",
    "w,b, J_history,_ = gradient_descent(X_train ,y_train, initial_w, initial_b, compute_cost, compute_gradient, alpha, iterations, 0)"
   ],
   "metadata": {
    "collapsed": false,
    "ExecuteTime": {
     "end_time": "2023-11-15T16:44:40.466735100Z",
     "start_time": "2023-11-15T16:43:50.865905100Z"
    }
   },
   "id": "e45598a5b7aae8bc"
  },
  {
   "cell_type": "code",
   "execution_count": 26,
   "outputs": [],
   "source": [
    "def predict(X, w, b): \n",
    "    \"\"\"\n",
    "    Predict whether the label is 0 or 1 using learned logistic\n",
    "    regression parameters w\n",
    "    \n",
    "    Args:\n",
    "      X : (ndarray Shape (m,n)) data, m examples by n features\n",
    "      w : (ndarray Shape (n,))  values of parameters of the model      \n",
    "      b : (scalar)              value of bias parameter of the model\n",
    "\n",
    "    Returns:\n",
    "      p : (ndarray (m,)) The predictions for X using a threshold at 0.5\n",
    "    \"\"\"\n",
    "    # number of training examples\n",
    "    m, n = X.shape   \n",
    "    p = np.zeros(m)\n",
    "   \n",
    "    ### START CODE HERE ### \n",
    "    for i in range(m):\n",
    "        z = np.dot(w, X[i]) + b\n",
    "        prediction = sigmoid(z)\n",
    "        if prediction >= 0.5:\n",
    "            p[i] = 1\n",
    "        else:\n",
    "            p[i] = 0\n",
    "\n",
    "    ### END CODE HERE ### \n",
    "    return p"
   ],
   "metadata": {
    "collapsed": false,
    "ExecuteTime": {
     "end_time": "2023-11-15T16:44:40.470736600Z",
     "start_time": "2023-11-15T16:44:40.470225300Z"
    }
   },
   "id": "637044188d73daaf"
  },
  {
   "cell_type": "code",
   "execution_count": 27,
   "outputs": [
    {
     "name": "stdout",
     "output_type": "stream",
     "text": [
      "Train Accuracy: 84.580000\n"
     ]
    }
   ],
   "source": [
    "#Compute accuracy on our training set\n",
    "p = predict(X_train, w,b)\n",
    "print('Train Accuracy: %f'%(np.mean(p == y_train) * 100))"
   ],
   "metadata": {
    "collapsed": false,
    "ExecuteTime": {
     "end_time": "2023-11-15T16:44:40.515561500Z",
     "start_time": "2023-11-15T16:44:40.470736600Z"
    }
   },
   "id": "23ae3c424e99b808"
  },
  {
   "cell_type": "code",
   "execution_count": 28,
   "outputs": [
    {
     "name": "stdout",
     "output_type": "stream",
     "text": [
      "Train Accuracy: 84.800000\n"
     ]
    }
   ],
   "source": [
    "X_test, y_test = preprocess(\"Project1_data/unseen.csv\")\n",
    "p = predict(X_test, w,b)\n",
    "print('Train Accuracy: %f'%(np.mean(p == y_test) * 100))"
   ],
   "metadata": {
    "collapsed": false,
    "ExecuteTime": {
     "end_time": "2023-11-15T16:44:40.515561500Z",
     "start_time": "2023-11-15T16:44:40.488499200Z"
    }
   },
   "id": "fd496563737666c"
  },
  {
   "cell_type": "markdown",
   "source": [
    "## Regularization"
   ],
   "metadata": {
    "collapsed": false
   },
   "id": "adecc7f938179ec0"
  },
  {
   "cell_type": "code",
   "execution_count": 29,
   "outputs": [],
   "source": [
    "X_train, y_train = preprocess(\"Project1_data/shopping.csv\")\n",
    "X_mapped = map_feature(X_train[:, 0], X_train[:, 16])"
   ],
   "metadata": {
    "collapsed": false,
    "ExecuteTime": {
     "end_time": "2023-11-15T16:44:40.555400900Z",
     "start_time": "2023-11-15T16:44:40.508503200Z"
    }
   },
   "id": "5c602a839a24cf7e"
  },
  {
   "cell_type": "code",
   "execution_count": 30,
   "outputs": [
    {
     "name": "stdout",
     "output_type": "stream",
     "text": [
      "X_train: [[4.68944009e-05 2.22748404e-03 0.00000000e+00 0.00000000e+00\n",
      "  7.50310415e-04 1.64483042e-02 6.79628985e-08 2.03888696e-07\n",
      "  0.00000000e+00 0.00000000e+00 1.71946137e-04 1.56314670e-05\n",
      "  1.25051736e-04 9.37888018e-05 1.71946137e-04 3.12629339e-05\n",
      "  0.00000000e+00]\n",
      " [9.37888018e-05 6.83706773e-03 3.12629339e-05 3.68199205e-03\n",
      "  1.29741176e-03 3.91393454e-02 3.43548694e-08 7.68464175e-08\n",
      "  3.26106555e-05 0.00000000e+00 4.68944009e-05 3.12629339e-05\n",
      "  3.12629339e-05 4.68944009e-05 3.12629339e-05 3.12629339e-05\n",
      "  0.00000000e+00]\n",
      " [1.56314670e-05 6.42844079e-04 0.00000000e+00 0.00000000e+00\n",
      "  1.96956484e-03 6.73716956e-02 1.07518076e-08 2.00439847e-07\n",
      "  5.39453198e-05 0.00000000e+00 1.71946137e-04 3.12629339e-05\n",
      "  3.12629339e-05 3.12629339e-05 3.12629339e-05 3.12629339e-05\n",
      "  0.00000000e+00]\n",
      " [3.12629339e-05 2.20403684e-03 0.00000000e+00 0.00000000e+00\n",
      "  1.56314670e-04 9.48308997e-03 1.30262220e-07 4.12497047e-07\n",
      "  5.73241753e-04 0.00000000e+00 1.25051736e-04 3.12629339e-05\n",
      "  7.81573349e-05 1.09420269e-04 6.25258679e-05 3.12629339e-05\n",
      "  0.00000000e+00]\n",
      " [2.81366406e-04 9.50612033e-03 9.37888018e-05 1.14703705e-02\n",
      "  2.62608645e-03 7.73507318e-02 1.03664184e-07 2.11454795e-07\n",
      "  1.58669452e-04 0.00000000e+00 1.25051736e-04 3.12629339e-05\n",
      "  3.12629339e-05 4.68944009e-05 1.56314670e-05 3.12629339e-05\n",
      "  1.56314670e-05]]\n",
      "Type of X_train: <class 'numpy.ndarray'>\n",
      "y_train: [0. 1. 0. 0. 0.]\n",
      "Type of y_train: <class 'numpy.ndarray'>\n"
     ]
    }
   ],
   "source": [
    "# print X_train\n",
    "print(\"X_train:\", X_train[:5])\n",
    "print(\"Type of X_train:\",type(X_train))\n",
    "\n",
    "# print y_train\n",
    "print(\"y_train:\", y_train[:5])\n",
    "print(\"Type of y_train:\",type(y_train))"
   ],
   "metadata": {
    "collapsed": false,
    "ExecuteTime": {
     "end_time": "2023-11-15T16:44:40.623057200Z",
     "start_time": "2023-11-15T16:44:40.546561800Z"
    }
   },
   "id": "1c49d966d095f585"
  },
  {
   "cell_type": "code",
   "execution_count": 31,
   "outputs": [
    {
     "name": "stdout",
     "output_type": "stream",
     "text": [
      "Original shape of data: (5000, 17)\n",
      "Shape after feature mapping: (5000, 27)\n"
     ]
    }
   ],
   "source": [
    "#Feature mapping\n",
    "print(\"Original shape of data:\", X_train.shape)\n",
    "print(\"Shape after feature mapping:\", X_mapped.shape)"
   ],
   "metadata": {
    "collapsed": false,
    "ExecuteTime": {
     "end_time": "2023-11-15T16:44:40.626084100Z",
     "start_time": "2023-11-15T16:44:40.555400900Z"
    }
   },
   "id": "74a67159ace37f00"
  },
  {
   "cell_type": "code",
   "execution_count": 32,
   "outputs": [
    {
     "name": "stdout",
     "output_type": "stream",
     "text": [
      "X_train[0]: [4.68944009e-05 2.22748404e-03 0.00000000e+00 0.00000000e+00\n",
      " 7.50310415e-04 1.64483042e-02 6.79628985e-08 2.03888696e-07\n",
      " 0.00000000e+00 0.00000000e+00 1.71946137e-04 1.56314670e-05\n",
      " 1.25051736e-04 9.37888018e-05 1.71946137e-04 3.12629339e-05\n",
      " 0.00000000e+00]\n",
      "mapped X_train[0]: [4.68944009e-05 0.00000000e+00 2.19908484e-09 0.00000000e+00\n",
      " 0.00000000e+00 1.03124766e-13 0.00000000e+00 0.00000000e+00\n",
      " 0.00000000e+00 4.83597412e-18 0.00000000e+00 0.00000000e+00\n",
      " 0.00000000e+00 0.00000000e+00 2.26780109e-22 0.00000000e+00\n",
      " 0.00000000e+00 0.00000000e+00 0.00000000e+00 0.00000000e+00\n",
      " 1.06347174e-26 0.00000000e+00 0.00000000e+00 0.00000000e+00\n",
      " 0.00000000e+00 0.00000000e+00 0.00000000e+00]\n"
     ]
    }
   ],
   "source": [
    "print(\"X_train[0]:\", X_train[0])\n",
    "print(\"mapped X_train[0]:\", X_mapped[0])"
   ],
   "metadata": {
    "collapsed": false,
    "ExecuteTime": {
     "end_time": "2023-11-15T16:44:40.626084100Z",
     "start_time": "2023-11-15T16:44:40.561098200Z"
    }
   },
   "id": "404df4884322c774"
  },
  {
   "cell_type": "code",
   "execution_count": 33,
   "outputs": [
    {
     "name": "stdout",
     "output_type": "stream",
     "text": [
      "Original shape of data: (5000, 17)\n",
      "Shape after feature mapping: (5000, 27)\n"
     ]
    }
   ],
   "source": [
    "print(\"Original shape of data:\", X_train.shape)\n",
    "\n",
    "mapped_X =  map_feature(X_train[:, 0], X_train[:, 1])\n",
    "print(\"Shape after feature mapping:\", mapped_X.shape)"
   ],
   "metadata": {
    "collapsed": false,
    "ExecuteTime": {
     "end_time": "2023-11-15T16:44:40.626084100Z",
     "start_time": "2023-11-15T16:44:40.567161900Z"
    }
   },
   "id": "8a9d05129faa1854"
  },
  {
   "cell_type": "code",
   "execution_count": 34,
   "outputs": [],
   "source": [
    "def compute_cost_reg(X, y, w, b, lambda_ = 1):\n",
    "    \"\"\"\n",
    "    Computes the cost over all examples\n",
    "    Args:\n",
    "      X : (ndarray Shape (m,n)) data, m examples by n features\n",
    "      y : (ndarray Shape (m,))  target value \n",
    "      w : (ndarray Shape (n,))  values of parameters of the model      \n",
    "      b : (scalar)              value of bias parameter of the model\n",
    "      lambda_ : (scalar, float) Controls amount of regularization\n",
    "    Returns:\n",
    "      total_cost : (scalar)     cost \n",
    "    \"\"\"\n",
    "\n",
    "    m, n = X.shape\n",
    "    \n",
    "    # Calls the compute_cost function that you implemented above\n",
    "    cost_without_reg = compute_cost(X, y, w, b) \n",
    "    \n",
    "    # You need to calculate this value\n",
    "    reg_cost = 0.\n",
    "    \n",
    "    ### START CODE HERE ###\n",
    "    summ = 0.\n",
    "    for i in range(n):\n",
    "        summ += w[i] ** 2\n",
    "        \n",
    "    reg_cost = (lambda_ / (2*m)) * summ\n",
    "    ### END CODE HERE ### \n",
    "    \n",
    "    # Add the regularization cost to get the total cost\n",
    "    total_cost = cost_without_reg + reg_cost\n",
    "\n",
    "    return total_cost"
   ],
   "metadata": {
    "collapsed": false,
    "ExecuteTime": {
     "end_time": "2023-11-15T16:44:40.626084100Z",
     "start_time": "2023-11-15T16:44:40.580952500Z"
    }
   },
   "id": "c9c614473b47bad7"
  },
  {
   "cell_type": "code",
   "execution_count": 35,
   "outputs": [],
   "source": [
    "def compute_gradient_reg(X, y, w, b, lambda_): \n",
    "    \"\"\"\n",
    "    Computes the gradient for logistic regression with regularization\n",
    " \n",
    "    Args:\n",
    "      X : (ndarray Shape (m,n)) data, m examples by n features\n",
    "      y : (ndarray Shape (m,))  target value \n",
    "      w : (ndarray Shape (n,))  values of parameters of the model      \n",
    "      b : (scalar)              value of bias parameter of the model\n",
    "      lambda_ : (scalar,float)  regularization constant\n",
    "    Returns\n",
    "      dj_db : (scalar)             The gradient of the cost w.r.t. the parameter b. \n",
    "      dj_dw : (ndarray Shape (n,)) The gradient of the cost w.r.t. the parameters w. \n",
    "\n",
    "    \"\"\"\n",
    "    m, n = X.shape\n",
    "    \n",
    "    dj_db, dj_dw = compute_gradient(X, y, w, b)\n",
    "\n",
    "    ### START CODE HERE ###     \n",
    "\n",
    "    for i in range(n):\n",
    "        dj_dw[i] += (lambda_ / m) * w[i]       \n",
    "        \n",
    "    ### END CODE HERE ###         \n",
    "        \n",
    "    return dj_db, dj_dw"
   ],
   "metadata": {
    "collapsed": false,
    "ExecuteTime": {
     "end_time": "2023-11-15T16:44:40.626084100Z",
     "start_time": "2023-11-15T16:44:40.580952500Z"
    }
   },
   "id": "5329eb761b961de"
  },
  {
   "cell_type": "code",
   "execution_count": 36,
   "outputs": [
    {
     "name": "stdout",
     "output_type": "stream",
     "text": [
      "Iteration    0: Cost     1.04   \n",
      "Iteration 10000: Cost     0.43   \n",
      "Iteration 20000: Cost     0.43   \n",
      "Iteration 30000: Cost     0.43   \n",
      "Iteration 40000: Cost     0.43   \n",
      "Iteration 50000: Cost     0.43   \n",
      "Iteration 60000: Cost     0.43   \n",
      "Iteration 70000: Cost     0.43   \n",
      "Iteration 80000: Cost     0.43   \n",
      "Iteration 90000: Cost     0.43   \n",
      "Iteration 99999: Cost     0.43   \n"
     ]
    }
   ],
   "source": [
    "# Initialize fitting parameters\n",
    "np.random.seed(1)\n",
    "initial_w = np.random.rand(X_mapped.shape[1])-0.5\n",
    "initial_b = 0.8\n",
    "\n",
    "# Set regularization parameter lambda_ (you can try varying this)\n",
    "lambda_ = .0004  \n",
    "\n",
    "# Some gradient descent settings\n",
    "iterations = 100000\n",
    "alpha = 0.01\n",
    "\n",
    "w,b, J_history,_ = gradient_descent(X_mapped, y_train, initial_w, initial_b, \n",
    "                                    compute_cost_reg, compute_gradient_reg, \n",
    "                                    alpha, iterations, lambda_)"
   ],
   "metadata": {
    "collapsed": false,
    "ExecuteTime": {
     "end_time": "2023-11-15T16:45:38.840491100Z",
     "start_time": "2023-11-15T16:44:40.586798300Z"
    }
   },
   "id": "3e8c11f665a15050"
  },
  {
   "cell_type": "code",
   "execution_count": 37,
   "outputs": [
    {
     "name": "stdout",
     "output_type": "stream",
     "text": [
      "Train Accuracy: 84.580000\n"
     ]
    }
   ],
   "source": [
    "#Compute accuracy on the training set\n",
    "p = predict(X_mapped, w, b)\n",
    "\n",
    "print('Train Accuracy: %f'%(np.mean(p == y_train) * 100))"
   ],
   "metadata": {
    "collapsed": false,
    "ExecuteTime": {
     "end_time": "2023-11-15T16:45:38.865107300Z",
     "start_time": "2023-11-15T16:45:38.840491100Z"
    }
   },
   "id": "a97da395617bd97"
  },
  {
   "cell_type": "code",
   "execution_count": 38,
   "outputs": [],
   "source": [
    "X_test, y_test = preprocess(\"Project1_data/unseen.csv\")\n",
    "test_mapped = map_feature(X_test[:, 0], X_test[:, 16])"
   ],
   "metadata": {
    "collapsed": false,
    "ExecuteTime": {
     "end_time": "2023-11-15T16:45:38.895080900Z",
     "start_time": "2023-11-15T16:45:38.871493Z"
    }
   },
   "id": "e09d276fb22e9b1"
  },
  {
   "cell_type": "code",
   "execution_count": 39,
   "outputs": [
    {
     "name": "stdout",
     "output_type": "stream",
     "text": [
      "Shape of X_test: (500, 17)\n",
      "Shape of y_test: (500,)\n",
      "Shape of test_mapped: (500, 27)\n"
     ]
    }
   ],
   "source": [
    "print('Shape of X_test: ' + str(X_test.shape))\n",
    "print('Shape of y_test: ' + str(y_test.shape))\n",
    "print('Shape of test_mapped: ' + str(test_mapped.shape))"
   ],
   "metadata": {
    "collapsed": false,
    "ExecuteTime": {
     "end_time": "2023-11-15T16:45:38.895080900Z",
     "start_time": "2023-11-15T16:45:38.886491200Z"
    }
   },
   "id": "10743fbc80821ba9"
  },
  {
   "cell_type": "code",
   "execution_count": 40,
   "outputs": [
    {
     "name": "stdout",
     "output_type": "stream",
     "text": [
      "Test Accuracy: 84.800000\n"
     ]
    }
   ],
   "source": [
    "p = predict(test_mapped, w, b)\n",
    "print('Test Accuracy: %f'%(np.mean(p == y_test) * 100))"
   ],
   "metadata": {
    "collapsed": false,
    "ExecuteTime": {
     "end_time": "2023-11-15T16:45:38.895080900Z",
     "start_time": "2023-11-15T16:45:38.887054100Z"
    }
   },
   "id": "45a423975e5e8214"
  }
 ],
 "metadata": {
  "kernelspec": {
   "name": "python311",
   "language": "python",
   "display_name": "Python 3.11"
  },
  "language_info": {
   "codemirror_mode": {
    "name": "ipython",
    "version": 2
   },
   "file_extension": ".py",
   "mimetype": "text/x-python",
   "name": "python",
   "nbconvert_exporter": "python",
   "pygments_lexer": "ipython2",
   "version": "2.7.6"
  }
 },
 "nbformat": 4,
 "nbformat_minor": 5
}
