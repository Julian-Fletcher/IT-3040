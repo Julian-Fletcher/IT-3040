{
 "cells": [
  {
   "cell_type": "code",
   "execution_count": 3,
   "id": "0c7e719d-da62-4db0-b719-275ba023566e",
   "metadata": {
    "ExecuteTime": {
     "end_time": "2023-11-09T16:27:01.254034900Z",
     "start_time": "2023-11-09T16:27:01.141684800Z"
    }
   },
   "outputs": [],
   "source": [
    "# Visualize training history\n",
    "import matplotlib.pyplot as plt\n",
    "import numpy as np\n",
    "import tensorflow as tf\n",
    "from tensorflow.keras.models import Sequential\n",
    "from tensorflow.keras.layers import Dense\n",
    "from sklearn.preprocessing import StandardScaler\n",
    "from sklearn.model_selection import train_test_split\n",
    "from tensorflow.keras.regularizers import l2\n",
    "import math\n",
    "from mlxtend.plotting import plot_confusion_matrix\n",
    "from sklearn.metrics import precision_score, recall_score, f1_score\n",
    "from sklearn.metrics import confusion_matrix"
   ]
  },
  {
   "cell_type": "code",
   "execution_count": 4,
   "id": "84c25759-c5a2-4653-a3d3-368d4067bfe4",
   "metadata": {
    "ExecuteTime": {
     "end_time": "2023-11-09T16:27:01.254034900Z",
     "start_time": "2023-11-09T16:27:01.145784200Z"
    }
   },
   "outputs": [],
   "source": [
    "def sigmoid(z):\n",
    "    \n",
    "    g = 1 / (1 + math.e**-z)\n",
    "    \n",
    "    return g"
   ]
  },
  {
   "cell_type": "code",
   "execution_count": 5,
   "id": "8f9771fd-0ebb-4221-96e5-76f8d4f21908",
   "metadata": {
    "ExecuteTime": {
     "end_time": "2023-11-09T16:27:01.351360Z",
     "start_time": "2023-11-09T16:27:01.151514700Z"
    }
   },
   "outputs": [],
   "source": [
    "def print_confusion_matrix(true_labels, predictions):\n",
    "    #plot confusion matrix\n",
    "    mat = confusion_matrix(true_labels, predictions)\n",
    "    plot_confusion_matrix(conf_mat=mat)\n",
    "\n",
    "    #Calculate precision, recall, f1_score\n",
    "\n",
    "    #precision\n",
    "    precision = precision_score(true_labels, predictions)\n",
    "\n",
    "    #recall\n",
    "    recall = recall_score(true_labels, predictions)\n",
    "\n",
    "    #fl score\n",
    "    f1 = f1_score(true_labels, predictions)\n",
    "\n",
    "    #Print precision, recall, f1_score\n",
    "    print(f\"Precision: {precision:.2f}\")\n",
    "    print(f\"Recall: {recall:.2f}\")\n",
    "    print(f\"F1 Score: {f1:.2f}\")\n",
    "\n",
    "    return"
   ]
  },
  {
   "cell_type": "code",
   "execution_count": 6,
   "id": "86e8299d-30da-448e-b5b4-6c5489509c0b",
   "metadata": {
    "ExecuteTime": {
     "end_time": "2023-11-09T16:27:01.351360Z",
     "start_time": "2023-11-09T16:27:01.163005200Z"
    }
   },
   "outputs": [],
   "source": [
    "def calculate_accuracy(labels, predictions):\n",
    "    \n",
    "    # Calculate the number of correct predictions by comparing 'labels' and 'predictions'\n",
    "    correct_predictions = np.sum(labels == predictions)\n",
    "    \n",
    "    # Calculate the total number of predictions\n",
    "    total_predictions = len(labels)\n",
    "    \n",
    "    # Calculate the accuracy as a percentage\n",
    "    accuracy_percentage = (correct_predictions / total_predictions) * 100.0\n",
    "    \n",
    "    print(f\"Accuracy: {accuracy_percentage:.2f}%\")"
   ]
  },
  {
   "cell_type": "code",
   "execution_count": 7,
   "id": "13e77ff6-c95d-413c-beec-40069509e5c8",
   "metadata": {
    "ExecuteTime": {
     "end_time": "2023-11-09T16:27:01.351360Z",
     "start_time": "2023-11-09T16:27:01.173179400Z"
    }
   },
   "outputs": [],
   "source": [
    "def get_predictions(feature_data):\n",
    "    #run feature data through the trained model to get the linera activations from the output layer\n",
    "    logits = model(feature_data)\n",
    "\n",
    "    #convert the model outputs to probabilities by running through the sigmoid function\n",
    "    logits = sigmoid(logits)\n",
    "\n",
    "    # get predictions by converting output probabilities to True if >= 0.5, and False if < 0.5\n",
    "    predictions = logits >= 0.5\n",
    "\n",
    "    #convert True to 1 and False to 0\n",
    "    predictions = [int(boolean) for boolean in predictions]\n",
    "\n",
    "    return predictions"
   ]
  },
  {
   "cell_type": "code",
   "execution_count": 8,
   "id": "ff77778c-3d27-4b29-97f9-dd6bc758c6f6",
   "metadata": {
    "ExecuteTime": {
     "end_time": "2023-11-09T16:27:01.355726900Z",
     "start_time": "2023-11-09T16:27:01.176889500Z"
    }
   },
   "outputs": [
    {
     "name": "stdout",
     "output_type": "stream",
     "text": [
      "X shape: (768, 8)\n",
      "y shape: (768,)\n",
      "[ 0.63994726  0.84832379  0.14964075  0.90726993 -0.69289057  0.20401277\n",
      "  0.46849198  1.4259954 ]\n"
     ]
    }
   ],
   "source": [
    "#load the dataset\n",
    "dataset = np.loadtxt(\"pima-indians-diabetes.csv\", delimiter=\",\")\n",
    "\n",
    "#split data set in to X, y variables\n",
    "features = dataset[:,0:8]\n",
    "y = dataset[:,8]\n",
    "\n",
    "#create Scaler object\n",
    "scaler = StandardScaler()\n",
    "\n",
    "#scale the features\n",
    "X = scaler.fit_transform(features)\n",
    "\n",
    "print(f\"X shape: {X.shape}\")\n",
    "print(f\"y shape: {y.shape}\")\n",
    "\n",
    "#look at the first X row\n",
    "print(X[0])\n"
   ]
  },
  {
   "cell_type": "code",
   "execution_count": 9,
   "id": "f8f7849d-ab50-49bc-9a84-2826fb111eb7",
   "metadata": {
    "ExecuteTime": {
     "end_time": "2023-11-09T16:27:01.355726900Z",
     "start_time": "2023-11-09T16:27:01.187008800Z"
    }
   },
   "outputs": [
    {
     "name": "stdout",
     "output_type": "stream",
     "text": [
      "X_train shape: (460, 8)\n",
      "X_test shape: (154, 8)\n",
      "X_cv shape: (154, 8)\n",
      "y_train shape: (460,)\n",
      "y_test shape: (154,)\n",
      "y_cv shape: (154,)\n"
     ]
    }
   ],
   "source": [
    "# split  data into training, CV, test sets\n",
    "# use the train_test_split modules\n",
    "X_train, X_test, y_train, y_test = train_test_split(X, y, test_size=0.4, random_state=35)\n",
    "\n",
    "#split test set 50:50 for the CV and test sets\n",
    "X_test, X_cv, y_test, y_cv = train_test_split(X_test, y_test, test_size=0.5)\n",
    "\n",
    "#Print the shapes of the resulting sets\n",
    "print(f\"X_train shape: {X_train.shape}\")\n",
    "print(f\"X_test shape: {X_test.shape}\")\n",
    "print(f\"X_cv shape: {X_cv.shape}\")\n",
    "\n",
    "print(f\"y_train shape: {y_train.shape}\")\n",
    "print(f\"y_test shape: {y_test.shape}\")\n",
    "print(f\"y_cv shape: {y_cv.shape}\")\n",
    "\n"
   ]
  },
  {
   "cell_type": "code",
   "execution_count": 10,
   "id": "c28fa40c-ea33-4f47-9ed4-c63b1be8d260",
   "metadata": {
    "ExecuteTime": {
     "end_time": "2023-11-09T16:27:01.355726900Z",
     "start_time": "2023-11-09T16:27:01.192633900Z"
    }
   },
   "outputs": [],
   "source": [
    "#create model\n",
    "model = Sequential([\n",
    "    tf.keras.Input(shape=(8,)),\n",
    "    Dense(12, activation='relu', kernel_regularizer=l2(0.0)),\n",
    "    Dense(8, activation='relu', kernel_regularizer=l2(0.0)),\n",
    "    Dense(1, activation='linear')\n",
    "])\n",
    "    "
   ]
  },
  {
   "cell_type": "code",
   "execution_count": 11,
   "id": "5fcc1fc6-80f9-4bfb-928d-d443fd479541",
   "metadata": {
    "ExecuteTime": {
     "end_time": "2023-11-09T16:27:01.382886500Z",
     "start_time": "2023-11-09T16:27:01.274920Z"
    }
   },
   "outputs": [
    {
     "name": "stdout",
     "output_type": "stream",
     "text": [
      "Model: \"sequential\"\n",
      "_________________________________________________________________\n",
      " Layer (type)                Output Shape              Param #   \n",
      "=================================================================\n",
      " dense (Dense)               (None, 12)                108       \n",
      "                                                                 \n",
      " dense_1 (Dense)             (None, 8)                 104       \n",
      "                                                                 \n",
      " dense_2 (Dense)             (None, 1)                 9         \n",
      "                                                                 \n",
      "=================================================================\n",
      "Total params: 221 (884.00 Byte)\n",
      "Trainable params: 221 (884.00 Byte)\n",
      "Non-trainable params: 0 (0.00 Byte)\n",
      "_________________________________________________________________\n"
     ]
    }
   ],
   "source": [
    "#print model summary\n",
    "model.summary()"
   ]
  },
  {
   "cell_type": "code",
   "execution_count": 12,
   "id": "e824abb5-41a4-4585-a187-ced18c14d708",
   "metadata": {
    "ExecuteTime": {
     "end_time": "2023-11-09T16:27:09.665291300Z",
     "start_time": "2023-11-09T16:27:01.292477300Z"
    }
   },
   "outputs": [
    {
     "name": "stdout",
     "output_type": "stream",
     "text": [
      "Epoch 1/100\n",
      "24/24 [==============================] - 1s 10ms/step - loss: 0.7755 - accuracy: 0.6146 - val_loss: 0.7504 - val_accuracy: 0.7013\n",
      "Epoch 2/100\n",
      "24/24 [==============================] - 0s 3ms/step - loss: 0.7047 - accuracy: 0.6771 - val_loss: 0.6908 - val_accuracy: 0.7208\n",
      "Epoch 3/100\n",
      "24/24 [==============================] - 0s 3ms/step - loss: 0.6610 - accuracy: 0.6927 - val_loss: 0.6468 - val_accuracy: 0.7273\n",
      "Epoch 4/100\n",
      "24/24 [==============================] - 0s 3ms/step - loss: 0.6283 - accuracy: 0.6901 - val_loss: 0.6162 - val_accuracy: 0.7403\n",
      "Epoch 5/100\n",
      "24/24 [==============================] - 0s 3ms/step - loss: 0.6034 - accuracy: 0.6966 - val_loss: 0.5931 - val_accuracy: 0.7403\n",
      "Epoch 6/100\n",
      "24/24 [==============================] - 0s 3ms/step - loss: 0.5828 - accuracy: 0.7148 - val_loss: 0.5724 - val_accuracy: 0.7532\n",
      "Epoch 7/100\n",
      "24/24 [==============================] - 0s 3ms/step - loss: 0.5654 - accuracy: 0.7174 - val_loss: 0.5536 - val_accuracy: 0.7468\n",
      "Epoch 8/100\n",
      "24/24 [==============================] - 0s 3ms/step - loss: 0.5491 - accuracy: 0.7240 - val_loss: 0.5371 - val_accuracy: 0.7468\n",
      "Epoch 9/100\n",
      "24/24 [==============================] - 0s 3ms/step - loss: 0.5336 - accuracy: 0.7344 - val_loss: 0.5243 - val_accuracy: 0.7532\n",
      "Epoch 10/100\n",
      "24/24 [==============================] - 0s 3ms/step - loss: 0.5206 - accuracy: 0.7344 - val_loss: 0.5115 - val_accuracy: 0.7403\n",
      "Epoch 11/100\n",
      "24/24 [==============================] - 0s 3ms/step - loss: 0.5095 - accuracy: 0.7396 - val_loss: 0.4992 - val_accuracy: 0.7597\n",
      "Epoch 12/100\n",
      "24/24 [==============================] - 0s 3ms/step - loss: 0.4985 - accuracy: 0.7461 - val_loss: 0.4911 - val_accuracy: 0.7532\n",
      "Epoch 13/100\n",
      "24/24 [==============================] - 0s 3ms/step - loss: 0.4912 - accuracy: 0.7513 - val_loss: 0.4798 - val_accuracy: 0.7792\n",
      "Epoch 14/100\n",
      "24/24 [==============================] - 0s 3ms/step - loss: 0.4837 - accuracy: 0.7578 - val_loss: 0.4763 - val_accuracy: 0.7727\n",
      "Epoch 15/100\n",
      "24/24 [==============================] - 0s 3ms/step - loss: 0.4790 - accuracy: 0.7630 - val_loss: 0.4699 - val_accuracy: 0.7662\n",
      "Epoch 16/100\n",
      "24/24 [==============================] - 0s 3ms/step - loss: 0.4739 - accuracy: 0.7591 - val_loss: 0.4670 - val_accuracy: 0.7727\n",
      "Epoch 17/100\n",
      "24/24 [==============================] - 0s 3ms/step - loss: 0.4711 - accuracy: 0.7682 - val_loss: 0.4646 - val_accuracy: 0.7727\n",
      "Epoch 18/100\n",
      "24/24 [==============================] - 0s 3ms/step - loss: 0.4683 - accuracy: 0.7630 - val_loss: 0.4600 - val_accuracy: 0.7792\n",
      "Epoch 19/100\n",
      "24/24 [==============================] - 0s 3ms/step - loss: 0.4658 - accuracy: 0.7656 - val_loss: 0.4573 - val_accuracy: 0.7857\n",
      "Epoch 20/100\n",
      "24/24 [==============================] - 0s 3ms/step - loss: 0.4640 - accuracy: 0.7734 - val_loss: 0.4563 - val_accuracy: 0.7857\n",
      "Epoch 21/100\n",
      "24/24 [==============================] - 0s 3ms/step - loss: 0.4618 - accuracy: 0.7669 - val_loss: 0.4518 - val_accuracy: 0.7987\n",
      "Epoch 22/100\n",
      "24/24 [==============================] - 0s 3ms/step - loss: 0.4609 - accuracy: 0.7682 - val_loss: 0.4522 - val_accuracy: 0.7922\n",
      "Epoch 23/100\n",
      "24/24 [==============================] - 0s 3ms/step - loss: 0.4587 - accuracy: 0.7695 - val_loss: 0.4490 - val_accuracy: 0.7987\n",
      "Epoch 24/100\n",
      "24/24 [==============================] - 0s 3ms/step - loss: 0.4573 - accuracy: 0.7773 - val_loss: 0.4480 - val_accuracy: 0.7987\n",
      "Epoch 25/100\n",
      "24/24 [==============================] - 0s 3ms/step - loss: 0.4565 - accuracy: 0.7760 - val_loss: 0.4469 - val_accuracy: 0.7987\n",
      "Epoch 26/100\n",
      "24/24 [==============================] - 0s 3ms/step - loss: 0.4550 - accuracy: 0.7786 - val_loss: 0.4451 - val_accuracy: 0.7922\n",
      "Epoch 27/100\n",
      "24/24 [==============================] - 0s 3ms/step - loss: 0.4539 - accuracy: 0.7760 - val_loss: 0.4437 - val_accuracy: 0.7922\n",
      "Epoch 28/100\n",
      "24/24 [==============================] - 0s 3ms/step - loss: 0.4533 - accuracy: 0.7760 - val_loss: 0.4446 - val_accuracy: 0.7922\n",
      "Epoch 29/100\n",
      "24/24 [==============================] - 0s 3ms/step - loss: 0.4527 - accuracy: 0.7721 - val_loss: 0.4411 - val_accuracy: 0.7922\n",
      "Epoch 30/100\n",
      "24/24 [==============================] - 0s 3ms/step - loss: 0.4523 - accuracy: 0.7760 - val_loss: 0.4423 - val_accuracy: 0.7922\n",
      "Epoch 31/100\n",
      "24/24 [==============================] - 0s 3ms/step - loss: 0.4507 - accuracy: 0.7760 - val_loss: 0.4402 - val_accuracy: 0.7922\n",
      "Epoch 32/100\n",
      "24/24 [==============================] - 0s 3ms/step - loss: 0.4498 - accuracy: 0.7747 - val_loss: 0.4390 - val_accuracy: 0.7922\n",
      "Epoch 33/100\n",
      "24/24 [==============================] - 0s 3ms/step - loss: 0.4494 - accuracy: 0.7721 - val_loss: 0.4375 - val_accuracy: 0.7987\n",
      "Epoch 34/100\n",
      "24/24 [==============================] - 0s 3ms/step - loss: 0.4488 - accuracy: 0.7734 - val_loss: 0.4385 - val_accuracy: 0.7922\n",
      "Epoch 35/100\n",
      "24/24 [==============================] - 0s 3ms/step - loss: 0.4483 - accuracy: 0.7760 - val_loss: 0.4364 - val_accuracy: 0.7922\n",
      "Epoch 36/100\n",
      "24/24 [==============================] - 0s 3ms/step - loss: 0.4477 - accuracy: 0.7734 - val_loss: 0.4360 - val_accuracy: 0.7987\n",
      "Epoch 37/100\n",
      "24/24 [==============================] - 0s 3ms/step - loss: 0.4463 - accuracy: 0.7734 - val_loss: 0.4345 - val_accuracy: 0.7987\n",
      "Epoch 38/100\n",
      "24/24 [==============================] - 0s 3ms/step - loss: 0.4455 - accuracy: 0.7773 - val_loss: 0.4331 - val_accuracy: 0.7987\n",
      "Epoch 39/100\n",
      "24/24 [==============================] - 0s 3ms/step - loss: 0.4454 - accuracy: 0.7773 - val_loss: 0.4330 - val_accuracy: 0.7987\n",
      "Epoch 40/100\n",
      "24/24 [==============================] - 0s 3ms/step - loss: 0.4449 - accuracy: 0.7773 - val_loss: 0.4321 - val_accuracy: 0.7987\n",
      "Epoch 41/100\n",
      "24/24 [==============================] - 0s 3ms/step - loss: 0.4442 - accuracy: 0.7786 - val_loss: 0.4320 - val_accuracy: 0.7987\n",
      "Epoch 42/100\n",
      "24/24 [==============================] - 0s 3ms/step - loss: 0.4433 - accuracy: 0.7773 - val_loss: 0.4318 - val_accuracy: 0.7987\n",
      "Epoch 43/100\n",
      "24/24 [==============================] - 0s 3ms/step - loss: 0.4431 - accuracy: 0.7773 - val_loss: 0.4298 - val_accuracy: 0.7987\n",
      "Epoch 44/100\n",
      "24/24 [==============================] - 0s 3ms/step - loss: 0.4425 - accuracy: 0.7799 - val_loss: 0.4283 - val_accuracy: 0.7987\n",
      "Epoch 45/100\n",
      "24/24 [==============================] - 0s 3ms/step - loss: 0.4418 - accuracy: 0.7786 - val_loss: 0.4274 - val_accuracy: 0.7987\n",
      "Epoch 46/100\n",
      "24/24 [==============================] - 0s 3ms/step - loss: 0.4408 - accuracy: 0.7760 - val_loss: 0.4272 - val_accuracy: 0.7987\n",
      "Epoch 47/100\n",
      "24/24 [==============================] - 0s 3ms/step - loss: 0.4405 - accuracy: 0.7799 - val_loss: 0.4274 - val_accuracy: 0.7987\n",
      "Epoch 48/100\n",
      "24/24 [==============================] - 0s 3ms/step - loss: 0.4395 - accuracy: 0.7799 - val_loss: 0.4263 - val_accuracy: 0.7987\n",
      "Epoch 49/100\n",
      "24/24 [==============================] - 0s 3ms/step - loss: 0.4390 - accuracy: 0.7799 - val_loss: 0.4249 - val_accuracy: 0.7987\n",
      "Epoch 50/100\n",
      "24/24 [==============================] - 0s 3ms/step - loss: 0.4387 - accuracy: 0.7812 - val_loss: 0.4246 - val_accuracy: 0.7987\n",
      "Epoch 51/100\n",
      "24/24 [==============================] - 0s 3ms/step - loss: 0.4381 - accuracy: 0.7812 - val_loss: 0.4247 - val_accuracy: 0.7987\n",
      "Epoch 52/100\n",
      "24/24 [==============================] - 0s 3ms/step - loss: 0.4375 - accuracy: 0.7839 - val_loss: 0.4235 - val_accuracy: 0.7987\n",
      "Epoch 53/100\n",
      "24/24 [==============================] - 0s 3ms/step - loss: 0.4370 - accuracy: 0.7812 - val_loss: 0.4232 - val_accuracy: 0.7987\n",
      "Epoch 54/100\n",
      "24/24 [==============================] - 0s 3ms/step - loss: 0.4368 - accuracy: 0.7852 - val_loss: 0.4228 - val_accuracy: 0.7987\n",
      "Epoch 55/100\n",
      "24/24 [==============================] - 0s 3ms/step - loss: 0.4358 - accuracy: 0.7839 - val_loss: 0.4214 - val_accuracy: 0.7987\n",
      "Epoch 56/100\n",
      "24/24 [==============================] - 0s 3ms/step - loss: 0.4357 - accuracy: 0.7812 - val_loss: 0.4207 - val_accuracy: 0.7987\n",
      "Epoch 57/100\n",
      "24/24 [==============================] - 0s 3ms/step - loss: 0.4351 - accuracy: 0.7839 - val_loss: 0.4206 - val_accuracy: 0.7987\n",
      "Epoch 58/100\n",
      "24/24 [==============================] - 0s 3ms/step - loss: 0.4349 - accuracy: 0.7852 - val_loss: 0.4189 - val_accuracy: 0.7987\n",
      "Epoch 59/100\n",
      "24/24 [==============================] - 0s 3ms/step - loss: 0.4345 - accuracy: 0.7826 - val_loss: 0.4220 - val_accuracy: 0.7987\n",
      "Epoch 60/100\n",
      "24/24 [==============================] - 0s 3ms/step - loss: 0.4335 - accuracy: 0.7839 - val_loss: 0.4192 - val_accuracy: 0.7987\n",
      "Epoch 61/100\n",
      "24/24 [==============================] - 0s 3ms/step - loss: 0.4329 - accuracy: 0.7826 - val_loss: 0.4200 - val_accuracy: 0.7987\n",
      "Epoch 62/100\n",
      "24/24 [==============================] - 0s 3ms/step - loss: 0.4338 - accuracy: 0.7865 - val_loss: 0.4184 - val_accuracy: 0.7987\n",
      "Epoch 63/100\n",
      "24/24 [==============================] - 0s 3ms/step - loss: 0.4321 - accuracy: 0.7839 - val_loss: 0.4182 - val_accuracy: 0.7987\n",
      "Epoch 64/100\n",
      "24/24 [==============================] - 0s 3ms/step - loss: 0.4323 - accuracy: 0.7839 - val_loss: 0.4158 - val_accuracy: 0.7987\n",
      "Epoch 65/100\n",
      "24/24 [==============================] - 0s 3ms/step - loss: 0.4311 - accuracy: 0.7865 - val_loss: 0.4167 - val_accuracy: 0.7987\n",
      "Epoch 66/100\n",
      "24/24 [==============================] - 0s 3ms/step - loss: 0.4318 - accuracy: 0.7839 - val_loss: 0.4197 - val_accuracy: 0.7987\n",
      "Epoch 67/100\n",
      "24/24 [==============================] - 0s 3ms/step - loss: 0.4317 - accuracy: 0.7852 - val_loss: 0.4134 - val_accuracy: 0.7857\n",
      "Epoch 68/100\n",
      "24/24 [==============================] - 0s 3ms/step - loss: 0.4301 - accuracy: 0.7852 - val_loss: 0.4172 - val_accuracy: 0.7987\n",
      "Epoch 69/100\n",
      "24/24 [==============================] - 0s 3ms/step - loss: 0.4301 - accuracy: 0.7812 - val_loss: 0.4153 - val_accuracy: 0.7922\n",
      "Epoch 70/100\n",
      "24/24 [==============================] - 0s 3ms/step - loss: 0.4289 - accuracy: 0.7839 - val_loss: 0.4161 - val_accuracy: 0.7987\n",
      "Epoch 71/100\n",
      "24/24 [==============================] - 0s 3ms/step - loss: 0.4282 - accuracy: 0.7865 - val_loss: 0.4146 - val_accuracy: 0.7922\n",
      "Epoch 72/100\n",
      "24/24 [==============================] - 0s 3ms/step - loss: 0.4277 - accuracy: 0.7826 - val_loss: 0.4135 - val_accuracy: 0.7857\n",
      "Epoch 73/100\n",
      "24/24 [==============================] - 0s 3ms/step - loss: 0.4273 - accuracy: 0.7799 - val_loss: 0.4137 - val_accuracy: 0.7922\n",
      "Epoch 74/100\n",
      "24/24 [==============================] - 0s 3ms/step - loss: 0.4271 - accuracy: 0.7812 - val_loss: 0.4148 - val_accuracy: 0.7922\n",
      "Epoch 75/100\n",
      "24/24 [==============================] - 0s 3ms/step - loss: 0.4269 - accuracy: 0.7852 - val_loss: 0.4131 - val_accuracy: 0.7857\n",
      "Epoch 76/100\n",
      "24/24 [==============================] - 0s 3ms/step - loss: 0.4260 - accuracy: 0.7786 - val_loss: 0.4137 - val_accuracy: 0.7922\n",
      "Epoch 77/100\n",
      "24/24 [==============================] - 0s 3ms/step - loss: 0.4253 - accuracy: 0.7773 - val_loss: 0.4119 - val_accuracy: 0.7857\n",
      "Epoch 78/100\n",
      "24/24 [==============================] - 0s 3ms/step - loss: 0.4244 - accuracy: 0.7826 - val_loss: 0.4131 - val_accuracy: 0.7922\n",
      "Epoch 79/100\n",
      "24/24 [==============================] - 0s 3ms/step - loss: 0.4241 - accuracy: 0.7812 - val_loss: 0.4131 - val_accuracy: 0.7987\n",
      "Epoch 80/100\n",
      "24/24 [==============================] - 0s 3ms/step - loss: 0.4240 - accuracy: 0.7852 - val_loss: 0.4111 - val_accuracy: 0.7922\n",
      "Epoch 81/100\n",
      "24/24 [==============================] - 0s 3ms/step - loss: 0.4236 - accuracy: 0.7826 - val_loss: 0.4119 - val_accuracy: 0.7857\n",
      "Epoch 82/100\n",
      "24/24 [==============================] - 0s 3ms/step - loss: 0.4232 - accuracy: 0.7852 - val_loss: 0.4114 - val_accuracy: 0.7987\n",
      "Epoch 83/100\n",
      "24/24 [==============================] - 0s 3ms/step - loss: 0.4223 - accuracy: 0.7812 - val_loss: 0.4118 - val_accuracy: 0.7987\n",
      "Epoch 84/100\n",
      "24/24 [==============================] - 0s 3ms/step - loss: 0.4227 - accuracy: 0.7786 - val_loss: 0.4107 - val_accuracy: 0.7857\n",
      "Epoch 85/100\n",
      "24/24 [==============================] - 0s 4ms/step - loss: 0.4218 - accuracy: 0.7839 - val_loss: 0.4107 - val_accuracy: 0.7987\n",
      "Epoch 86/100\n",
      "24/24 [==============================] - 0s 3ms/step - loss: 0.4212 - accuracy: 0.7826 - val_loss: 0.4093 - val_accuracy: 0.7857\n",
      "Epoch 87/100\n",
      "24/24 [==============================] - 0s 3ms/step - loss: 0.4207 - accuracy: 0.7826 - val_loss: 0.4118 - val_accuracy: 0.7987\n",
      "Epoch 88/100\n",
      "24/24 [==============================] - 0s 3ms/step - loss: 0.4210 - accuracy: 0.7773 - val_loss: 0.4095 - val_accuracy: 0.7857\n",
      "Epoch 89/100\n",
      "24/24 [==============================] - 0s 3ms/step - loss: 0.4196 - accuracy: 0.7812 - val_loss: 0.4109 - val_accuracy: 0.7987\n",
      "Epoch 90/100\n",
      "24/24 [==============================] - 0s 3ms/step - loss: 0.4191 - accuracy: 0.7839 - val_loss: 0.4079 - val_accuracy: 0.7857\n",
      "Epoch 91/100\n",
      "24/24 [==============================] - 0s 3ms/step - loss: 0.4188 - accuracy: 0.7786 - val_loss: 0.4086 - val_accuracy: 0.7922\n",
      "Epoch 92/100\n",
      "24/24 [==============================] - 0s 3ms/step - loss: 0.4185 - accuracy: 0.7839 - val_loss: 0.4075 - val_accuracy: 0.7922\n",
      "Epoch 93/100\n",
      "24/24 [==============================] - 0s 3ms/step - loss: 0.4180 - accuracy: 0.7773 - val_loss: 0.4076 - val_accuracy: 0.7922\n",
      "Epoch 94/100\n",
      "24/24 [==============================] - 0s 3ms/step - loss: 0.4170 - accuracy: 0.7812 - val_loss: 0.4081 - val_accuracy: 0.7922\n",
      "Epoch 95/100\n",
      "24/24 [==============================] - 0s 3ms/step - loss: 0.4171 - accuracy: 0.7786 - val_loss: 0.4082 - val_accuracy: 0.7922\n",
      "Epoch 96/100\n",
      "24/24 [==============================] - 0s 3ms/step - loss: 0.4171 - accuracy: 0.7878 - val_loss: 0.4090 - val_accuracy: 0.7922\n",
      "Epoch 97/100\n",
      "24/24 [==============================] - 0s 3ms/step - loss: 0.4158 - accuracy: 0.7799 - val_loss: 0.4067 - val_accuracy: 0.7922\n",
      "Epoch 98/100\n",
      "24/24 [==============================] - 0s 3ms/step - loss: 0.4164 - accuracy: 0.7812 - val_loss: 0.4051 - val_accuracy: 0.7922\n",
      "Epoch 99/100\n",
      "24/24 [==============================] - 0s 3ms/step - loss: 0.4152 - accuracy: 0.7799 - val_loss: 0.4064 - val_accuracy: 0.7922\n",
      "Epoch 100/100\n",
      "24/24 [==============================] - 0s 3ms/step - loss: 0.4149 - accuracy: 0.7773 - val_loss: 0.4049 - val_accuracy: 0.7922\n"
     ]
    }
   ],
   "source": [
    "#compile model\n",
    "model.compile(loss=tf.keras.losses.BinaryCrossentropy(from_logits=True),\n",
    "              optimizer=tf.keras.optimizers.Adam(0.001),\n",
    "              metrics=['accuracy']    \n",
    ")\n",
    "\n",
    "#fit the model\n",
    "history = model.fit(\n",
    "    X, y,\n",
    "    validation_data=(X_cv, y_cv),\n",
    "    epochs=100\n",
    ")"
   ]
  },
  {
   "cell_type": "code",
   "execution_count": 13,
   "id": "ea51dbdc-d3f2-4c7b-bbfd-ad1f0b6bcca5",
   "metadata": {
    "ExecuteTime": {
     "end_time": "2023-11-09T16:27:09.665291300Z",
     "start_time": "2023-11-09T16:27:09.661592100Z"
    }
   },
   "outputs": [
    {
     "name": "stdout",
     "output_type": "stream",
     "text": [
      "dict_keys(['loss', 'accuracy', 'val_loss', 'val_accuracy'])\n"
     ]
    }
   ],
   "source": [
    "#list history data\n",
    "print(history.history.keys())"
   ]
  },
  {
   "cell_type": "code",
   "execution_count": 14,
   "id": "c9b97cd6-71ef-40d5-9717-e09ac3bfff6b",
   "metadata": {
    "ExecuteTime": {
     "end_time": "2023-11-09T16:27:09.856651700Z",
     "start_time": "2023-11-09T16:27:09.668474Z"
    }
   },
   "outputs": [
    {
     "data": {
      "text/plain": "<Figure size 640x480 with 1 Axes>",
      "image/png": "[encoded data removed]"
     },
     "metadata": {},
     "output_type": "display_data"
    }
   ],
   "source": [
    "#summarize history for loss\n",
    "plt.plot(history.history['loss'])\n",
    "plt.plot(history.history['val_loss'])\n",
    "plt.title('model loss')\n",
    "plt.ylabel('loss')\n",
    "plt.xlabel('epochs')\n",
    "plt.legend(['train', 'CV'], loc='upper left')\n",
    "plt.show()"
   ]
  },
  {
   "cell_type": "code",
   "execution_count": 15,
   "id": "d4427f2f-e6e6-4935-a6b9-59e8bb824905",
   "metadata": {
    "ExecuteTime": {
     "end_time": "2023-11-09T16:27:10.014048600Z",
     "start_time": "2023-11-09T16:27:09.860670600Z"
    }
   },
   "outputs": [
    {
     "data": {
      "text/plain": "<Figure size 640x480 with 1 Axes>",
      "image/png": "[encoded data removed]"
     },
     "metadata": {},
     "output_type": "display_data"
    }
   ],
   "source": [
    "#summarize history for accuracy\n",
    "plt.plot(history.history['accuracy'])\n",
    "plt.plot(history.history['val_accuracy'])\n",
    "plt.title('model accuracy')\n",
    "plt.ylabel('accuracy')\n",
    "plt.xlabel('epochs')\n",
    "plt.legend(['train', 'test'], loc='upper left')\n",
    "plt.show()"
   ]
  },
  {
   "cell_type": "code",
   "execution_count": 16,
   "id": "1306a2ab-502a-4137-b2cb-93c041da5ca8",
   "metadata": {
    "ExecuteTime": {
     "end_time": "2023-11-09T16:27:10.150057500Z",
     "start_time": "2023-11-09T16:27:10.014048600Z"
    }
   },
   "outputs": [
    {
     "name": "stdout",
     "output_type": "stream",
     "text": [
      "[0, 0, 1, 0, 0, 1, 0, 1, 0, 0, 0, 0, 1, 1, 1, 1, 0, 1, 0, 1, 0, 1, 0, 1, 0, 1, 0, 0, 0, 1, 0, 1, 1, 1, 0, 0, 0, 1, 0, 0, 0, 0, 0, 0, 0, 1, 0, 1, 0, 0, 0, 0, 0, 1, 0, 0, 1, 0, 0, 0, 0, 0, 0, 1, 1, 0, 1, 0, 0, 0, 1, 0, 1, 0, 0, 0, 0, 0, 0, 1, 0, 1, 0, 1, 1, 0, 0, 1, 0, 1, 1, 0, 1, 1, 0, 0, 0, 0, 0, 1, 0, 1, 0, 1, 1, 0, 0, 1, 0, 0, 0, 1, 0, 1, 0, 1, 1, 0, 1, 0, 0, 1, 0, 0, 0, 0, 0, 0, 0, 1, 1, 1, 0, 0, 0, 1, 0, 0, 0, 0, 0, 1, 0, 1, 0, 0, 0, 1, 0, 0, 1, 0, 0, 0, 0, 0, 0, 0, 1, 0, 1, 1, 0, 0, 0, 1, 0, 0, 1, 0, 0, 0, 0, 1, 0, 1, 0, 1, 0, 0, 1, 0, 0, 0, 0, 0, 0, 0, 0, 1, 1, 1, 0, 0, 0, 1, 0, 0, 1, 1, 0, 0, 0, 0, 0, 1, 0, 1, 0, 0, 1, 1, 0, 0, 1, 1, 0, 0, 0, 1, 0, 1, 0, 0, 1, 0, 0, 0, 0, 0, 0, 0, 0, 0, 0, 0, 0, 0, 0, 1, 0, 0, 0, 1, 0, 0, 0, 1, 1, 0, 0, 0, 1, 0, 0, 1, 0, 0, 0, 0, 1, 0, 1, 0, 1, 0, 0, 1, 1, 1, 0, 0, 1, 1, 0, 1, 0, 0, 0, 0, 1, 0, 0, 1, 0, 0, 0, 0, 1, 0, 1, 0, 1, 1, 0, 0, 0, 0, 0, 0, 0, 0, 0, 0, 0, 0, 0, 1, 0, 0, 0, 0, 1, 1, 0, 0, 0, 1, 1, 0, 0, 0, 0, 0, 0, 0, 0, 0, 0, 0, 1, 0, 0, 0, 0, 0, 1, 0, 0, 0, 0, 1, 0, 1, 0, 1, 0, 0, 1, 0, 1, 1, 0, 1, 0, 0, 0, 0, 0, 0, 0, 0, 0, 0, 1, 0, 1, 0, 1, 0, 1, 1, 0, 1, 1, 0, 0, 0, 0, 0, 1, 0, 0, 0, 0, 1, 0, 0, 0, 0, 0, 0, 0, 0, 0, 0, 0, 0, 0, 0, 1, 0, 1, 0, 0, 0, 0, 0, 1, 0, 1, 1, 0, 1, 0, 0, 0, 0, 0, 0, 0, 0, 1, 0, 0, 1, 0, 0, 0, 0, 1, 0, 1, 0, 0, 1, 0, 0, 0, 0, 0, 0, 0, 1, 1, 0, 0, 0, 0, 0, 0, 1, 1, 0, 1, 0, 0, 0, 0, 0]\n"
     ]
    }
   ],
   "source": [
    "#determine the predictions for the training set\n",
    "prediction_train = get_predictions(X_train)\n",
    "print(prediction_train)"
   ]
  },
  {
   "cell_type": "code",
   "execution_count": 17,
   "id": "e8bc2edf-84f6-4f41-85bb-f995972b0104",
   "metadata": {
    "ExecuteTime": {
     "end_time": "2023-11-09T16:27:10.152886300Z",
     "start_time": "2023-11-09T16:27:10.143924800Z"
    }
   },
   "outputs": [
    {
     "name": "stdout",
     "output_type": "stream",
     "text": [
      "Accuracy: 80.00%\n"
     ]
    }
   ],
   "source": [
    "calculate_accuracy(y_train, prediction_train)"
   ]
  },
  {
   "cell_type": "code",
   "execution_count": 18,
   "id": "7696c801-efe6-44a5-b580-92079d158964",
   "metadata": {
    "ExecuteTime": {
     "end_time": "2023-11-09T16:27:10.270710900Z",
     "start_time": "2023-11-09T16:27:10.152886300Z"
    }
   },
   "outputs": [
    {
     "name": "stdout",
     "output_type": "stream",
     "text": [
      "Precision: 0.76\n",
      "Recall: 0.64\n",
      "F1 Score: 0.70\n"
     ]
    },
    {
     "data": {
      "text/plain": "<Figure size 640x480 with 1 Axes>",
      "image/png": "[encoded data removed]"
     },
     "metadata": {},
     "output_type": "display_data"
    }
   ],
   "source": [
    "print_confusion_matrix(y_train, prediction_train)"
   ]
  },
  {
   "cell_type": "code",
   "execution_count": 19,
   "id": "3269aabb-da4a-40b6-a6db-9719c84610cc",
   "metadata": {
    "ExecuteTime": {
     "end_time": "2023-11-09T16:27:10.369175300Z",
     "start_time": "2023-11-09T16:27:10.267668600Z"
    }
   },
   "outputs": [],
   "source": [
    "#determine the accuracy for cv set\n",
    "prediction_cv = get_predictions(X_cv)\n"
   ]
  },
  {
   "cell_type": "code",
   "execution_count": 20,
   "id": "81543c39-d4b8-4ca1-bc94-4242886f5d1d",
   "metadata": {
    "ExecuteTime": {
     "end_time": "2023-11-09T16:27:10.389402100Z",
     "start_time": "2023-11-09T16:27:10.308071500Z"
    }
   },
   "outputs": [
    {
     "name": "stdout",
     "output_type": "stream",
     "text": [
      "Accuracy: 75.97%\n"
     ]
    }
   ],
   "source": [
    "calculate_accuracy(y_cv, prediction_cv)"
   ]
  },
  {
   "cell_type": "code",
   "execution_count": 21,
   "id": "a8ae5746-7b1a-4d00-af6d-355d1c7951b6",
   "metadata": {
    "ExecuteTime": {
     "end_time": "2023-11-09T16:27:10.477455800Z",
     "start_time": "2023-11-09T16:27:10.313454900Z"
    }
   },
   "outputs": [
    {
     "name": "stdout",
     "output_type": "stream",
     "text": [
      "Precision: 0.60\n",
      "Recall: 0.53\n",
      "F1 Score: 0.56\n"
     ]
    },
    {
     "data": {
      "text/plain": "<Figure size 640x480 with 1 Axes>",
      "image/png": "[encoded data removed]"
     },
     "metadata": {},
     "output_type": "display_data"
    }
   ],
   "source": [
    "print_confusion_matrix(y_cv, prediction_cv)"
   ]
  },
  {
   "cell_type": "code",
   "execution_count": 22,
   "id": "264d4cdf-9380-4528-91de-37d92ed3996e",
   "metadata": {
    "ExecuteTime": {
     "end_time": "2023-11-09T16:27:10.542085200Z",
     "start_time": "2023-11-09T16:27:10.416622300Z"
    }
   },
   "outputs": [
    {
     "name": "stdout",
     "output_type": "stream",
     "text": [
      "Evaluate on test Data\n",
      "5/5 [==============================] - 0s 2ms/step - loss: 0.4061 - accuracy: 0.7857\n",
      "test loss, test acc: [0.40609464049339294, 0.7857142686843872]\n"
     ]
    }
   ],
   "source": [
    "#evaluate model on test set\n",
    "print(\"Evaluate on test Data\")\n",
    "results = model.evaluate(X_test, y_test)\n",
    "print(f\"test loss, test acc: {results}\")"
   ]
  },
  {
   "cell_type": "code",
   "execution_count": 23,
   "id": "4dadc927-75d3-4be7-be22-0efe4ad5839d",
   "metadata": {
    "ExecuteTime": {
     "end_time": "2023-11-09T16:27:10.636054700Z",
     "start_time": "2023-11-09T16:27:10.499157800Z"
    }
   },
   "outputs": [],
   "source": [
    "#determine the accuracy for test set\n",
    "prediction_test = get_predictions(X_test)\n"
   ]
  },
  {
   "cell_type": "code",
   "execution_count": 24,
   "id": "c1b17309-6303-45f2-9602-bcade00c9acc",
   "metadata": {
    "ExecuteTime": {
     "end_time": "2023-11-09T16:27:10.657616700Z",
     "start_time": "2023-11-09T16:27:10.542085200Z"
    }
   },
   "outputs": [
    {
     "name": "stdout",
     "output_type": "stream",
     "text": [
      "Accuracy: 82.47%\n"
     ]
    }
   ],
   "source": [
    "calculate_accuracy(y_test, prediction_test)"
   ]
  },
  {
   "cell_type": "code",
   "execution_count": 25,
   "id": "b3da12a3-5500-4fd3-b645-a6925da749e4",
   "metadata": {
    "ExecuteTime": {
     "end_time": "2023-11-09T16:27:10.657616700Z",
     "start_time": "2023-11-09T16:27:10.545369900Z"
    }
   },
   "outputs": [
    {
     "name": "stdout",
     "output_type": "stream",
     "text": [
      "Precision: 0.82\n",
      "Recall: 0.69\n",
      "F1 Score: 0.75\n"
     ]
    },
    {
     "data": {
      "text/plain": "<Figure size 640x480 with 1 Axes>",
      "image/png": "[encoded data removed]"
     },
     "metadata": {},
     "output_type": "display_data"
    }
   ],
   "source": [
    "print_confusion_matrix(y_test, prediction_test)"
   ]
  },
  {
   "cell_type": "code",
   "execution_count": 25,
   "id": "2752ca8e-a7b2-4f11-be7a-73eea3c2f6b8",
   "metadata": {
    "ExecuteTime": {
     "end_time": "2023-11-09T16:27:10.661629200Z",
     "start_time": "2023-11-09T16:27:10.647379600Z"
    }
   },
   "outputs": [],
   "source": []
  }
 ],
 "metadata": {
  "kernelspec": {
   "name": "python311",
   "language": "python",
   "display_name": "Python 3.11"
  },
  "language_info": {
   "codemirror_mode": {
    "name": "ipython",
    "version": 3
   },
   "file_extension": ".py",
   "mimetype": "text/x-python",
   "name": "python",
   "nbconvert_exporter": "python",
   "pygments_lexer": "ipython3",
   "version": "3.11.6"
  }
 },
 "nbformat": 4,
 "nbformat_minor": 5
}
