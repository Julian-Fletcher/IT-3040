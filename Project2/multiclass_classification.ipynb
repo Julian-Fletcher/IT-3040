{
 "cells": [
  {
   "cell_type": "code",
   "execution_count": 33,
   "id": "initial_id",
   "metadata": {
    "ExecuteTime": {
     "end_time": "2023-11-12T05:48:47.761956900Z",
     "start_time": "2023-11-12T05:48:47.702753400Z"
    },
    "collapsed": true
   },
   "outputs": [],
   "source": [
    "import os\n",
    "import cv2\n",
    "import matplotlib.pyplot as plt\n",
    "import numpy as np\n",
    "import pandas as pd\n",
    "import tensorflow as tf\n",
    "from tensorflow.keras.models import Sequential\n",
    "from tensorflow.keras.layers import Dense\n",
    "from sklearn.preprocessing import StandardScaler\n",
    "from sklearn.model_selection import train_test_split\n",
    "from tensorflow.keras.regularizers import l2\n",
    "import math\n",
    "from mlxtend.plotting import plot_confusion_matrix\n",
    "from sklearn.metrics import precision_score, recall_score, f1_score\n",
    "from sklearn.metrics import confusion_matrix"
   ]
  },
  {
   "cell_type": "code",
   "execution_count": 34,
   "id": "66d0f9df55ae35f5",
   "metadata": {
    "ExecuteTime": {
     "end_time": "2023-11-12T05:48:47.762974500Z",
     "start_time": "2023-11-12T05:48:47.708184800Z"
    },
    "collapsed": false
   },
   "outputs": [],
   "source": [
    "def calculate_accuracy(labels, predictions):\n",
    "    \n",
    "    # Calculate the number of correct predictions by comparing 'labels' and 'predictions'\n",
    "    correct_predictions = np.sum(labels == predictions)\n",
    "    \n",
    "    # Calculate the total number of predictions\n",
    "    total_predictions = len(labels)\n",
    "    \n",
    "    # Calculate the accuracy as a percentage\n",
    "    accuracy_percentage = (correct_predictions / total_predictions) * 100.0\n",
    "    \n",
    "    print(f\"Accuracy: {accuracy_percentage:.2f}%\")"
   ]
  },
  {
   "cell_type": "code",
   "execution_count": 35,
   "id": "edfb326fb152aa16",
   "metadata": {
    "ExecuteTime": {
     "end_time": "2023-11-12T05:48:47.762974500Z",
     "start_time": "2023-11-12T05:48:47.711540800Z"
    },
    "collapsed": false
   },
   "outputs": [],
   "source": [
    "def get_predictions(feature_data):\n",
    "\n",
    "    prediction = model.predict(feature_data)\n",
    "    \n",
    "    predictions = np.argmax(prediction, axis=1)\n",
    "\n",
    "    return predictions\n",
    "    \n"
   ]
  },
  {
   "cell_type": "code",
   "execution_count": 36,
   "id": "e670ba493134f1ad",
   "metadata": {
    "ExecuteTime": {
     "end_time": "2023-11-12T05:48:47.802916900Z",
     "start_time": "2023-11-12T05:48:47.715909200Z"
    },
    "collapsed": false
   },
   "outputs": [],
   "source": [
    "def load_data(data_dir, IMG_WIDTH, IMG_HEIGHT, NUM_CATEGORIES):\n",
    "    images = []\n",
    "    labels = []\n",
    "    \n",
    "    #loop through folders\n",
    "    for category in range(NUM_CATEGORIES):\n",
    "        category_dir = os.path.join(data_dir, str(category))\n",
    "        \n",
    "        #loop through images in the class folder\n",
    "        for filename in os.listdir(category_dir):\n",
    "            if filename.endswith(\".ppm\"):\n",
    "                img_path = os.path.join(category_dir, filename)\n",
    "                img = cv2.imread(img_path)\n",
    "                img = cv2.resize(img, (IMG_WIDTH, IMG_HEIGHT))\n",
    "                images.append(img)\n",
    "                labels.append(category)\n",
    "                \n",
    "    return  (np.array(images), np.array(labels))"
   ]
  },
  {
   "cell_type": "code",
   "execution_count": 37,
   "id": "b9e601bca7284080",
   "metadata": {
    "ExecuteTime": {
     "end_time": "2023-11-12T05:48:50.035590500Z",
     "start_time": "2023-11-12T05:48:47.720846100Z"
    },
    "collapsed": false
   },
   "outputs": [],
   "source": [
    "data_dir = \"gtsrb\"\n",
    "IMG_HEIGHT = 30\n",
    "IMG_WIDTH = 30\n",
    "NUM_CATEGORIES = 43 #will need to change\n",
    "\n",
    "images, labels = load_data(data_dir, IMG_WIDTH, IMG_HEIGHT, NUM_CATEGORIES)\n"
   ]
  },
  {
   "cell_type": "code",
   "execution_count": 38,
   "id": "bc25c531e83b1d2",
   "metadata": {
    "ExecuteTime": {
     "end_time": "2023-11-12T05:48:50.047601600Z",
     "start_time": "2023-11-12T05:48:50.037091Z"
    },
    "collapsed": false
   },
   "outputs": [
    {
     "name": "stdout",
     "output_type": "stream",
     "text": [
      "(26640, 30, 30, 3)\n"
     ]
    }
   ],
   "source": [
    "print(images.shape)"
   ]
  },
  {
   "cell_type": "code",
   "execution_count": 39,
   "id": "e8da4cac9d945c53",
   "metadata": {
    "ExecuteTime": {
     "end_time": "2023-11-12T05:48:50.063924500Z",
     "start_time": "2023-11-12T05:48:50.039628700Z"
    },
    "collapsed": false
   },
   "outputs": [],
   "source": [
    "reshaped_images = images.reshape(images.shape[0], -1)"
   ]
  },
  {
   "cell_type": "code",
   "execution_count": 40,
   "id": "4b45d66e4688ce8a",
   "metadata": {
    "ExecuteTime": {
     "end_time": "2023-11-12T05:48:50.063924500Z",
     "start_time": "2023-11-12T05:48:50.052406400Z"
    },
    "collapsed": false
   },
   "outputs": [
    {
     "name": "stdout",
     "output_type": "stream",
     "text": [
      "(26640, 2700)\n"
     ]
    }
   ],
   "source": [
    "print(reshaped_images.shape)"
   ]
  },
  {
   "cell_type": "code",
   "execution_count": 41,
   "id": "869156d56f1cea79",
   "metadata": {
    "ExecuteTime": {
     "end_time": "2023-11-12T05:48:51.237707600Z",
     "start_time": "2023-11-12T05:48:50.057923600Z"
    },
    "collapsed": false
   },
   "outputs": [
    {
     "name": "stdout",
     "output_type": "stream",
     "text": [
      "X shape: (26640, 2700)\n",
      "labels shape: (26640,)\n",
      "[-0.09012238 -0.12703477 -0.1921687  ...  0.34549546  0.44860326\n",
      "  0.30360699]\n"
     ]
    }
   ],
   "source": [
    "#create scaler object\n",
    "scaler = StandardScaler()\n",
    "\n",
    "X = scaler.fit_transform(reshaped_images)\n",
    "\n",
    "print(f\"X shape: {X.shape}\")\n",
    "print(f\"labels shape: {labels.shape}\")\n",
    "\n",
    "print(X[0])"
   ]
  },
  {
   "cell_type": "code",
   "execution_count": 42,
   "id": "8bc5d0019604a587",
   "metadata": {
    "ExecuteTime": {
     "end_time": "2023-11-12T05:48:51.522450500Z",
     "start_time": "2023-11-12T05:48:51.238719Z"
    },
    "collapsed": false
   },
   "outputs": [
    {
     "name": "stdout",
     "output_type": "stream",
     "text": [
      "X_train shape: (15984, 2700)\n",
      "X_test shape: (5328, 2700)\n",
      "X_cv shape: (5328, 2700)\n",
      "y_train shape: (15984,)\n",
      "y_test shape: (5328,)\n",
      "y_cv shape: (5328,)\n"
     ]
    }
   ],
   "source": [
    "# split  data into training, CV, test sets\n",
    "# use the train_test_split modules\n",
    "X_train, X_test, y_train, y_test = train_test_split(X, labels, test_size=0.4, random_state=35)\n",
    "\n",
    "#split test set 50:50 for the CV and test sets\n",
    "X_test, X_cv, y_test, y_cv = train_test_split(X_test, y_test, test_size=0.5)\n",
    "\n",
    "#Print the shapes of the resulting sets\n",
    "print(f\"X_train shape: {X_train.shape}\")\n",
    "print(f\"X_test shape: {X_test.shape}\")\n",
    "print(f\"X_cv shape: {X_cv.shape}\")\n",
    "\n",
    "print(f\"y_train shape: {y_train.shape}\")\n",
    "print(f\"y_test shape: {y_test.shape}\")\n",
    "print(f\"y_cv shape: {y_cv.shape}\")\n"
   ]
  },
  {
   "cell_type": "code",
   "execution_count": 43,
   "id": "9044d050b158e429",
   "metadata": {
    "ExecuteTime": {
     "end_time": "2023-11-12T05:48:51.522450500Z",
     "start_time": "2023-11-12T05:48:51.514443800Z"
    },
    "collapsed": false
   },
   "outputs": [
    {
     "name": "stdout",
     "output_type": "stream",
     "text": [
      "Num classes:  43\n"
     ]
    }
   ],
   "source": [
    "num_classes = len(np.unique(labels))\n",
    "print(\"Num classes: \", num_classes)"
   ]
  },
  {
   "cell_type": "code",
   "execution_count": 44,
   "id": "8b3746588a40d3d8",
   "metadata": {
    "ExecuteTime": {
     "end_time": "2023-11-12T05:48:51.575723500Z",
     "start_time": "2023-11-12T05:48:51.518451600Z"
    },
    "collapsed": false
   },
   "outputs": [],
   "source": [
    "#create model\n",
    "model = Sequential([\n",
    "    tf.keras.Input(shape=(2700,)),\n",
    "    Dense(32, activation='relu', kernel_regularizer=l2(0.0)),\n",
    "    Dense(16, activation='relu', kernel_regularizer=l2(0.0)),\n",
    "    Dense(64, activation='relu', kernel_regularizer=l2(0.0)),\n",
    "    Dense(10, activation='relu', kernel_regularizer=l2(0.0)),\n",
    "    Dense(num_classes, activation='linear')\n",
    "])"
   ]
  },
  {
   "cell_type": "code",
   "execution_count": 45,
   "id": "3ecf2a469f7aaa5a",
   "metadata": {
    "ExecuteTime": {
     "end_time": "2023-11-12T05:48:51.591763800Z",
     "start_time": "2023-11-12T05:48:51.575723500Z"
    },
    "collapsed": false
   },
   "outputs": [
    {
     "name": "stdout",
     "output_type": "stream",
     "text": [
      "Model: \"sequential_1\"\n",
      "_________________________________________________________________\n",
      " Layer (type)                Output Shape              Param #   \n",
      "=================================================================\n",
      " dense_5 (Dense)             (None, 32)                86432     \n",
      "                                                                 \n",
      " dense_6 (Dense)             (None, 16)                528       \n",
      "                                                                 \n",
      " dense_7 (Dense)             (None, 64)                1088      \n",
      "                                                                 \n",
      " dense_8 (Dense)             (None, 10)                650       \n",
      "                                                                 \n",
      " dense_9 (Dense)             (None, 43)                473       \n",
      "                                                                 \n",
      "=================================================================\n",
      "Total params: 89171 (348.32 KB)\n",
      "Trainable params: 89171 (348.32 KB)\n",
      "Non-trainable params: 0 (0.00 Byte)\n",
      "_________________________________________________________________\n"
     ]
    }
   ],
   "source": [
    "#print model summary\n",
    "model.summary()"
   ]
  },
  {
   "cell_type": "code",
   "execution_count": 46,
   "id": "7d876161b492c372",
   "metadata": {
    "ExecuteTime": {
     "end_time": "2023-11-12T05:50:59.096860Z",
     "start_time": "2023-11-12T05:48:51.586761300Z"
    },
    "collapsed": false
   },
   "outputs": [
    {
     "name": "stdout",
     "output_type": "stream",
     "text": [
      "Epoch 1/100\n",
      "833/833 [==============================] - 2s 2ms/step - loss: 2.3652 - accuracy: 0.3486 - val_loss: 1.3724 - val_accuracy: 0.5709\n",
      "Epoch 2/100\n",
      "833/833 [==============================] - 1s 2ms/step - loss: 1.1448 - accuracy: 0.6425 - val_loss: 1.1267 - val_accuracy: 0.6762\n",
      "Epoch 3/100\n",
      "833/833 [==============================] - 1s 2ms/step - loss: 0.7807 - accuracy: 0.7582 - val_loss: 0.6475 - val_accuracy: 0.7973\n",
      "Epoch 4/100\n",
      "833/833 [==============================] - 1s 2ms/step - loss: 0.6020 - accuracy: 0.8166 - val_loss: 0.5051 - val_accuracy: 0.8392\n",
      "Epoch 5/100\n",
      "833/833 [==============================] - 1s 2ms/step - loss: 0.5058 - accuracy: 0.8435 - val_loss: 0.4558 - val_accuracy: 0.8560\n",
      "Epoch 6/100\n",
      "833/833 [==============================] - 1s 2ms/step - loss: 0.4549 - accuracy: 0.8604 - val_loss: 0.4468 - val_accuracy: 0.8609\n",
      "Epoch 7/100\n",
      "833/833 [==============================] - 1s 2ms/step - loss: 0.4122 - accuracy: 0.8720 - val_loss: 0.3634 - val_accuracy: 0.8804\n",
      "Epoch 8/100\n",
      "833/833 [==============================] - 1s 2ms/step - loss: 0.3577 - accuracy: 0.8892 - val_loss: 0.2860 - val_accuracy: 0.9082\n",
      "Epoch 9/100\n",
      "833/833 [==============================] - 1s 2ms/step - loss: 0.3637 - accuracy: 0.8884 - val_loss: 0.3123 - val_accuracy: 0.8973\n",
      "Epoch 10/100\n",
      "833/833 [==============================] - 1s 2ms/step - loss: 0.3201 - accuracy: 0.8988 - val_loss: 0.3061 - val_accuracy: 0.8975\n",
      "Epoch 11/100\n",
      "833/833 [==============================] - 1s 2ms/step - loss: 0.3043 - accuracy: 0.9043 - val_loss: 0.2125 - val_accuracy: 0.9315\n",
      "Epoch 12/100\n",
      "833/833 [==============================] - 1s 2ms/step - loss: 0.2808 - accuracy: 0.9126 - val_loss: 0.3058 - val_accuracy: 0.8985\n",
      "Epoch 13/100\n",
      "833/833 [==============================] - 1s 2ms/step - loss: 0.2786 - accuracy: 0.9129 - val_loss: 0.2240 - val_accuracy: 0.9307\n",
      "Epoch 14/100\n",
      "833/833 [==============================] - 1s 2ms/step - loss: 0.2574 - accuracy: 0.9216 - val_loss: 0.3685 - val_accuracy: 0.8791\n",
      "Epoch 15/100\n",
      "833/833 [==============================] - 1s 2ms/step - loss: 0.2410 - accuracy: 0.9253 - val_loss: 0.2203 - val_accuracy: 0.9285\n",
      "Epoch 16/100\n",
      "833/833 [==============================] - 1s 2ms/step - loss: 0.2568 - accuracy: 0.9202 - val_loss: 0.2304 - val_accuracy: 0.9244\n",
      "Epoch 17/100\n",
      "833/833 [==============================] - 1s 1ms/step - loss: 0.2256 - accuracy: 0.9282 - val_loss: 0.1698 - val_accuracy: 0.9422\n",
      "Epoch 18/100\n",
      "833/833 [==============================] - 1s 1ms/step - loss: 0.2271 - accuracy: 0.9295 - val_loss: 0.1571 - val_accuracy: 0.9503\n",
      "Epoch 19/100\n",
      "833/833 [==============================] - 1s 1ms/step - loss: 0.2180 - accuracy: 0.9322 - val_loss: 0.2326 - val_accuracy: 0.9219\n",
      "Epoch 20/100\n",
      "833/833 [==============================] - 1s 2ms/step - loss: 0.1906 - accuracy: 0.9398 - val_loss: 0.1261 - val_accuracy: 0.9628\n",
      "Epoch 21/100\n",
      "833/833 [==============================] - 1s 2ms/step - loss: 0.2130 - accuracy: 0.9337 - val_loss: 0.1632 - val_accuracy: 0.9431\n",
      "Epoch 22/100\n",
      "833/833 [==============================] - 1s 1ms/step - loss: 0.2000 - accuracy: 0.9382 - val_loss: 0.3167 - val_accuracy: 0.8960\n",
      "Epoch 23/100\n",
      "833/833 [==============================] - 1s 2ms/step - loss: 0.1775 - accuracy: 0.9446 - val_loss: 0.1605 - val_accuracy: 0.9491\n",
      "Epoch 24/100\n",
      "833/833 [==============================] - 1s 1ms/step - loss: 0.1941 - accuracy: 0.9389 - val_loss: 0.1576 - val_accuracy: 0.9478\n",
      "Epoch 25/100\n",
      "833/833 [==============================] - 1s 1ms/step - loss: 0.1805 - accuracy: 0.9426 - val_loss: 0.1750 - val_accuracy: 0.9437\n",
      "Epoch 26/100\n",
      "833/833 [==============================] - 1s 1ms/step - loss: 0.1667 - accuracy: 0.9464 - val_loss: 0.1483 - val_accuracy: 0.9456\n",
      "Epoch 27/100\n",
      "833/833 [==============================] - 1s 2ms/step - loss: 0.1879 - accuracy: 0.9436 - val_loss: 0.2040 - val_accuracy: 0.9407\n",
      "Epoch 28/100\n",
      "833/833 [==============================] - 1s 2ms/step - loss: 0.1728 - accuracy: 0.9464 - val_loss: 0.1288 - val_accuracy: 0.9581\n",
      "Epoch 29/100\n",
      "833/833 [==============================] - 1s 1ms/step - loss: 0.1671 - accuracy: 0.9483 - val_loss: 0.2938 - val_accuracy: 0.9154\n",
      "Epoch 30/100\n",
      "833/833 [==============================] - 1s 1ms/step - loss: 0.1703 - accuracy: 0.9470 - val_loss: 0.1337 - val_accuracy: 0.9570\n",
      "Epoch 31/100\n",
      "833/833 [==============================] - 1s 2ms/step - loss: 0.1509 - accuracy: 0.9523 - val_loss: 0.1252 - val_accuracy: 0.9596\n",
      "Epoch 32/100\n",
      "833/833 [==============================] - 1s 2ms/step - loss: 0.1617 - accuracy: 0.9508 - val_loss: 0.0926 - val_accuracy: 0.9692\n",
      "Epoch 33/100\n",
      "833/833 [==============================] - 1s 2ms/step - loss: 0.1454 - accuracy: 0.9545 - val_loss: 0.2295 - val_accuracy: 0.9242\n",
      "Epoch 34/100\n",
      "833/833 [==============================] - 1s 2ms/step - loss: 0.1702 - accuracy: 0.9481 - val_loss: 0.0978 - val_accuracy: 0.9681\n",
      "Epoch 35/100\n",
      "833/833 [==============================] - 1s 1ms/step - loss: 0.1371 - accuracy: 0.9560 - val_loss: 0.1777 - val_accuracy: 0.9375\n",
      "Epoch 36/100\n",
      "833/833 [==============================] - 1s 2ms/step - loss: 0.1436 - accuracy: 0.9553 - val_loss: 0.1030 - val_accuracy: 0.9670\n",
      "Epoch 37/100\n",
      "833/833 [==============================] - 1s 2ms/step - loss: 0.1407 - accuracy: 0.9566 - val_loss: 0.2048 - val_accuracy: 0.9306\n",
      "Epoch 38/100\n",
      "833/833 [==============================] - 1s 1ms/step - loss: 0.1339 - accuracy: 0.9579 - val_loss: 0.1887 - val_accuracy: 0.9345\n",
      "Epoch 39/100\n",
      "833/833 [==============================] - 1s 2ms/step - loss: 0.1348 - accuracy: 0.9591 - val_loss: 0.0952 - val_accuracy: 0.9683\n",
      "Epoch 40/100\n",
      "833/833 [==============================] - 1s 1ms/step - loss: 0.1412 - accuracy: 0.9556 - val_loss: 0.0953 - val_accuracy: 0.9670\n",
      "Epoch 41/100\n",
      "833/833 [==============================] - 1s 2ms/step - loss: 0.1419 - accuracy: 0.9572 - val_loss: 0.1481 - val_accuracy: 0.9512\n",
      "Epoch 42/100\n",
      "833/833 [==============================] - 1s 2ms/step - loss: 0.1294 - accuracy: 0.9605 - val_loss: 0.0759 - val_accuracy: 0.9764\n",
      "Epoch 43/100\n",
      "833/833 [==============================] - 1s 2ms/step - loss: 0.1169 - accuracy: 0.9632 - val_loss: 0.1312 - val_accuracy: 0.9623\n",
      "Epoch 44/100\n",
      "833/833 [==============================] - 1s 2ms/step - loss: 0.1323 - accuracy: 0.9594 - val_loss: 0.1571 - val_accuracy: 0.9489\n",
      "Epoch 45/100\n",
      "833/833 [==============================] - 1s 2ms/step - loss: 0.1221 - accuracy: 0.9614 - val_loss: 0.1279 - val_accuracy: 0.9613\n",
      "Epoch 46/100\n",
      "833/833 [==============================] - 1s 2ms/step - loss: 0.1116 - accuracy: 0.9634 - val_loss: 0.0557 - val_accuracy: 0.9805\n",
      "Epoch 47/100\n",
      "833/833 [==============================] - 1s 2ms/step - loss: 0.1313 - accuracy: 0.9598 - val_loss: 0.0713 - val_accuracy: 0.9769\n",
      "Epoch 48/100\n",
      "833/833 [==============================] - 1s 2ms/step - loss: 0.1164 - accuracy: 0.9644 - val_loss: 0.1107 - val_accuracy: 0.9647\n",
      "Epoch 49/100\n",
      "833/833 [==============================] - 1s 2ms/step - loss: 0.1242 - accuracy: 0.9614 - val_loss: 0.0979 - val_accuracy: 0.9685\n",
      "Epoch 50/100\n",
      "833/833 [==============================] - 1s 2ms/step - loss: 0.1086 - accuracy: 0.9643 - val_loss: 0.0881 - val_accuracy: 0.9717\n",
      "Epoch 51/100\n",
      "833/833 [==============================] - 1s 2ms/step - loss: 0.1071 - accuracy: 0.9669 - val_loss: 0.0979 - val_accuracy: 0.9690\n",
      "Epoch 52/100\n",
      "833/833 [==============================] - 1s 1ms/step - loss: 0.1150 - accuracy: 0.9638 - val_loss: 0.0536 - val_accuracy: 0.9837\n",
      "Epoch 53/100\n",
      "833/833 [==============================] - 1s 2ms/step - loss: 0.1031 - accuracy: 0.9678 - val_loss: 0.1143 - val_accuracy: 0.9627\n",
      "Epoch 54/100\n",
      "833/833 [==============================] - 1s 2ms/step - loss: 0.1038 - accuracy: 0.9679 - val_loss: 0.1217 - val_accuracy: 0.9636\n",
      "Epoch 55/100\n",
      "833/833 [==============================] - 1s 2ms/step - loss: 0.1194 - accuracy: 0.9627 - val_loss: 0.0828 - val_accuracy: 0.9720\n",
      "Epoch 56/100\n",
      "833/833 [==============================] - 1s 2ms/step - loss: 0.1062 - accuracy: 0.9678 - val_loss: 0.0694 - val_accuracy: 0.9748\n",
      "Epoch 57/100\n",
      "833/833 [==============================] - 1s 1ms/step - loss: 0.1209 - accuracy: 0.9643 - val_loss: 0.0723 - val_accuracy: 0.9762\n",
      "Epoch 58/100\n",
      "833/833 [==============================] - 1s 2ms/step - loss: 0.0998 - accuracy: 0.9698 - val_loss: 0.1228 - val_accuracy: 0.9583\n",
      "Epoch 59/100\n",
      "833/833 [==============================] - 1s 2ms/step - loss: 0.1029 - accuracy: 0.9676 - val_loss: 0.1144 - val_accuracy: 0.9643\n",
      "Epoch 60/100\n",
      "833/833 [==============================] - 1s 1ms/step - loss: 0.1157 - accuracy: 0.9637 - val_loss: 0.1366 - val_accuracy: 0.9595\n",
      "Epoch 61/100\n",
      "833/833 [==============================] - 1s 2ms/step - loss: 0.0983 - accuracy: 0.9689 - val_loss: 0.0603 - val_accuracy: 0.9818\n",
      "Epoch 62/100\n",
      "833/833 [==============================] - 1s 2ms/step - loss: 0.0867 - accuracy: 0.9710 - val_loss: 0.0460 - val_accuracy: 0.9844\n",
      "Epoch 63/100\n",
      "833/833 [==============================] - 1s 2ms/step - loss: 0.1027 - accuracy: 0.9681 - val_loss: 0.1767 - val_accuracy: 0.9439\n",
      "Epoch 64/100\n",
      "833/833 [==============================] - 1s 1ms/step - loss: 0.0832 - accuracy: 0.9734 - val_loss: 0.0710 - val_accuracy: 0.9782\n",
      "Epoch 65/100\n",
      "833/833 [==============================] - 1s 1ms/step - loss: 0.1206 - accuracy: 0.9637 - val_loss: 0.0799 - val_accuracy: 0.9717\n",
      "Epoch 66/100\n",
      "833/833 [==============================] - 1s 1ms/step - loss: 0.0897 - accuracy: 0.9717 - val_loss: 0.0535 - val_accuracy: 0.9824\n",
      "Epoch 67/100\n",
      "833/833 [==============================] - 1s 1ms/step - loss: 0.0861 - accuracy: 0.9737 - val_loss: 0.0800 - val_accuracy: 0.9758\n",
      "Epoch 68/100\n",
      "833/833 [==============================] - 1s 2ms/step - loss: 0.0986 - accuracy: 0.9708 - val_loss: 0.0893 - val_accuracy: 0.9702\n",
      "Epoch 69/100\n",
      "833/833 [==============================] - 1s 1ms/step - loss: 0.0971 - accuracy: 0.9706 - val_loss: 0.0481 - val_accuracy: 0.9857\n",
      "Epoch 70/100\n",
      "833/833 [==============================] - 1s 2ms/step - loss: 0.0798 - accuracy: 0.9745 - val_loss: 0.1576 - val_accuracy: 0.9510\n",
      "Epoch 71/100\n",
      "833/833 [==============================] - 1s 2ms/step - loss: 0.0962 - accuracy: 0.9713 - val_loss: 0.0464 - val_accuracy: 0.9852\n",
      "Epoch 72/100\n",
      "833/833 [==============================] - 1s 2ms/step - loss: 0.0863 - accuracy: 0.9733 - val_loss: 0.0515 - val_accuracy: 0.9848\n",
      "Epoch 73/100\n",
      "833/833 [==============================] - 1s 2ms/step - loss: 0.0936 - accuracy: 0.9705 - val_loss: 0.0482 - val_accuracy: 0.9857\n",
      "Epoch 74/100\n",
      "833/833 [==============================] - 1s 2ms/step - loss: 0.0825 - accuracy: 0.9743 - val_loss: 0.0628 - val_accuracy: 0.9794\n",
      "Epoch 75/100\n",
      "833/833 [==============================] - 1s 2ms/step - loss: 0.0953 - accuracy: 0.9700 - val_loss: 0.0606 - val_accuracy: 0.9812\n",
      "Epoch 76/100\n",
      "833/833 [==============================] - 1s 2ms/step - loss: 0.0740 - accuracy: 0.9776 - val_loss: 0.0653 - val_accuracy: 0.9803\n",
      "Epoch 77/100\n",
      "833/833 [==============================] - 1s 2ms/step - loss: 0.1027 - accuracy: 0.9693 - val_loss: 0.0563 - val_accuracy: 0.9807\n",
      "Epoch 78/100\n",
      "833/833 [==============================] - 1s 2ms/step - loss: 0.0897 - accuracy: 0.9729 - val_loss: 0.1282 - val_accuracy: 0.9615\n",
      "Epoch 79/100\n",
      "833/833 [==============================] - 1s 2ms/step - loss: 0.0834 - accuracy: 0.9740 - val_loss: 0.0572 - val_accuracy: 0.9809\n",
      "Epoch 80/100\n",
      "833/833 [==============================] - 1s 2ms/step - loss: 0.0834 - accuracy: 0.9747 - val_loss: 0.0427 - val_accuracy: 0.9872\n",
      "Epoch 81/100\n",
      "833/833 [==============================] - 1s 2ms/step - loss: 0.1001 - accuracy: 0.9697 - val_loss: 0.1224 - val_accuracy: 0.9595\n",
      "Epoch 82/100\n",
      "833/833 [==============================] - 1s 2ms/step - loss: 0.0762 - accuracy: 0.9760 - val_loss: 0.0635 - val_accuracy: 0.9765\n",
      "Epoch 83/100\n",
      "833/833 [==============================] - 1s 2ms/step - loss: 0.0874 - accuracy: 0.9737 - val_loss: 0.0267 - val_accuracy: 0.9925\n",
      "Epoch 84/100\n",
      "833/833 [==============================] - 1s 2ms/step - loss: 0.1077 - accuracy: 0.9690 - val_loss: 0.0456 - val_accuracy: 0.9844\n",
      "Epoch 85/100\n",
      "833/833 [==============================] - 1s 2ms/step - loss: 0.0787 - accuracy: 0.9764 - val_loss: 0.0787 - val_accuracy: 0.9720\n",
      "Epoch 86/100\n",
      "833/833 [==============================] - 1s 2ms/step - loss: 0.0709 - accuracy: 0.9774 - val_loss: 0.0935 - val_accuracy: 0.9711\n",
      "Epoch 87/100\n",
      "833/833 [==============================] - 1s 2ms/step - loss: 0.0784 - accuracy: 0.9760 - val_loss: 0.0772 - val_accuracy: 0.9760\n",
      "Epoch 88/100\n",
      "833/833 [==============================] - 1s 1ms/step - loss: 0.0786 - accuracy: 0.9750 - val_loss: 0.0757 - val_accuracy: 0.9764\n",
      "Epoch 89/100\n",
      "833/833 [==============================] - 1s 2ms/step - loss: 0.0925 - accuracy: 0.9715 - val_loss: 0.1947 - val_accuracy: 0.9456\n",
      "Epoch 90/100\n",
      "833/833 [==============================] - 1s 2ms/step - loss: 0.0822 - accuracy: 0.9745 - val_loss: 0.0398 - val_accuracy: 0.9863\n",
      "Epoch 91/100\n",
      "833/833 [==============================] - 1s 2ms/step - loss: 0.0637 - accuracy: 0.9793 - val_loss: 0.1557 - val_accuracy: 0.9553\n",
      "Epoch 92/100\n",
      "833/833 [==============================] - 1s 2ms/step - loss: 0.0772 - accuracy: 0.9753 - val_loss: 0.1417 - val_accuracy: 0.9593\n",
      "Epoch 93/100\n",
      "833/833 [==============================] - 1s 2ms/step - loss: 0.0995 - accuracy: 0.9696 - val_loss: 0.0752 - val_accuracy: 0.9784\n",
      "Epoch 94/100\n",
      "833/833 [==============================] - 1s 2ms/step - loss: 0.0637 - accuracy: 0.9813 - val_loss: 0.0300 - val_accuracy: 0.9902\n",
      "Epoch 95/100\n",
      "833/833 [==============================] - 1s 2ms/step - loss: 0.0705 - accuracy: 0.9780 - val_loss: 0.0814 - val_accuracy: 0.9765\n",
      "Epoch 96/100\n",
      "833/833 [==============================] - 1s 2ms/step - loss: 0.0900 - accuracy: 0.9724 - val_loss: 0.1214 - val_accuracy: 0.9658\n",
      "Epoch 97/100\n",
      "833/833 [==============================] - 1s 1ms/step - loss: 0.0896 - accuracy: 0.9738 - val_loss: 0.0291 - val_accuracy: 0.9901\n",
      "Epoch 98/100\n",
      "833/833 [==============================] - 1s 1ms/step - loss: 0.0753 - accuracy: 0.9778 - val_loss: 0.0460 - val_accuracy: 0.9870\n",
      "Epoch 99/100\n",
      "833/833 [==============================] - 1s 2ms/step - loss: 0.0646 - accuracy: 0.9809 - val_loss: 0.0626 - val_accuracy: 0.9784\n",
      "Epoch 100/100\n",
      "833/833 [==============================] - 1s 1ms/step - loss: 0.0719 - accuracy: 0.9767 - val_loss: 0.0368 - val_accuracy: 0.9884\n"
     ]
    }
   ],
   "source": [
    "#compile model\n",
    "model.compile(loss=tf.keras.losses.SparseCategoricalCrossentropy(from_logits=True),\n",
    "              optimizer=tf.keras.optimizers.Adam(0.001),\n",
    "              metrics=['accuracy']    \n",
    ")\n",
    "\n",
    "#fit the model\n",
    "history = model.fit(\n",
    "    X, labels,\n",
    "    validation_data=(X_cv, y_cv),\n",
    "    epochs=100\n",
    ")"
   ]
  },
  {
   "cell_type": "code",
   "execution_count": 47,
   "id": "1ef719a5ec229abb",
   "metadata": {
    "ExecuteTime": {
     "end_time": "2023-11-12T05:50:59.101874400Z",
     "start_time": "2023-11-12T05:50:59.092391600Z"
    },
    "collapsed": false
   },
   "outputs": [
    {
     "name": "stdout",
     "output_type": "stream",
     "text": [
      "dict_keys(['loss', 'accuracy', 'val_loss', 'val_accuracy'])\n"
     ]
    }
   ],
   "source": [
    "#list history data\n",
    "print(history.history.keys())"
   ]
  },
  {
   "cell_type": "code",
   "execution_count": 48,
   "id": "96f28df5087bdfb1",
   "metadata": {
    "ExecuteTime": {
     "end_time": "2023-11-12T05:50:59.194134600Z",
     "start_time": "2023-11-12T05:50:59.095860700Z"
    },
    "collapsed": false
   },
   "outputs": [
    {
     "data": {
      "image/png": "[encoded data removed]",
      "text/plain": [
       "<Figure size 640x480 with 1 Axes>"
      ]
     },
     "metadata": {},
     "output_type": "display_data"
    }
   ],
   "source": [
    "#summarize history for loss\n",
    "plt.plot(history.history['loss'])\n",
    "plt.plot(history.history['val_loss'])\n",
    "plt.title('model loss')\n",
    "plt.ylabel('loss')\n",
    "plt.xlabel('epochs')\n",
    "plt.legend(['train', 'CV'], loc='upper left')\n",
    "plt.show()"
   ]
  },
  {
   "cell_type": "code",
   "execution_count": 49,
   "id": "e75ab0301f90be66",
   "metadata": {
    "ExecuteTime": {
     "end_time": "2023-11-12T05:50:59.299668100Z",
     "start_time": "2023-11-12T05:50:59.196124Z"
    },
    "collapsed": false
   },
   "outputs": [
    {
     "data": {
      "image/png": "[encoded data removed]",
      "text/plain": [
       "<Figure size 640x480 with 1 Axes>"
      ]
     },
     "metadata": {},
     "output_type": "display_data"
    }
   ],
   "source": [
    "#summarize history for accuracy\n",
    "plt.plot(history.history['accuracy'])\n",
    "plt.plot(history.history['val_accuracy'])\n",
    "plt.title('model accuracy')\n",
    "plt.ylabel('accuracy')\n",
    "plt.xlabel('epochs')\n",
    "plt.legend(['train', 'test'], loc='upper left')\n",
    "plt.show()"
   ]
  },
  {
   "cell_type": "code",
   "execution_count": 50,
   "id": "cbfb23830ed9f07d",
   "metadata": {
    "ExecuteTime": {
     "end_time": "2023-11-12T05:51:00.016561Z",
     "start_time": "2023-11-12T05:50:59.291668800Z"
    },
    "collapsed": false
   },
   "outputs": [
    {
     "name": "stdout",
     "output_type": "stream",
     "text": [
      "500/500 [==============================] - 0s 789us/step\n",
      "Prediction Values: [ 2  7 21 ...  9 18  5]\n"
     ]
    }
   ],
   "source": [
    "prediction_train = get_predictions(X_train) \n",
    "print(f\"Prediction Values: {prediction_train}\")"
   ]
  },
  {
   "cell_type": "code",
   "execution_count": 51,
   "id": "162b2efc2867191d",
   "metadata": {
    "ExecuteTime": {
     "end_time": "2023-11-12T05:51:00.027139300Z",
     "start_time": "2023-11-12T05:51:00.017561100Z"
    },
    "collapsed": false
   },
   "outputs": [
    {
     "name": "stdout",
     "output_type": "stream",
     "text": [
      "Accuracy: 98.79%\n"
     ]
    }
   ],
   "source": [
    "calculate_accuracy(y_train, prediction_train)"
   ]
  },
  {
   "cell_type": "code",
   "execution_count": 52,
   "id": "6686b5043e2f31ae",
   "metadata": {
    "ExecuteTime": {
     "end_time": "2023-11-12T05:51:00.304980200Z",
     "start_time": "2023-11-12T05:51:00.021139900Z"
    },
    "collapsed": false
   },
   "outputs": [
    {
     "name": "stdout",
     "output_type": "stream",
     "text": [
      "167/167 [==============================] - 0s 801us/step\n"
     ]
    }
   ],
   "source": [
    "#determine the accuracy for cv set\n",
    "prediction_cv = get_predictions(X_cv)"
   ]
  },
  {
   "cell_type": "code",
   "execution_count": 53,
   "id": "e578806447909ca0",
   "metadata": {
    "ExecuteTime": {
     "end_time": "2023-11-12T05:51:00.305980600Z",
     "start_time": "2023-11-12T05:51:00.302106800Z"
    },
    "collapsed": false
   },
   "outputs": [
    {
     "name": "stdout",
     "output_type": "stream",
     "text": [
      "Accuracy: 98.84%\n"
     ]
    }
   ],
   "source": [
    "calculate_accuracy(y_cv, prediction_cv)"
   ]
  },
  {
   "cell_type": "code",
   "execution_count": 54,
   "id": "b5c3cb16e82eaaaf",
   "metadata": {
    "ExecuteTime": {
     "end_time": "2023-11-12T05:51:00.570026300Z",
     "start_time": "2023-11-12T05:51:00.303980500Z"
    },
    "collapsed": false
   },
   "outputs": [
    {
     "name": "stdout",
     "output_type": "stream",
     "text": [
      "Evaluate on test Data\n",
      "167/167 [==============================] - 0s 892us/step - loss: 0.0465 - accuracy: 0.9865\n",
      "test loss, test acc: [0.046549491584300995, 0.9864864945411682]\n"
     ]
    }
   ],
   "source": [
    "#evaluate model on test set\n",
    "print(\"Evaluate on test Data\")\n",
    "results = model.evaluate(X_test, y_test)\n",
    "print(f\"test loss, test acc: {results}\")"
   ]
  },
  {
   "cell_type": "code",
   "execution_count": 55,
   "id": "2cd6a1fdf6e1b78d",
   "metadata": {
    "ExecuteTime": {
     "end_time": "2023-11-12T05:51:00.844056100Z",
     "start_time": "2023-11-12T05:51:00.570026300Z"
    },
    "collapsed": false
   },
   "outputs": [
    {
     "name": "stdout",
     "output_type": "stream",
     "text": [
      "167/167 [==============================] - 0s 825us/step\n"
     ]
    }
   ],
   "source": [
    "#determine the accuracy for test set\n",
    "prediction_test = get_predictions(X_test)"
   ]
  },
  {
   "cell_type": "code",
   "execution_count": 56,
   "id": "44add0315b98b750",
   "metadata": {
    "ExecuteTime": {
     "end_time": "2023-11-12T05:51:00.855060200Z",
     "start_time": "2023-11-12T05:51:00.845053900Z"
    },
    "collapsed": false
   },
   "outputs": [
    {
     "name": "stdout",
     "output_type": "stream",
     "text": [
      "Accuracy: 98.65%\n"
     ]
    }
   ],
   "source": [
    "calculate_accuracy(y_test, prediction_test)"
   ]
  }
 ],
 "metadata": {
  "kernelspec": {
   "display_name": "Python 3.11",
   "language": "python",
   "name": "python311"
  },
  "language_info": {
   "codemirror_mode": {
    "name": "ipython",
    "version": 2
   },
   "file_extension": ".py",
   "mimetype": "text/x-python",
   "name": "python",
   "nbconvert_exporter": "python",
   "pygments_lexer": "ipython2",
   "version": "2.7.6"
  }
 },
 "nbformat": 4,
 "nbformat_minor": 5
}
