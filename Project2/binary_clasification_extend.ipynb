{
 "cells": [
  {
   "cell_type": "code",
   "execution_count": 2,
   "id": "initial_id",
   "metadata": {
    "collapsed": true,
    "ExecuteTime": {
     "end_time": "2023-11-20T09:17:38.378725100Z",
     "start_time": "2023-11-20T09:17:38.169089200Z"
    }
   },
   "outputs": [],
   "source": [
    "# Visualize training history\n",
    "#\n",
    "import matplotlib.pyplot as plt\n",
    "import numpy as np\n",
    "import pandas as pd\n",
    "import tensorflow as tf\n",
    "from tensorflow.keras.models import Sequential\n",
    "from tensorflow.keras.layers import Dense\n",
    "from sklearn.preprocessing import StandardScaler\n",
    "from sklearn.model_selection import train_test_split\n",
    "from tensorflow.keras.regularizers import l2\n",
    "import math\n",
    "from mlxtend.plotting import plot_confusion_matrix\n",
    "from sklearn.metrics import precision_score, recall_score, f1_score\n",
    "from sklearn.metrics import confusion_matrix"
   ]
  },
  {
   "cell_type": "code",
   "execution_count": 3,
   "outputs": [],
   "source": [
    "def sigmoid(z):\n",
    "    g = 1/(1 + math.e**-z)\n",
    "    return g"
   ],
   "metadata": {
    "collapsed": false,
    "ExecuteTime": {
     "end_time": "2023-11-20T09:17:38.399726100Z",
     "start_time": "2023-11-20T09:17:38.172088300Z"
    }
   },
   "id": "599f2676f7b99266"
  },
  {
   "cell_type": "code",
   "execution_count": 4,
   "outputs": [],
   "source": [
    "def print_confusion_matrix(true_labels, predictions):\n",
    "    #plot confusion matrix\n",
    "    mat = confusion_matrix(true_labels, predictions)\n",
    "    plot_confusion_matrix(conf_mat=mat)\n",
    "\n",
    "    #Calculate precision, recall, f1_score\n",
    "\n",
    "    #precision\n",
    "    precision = precision_score(true_labels, predictions)\n",
    "\n",
    "    #recall\n",
    "    recall = recall_score(true_labels, predictions)\n",
    "\n",
    "    #fl score\n",
    "    f1 = f1_score(true_labels, predictions)\n",
    "\n",
    "    #Print precision, recall, f1_score\n",
    "    print(f\"Precision: {precision:.2f}\")\n",
    "    print(f\"Recall: {recall:.2f}\")\n",
    "    print(f\"F1 Score: {f1:.2f}\")\n",
    "\n",
    "    return"
   ],
   "metadata": {
    "collapsed": false,
    "ExecuteTime": {
     "end_time": "2023-11-20T09:17:38.442724100Z",
     "start_time": "2023-11-20T09:17:38.175422600Z"
    }
   },
   "id": "ef5d48c38341744e"
  },
  {
   "cell_type": "code",
   "execution_count": 5,
   "outputs": [],
   "source": [
    "def calculate_accuracy(labels, predictions):\n",
    "    \n",
    "    # Calculate the number of correct predictions by comparing 'labels' and 'predictions'\n",
    "    correct_predictions = np.sum(labels == predictions)\n",
    "    \n",
    "    # Calculate the total number of predictions\n",
    "    total_predictions = len(labels)\n",
    "    \n",
    "    # Calculate the accuracy as a percentage\n",
    "    accuracy_percentage = (correct_predictions / total_predictions) * 100.0\n",
    "    \n",
    "    print(f\"Accuracy: {accuracy_percentage:.2f}%\")"
   ],
   "metadata": {
    "collapsed": false,
    "ExecuteTime": {
     "end_time": "2023-11-20T09:17:38.444723200Z",
     "start_time": "2023-11-20T09:17:38.179851300Z"
    }
   },
   "id": "90997ead9b956915"
  },
  {
   "cell_type": "code",
   "execution_count": 6,
   "outputs": [],
   "source": [
    "def get_predictions(feature_data):\n",
    "    #run feature data through the trained model to get the linera activations from the output layer\n",
    "    logits = model(feature_data)\n",
    "\n",
    "    #convert the model outputs to probabilities by running through the sigmoid function\n",
    "    logits = sigmoid(logits)\n",
    "\n",
    "    # get predictions by converting output probabilities to True if >= 0.5, and False if < 0.5\n",
    "    predictions = logits >= 0.5\n",
    "\n",
    "    #convert True to 1 and False to 0\n",
    "    predictions = [int(boolean) for boolean in predictions]\n",
    "\n",
    "    return predictions"
   ],
   "metadata": {
    "collapsed": false,
    "ExecuteTime": {
     "end_time": "2023-11-20T09:17:38.444723200Z",
     "start_time": "2023-11-20T09:17:38.184385500Z"
    }
   },
   "id": "814bf0b0681f3818"
  },
  {
   "cell_type": "code",
   "execution_count": 7,
   "outputs": [],
   "source": [
    "#Create datapath \n",
    "def preprocess(file):\n",
    "    #file = \"Project1_data/shopping.csv\"\n",
    "\n",
    "    #put data into a pandas dataframe\n",
    "    df = pd.read_csv(file)\n",
    "    \n",
    "    #view dataframe rows\n",
    "    df.head()\n",
    "    \n",
    "    #define replacement mapping\n",
    "    bool_mapping = {\n",
    "        \"TRUE\": 1,\n",
    "        \"FALSE\": 0,\n",
    "    }\n",
    "    \n",
    "    month_mapping = {\n",
    "        \"Jan\": 1, \"Feb\": 2, \"Mar\": 3, \"Apr\": 4, \"May\": 5, \"June\": 6, \"Jul\": 7, \"Aug\": 8, \"Sep\": 9, \"Oct\": 10, \"Nov\": 11, \"Dec\": 12\n",
    "    }\n",
    "    \n",
    "    visit_mapping = {\n",
    "        \"New_Visitor\": 1, \"Returning_Visitor\": 2, \"Other\": 3\n",
    "    }\n",
    "    \n",
    "    #Convert true/false to strings\n",
    "    df['Weekend'] = df['Weekend'].astype(str)\n",
    "    df['Revenue'] = df['Revenue'].astype(str)\n",
    "    \n",
    "    df['Weekend'] = df['Weekend'].str.upper()\n",
    "    df['Revenue'] = df['Revenue'].str.upper()\n",
    "    \n",
    "    #Replace non-integer values\n",
    "    df['Month'] = df['Month'].replace(month_mapping)\n",
    "    df['VisitorType'] = df['VisitorType'].replace(visit_mapping)\n",
    "    df['Weekend'] = df['Weekend'].replace(bool_mapping)\n",
    "    df['Revenue'] = df['Revenue'].replace(bool_mapping)\n",
    "    \n",
    "    df.head(10)\n",
    "    \n",
    "    #convert dataframe to numpy array\n",
    "    data_array = df.to_numpy()\n",
    "    \n",
    "    return split_data(data_array)\n",
    "\n",
    "def split_data(data):\n",
    "    X = data[:, :17]\n",
    "    y = data[:, 17]\n",
    "    return X, y\n"
   ],
   "metadata": {
    "collapsed": false,
    "ExecuteTime": {
     "end_time": "2023-11-20T09:17:38.446723200Z",
     "start_time": "2023-11-20T09:17:38.189997Z"
    }
   },
   "id": "a513415322c94ad9"
  },
  {
   "cell_type": "code",
   "execution_count": 451,
   "outputs": [
    {
     "name": "stdout",
     "output_type": "stream",
     "text": [
      "X shape: (5000, 17)\n",
      "y shape: (5000,)\n",
      "[ 0.21173582  0.35206422 -0.38787235 -0.23716731  0.35785985 -0.06903133\n",
      " -0.3764785  -0.61938805 -0.31442715 -0.31311801  0.99578857 -1.22770075\n",
      "  3.26250963  1.17721659  1.71636354  0.36452294 -0.55763754]\n"
     ]
    }
   ],
   "source": [
    "#load the dataset & split into x and y variables\n",
    "features, y = preprocess(\"shopping.csv\")\n",
    "\n",
    "#create Scaler object\n",
    "scaler = StandardScaler()\n",
    "\n",
    "#scale the features\n",
    "X = scaler.fit_transform(features)\n",
    "\n",
    "print(f\"X shape: {X.shape}\")\n",
    "print(f\"y shape: {y.shape}\")\n",
    "\n",
    "#look at the first X row\n",
    "print(X[0])\n"
   ],
   "metadata": {
    "collapsed": false,
    "ExecuteTime": {
     "end_time": "2023-11-20T09:41:53.189373500Z",
     "start_time": "2023-11-20T09:41:52.862887400Z"
    }
   },
   "id": "6e12b87e21c49fea"
  },
  {
   "cell_type": "code",
   "execution_count": 452,
   "outputs": [
    {
     "name": "stdout",
     "output_type": "stream",
     "text": [
      "X_train shape: (3000, 17)\n",
      "X_test shape: (1000, 17)\n",
      "X_cv shape: (1000, 17)\n",
      "y_train shape: (3000,)\n",
      "y_test shape: (1000,)\n",
      "y_cv shape: (1000,)\n"
     ]
    }
   ],
   "source": [
    "# split  data into training, CV, test sets\n",
    "# use the train_test_split modules\n",
    "X_train, X_test, y_train, y_test = train_test_split(X, y, test_size=0.4, random_state=35)\n",
    "\n",
    "#split test set 50:50 for the CV and test sets\n",
    "X_test, X_cv, y_test, y_cv = train_test_split(X_test, y_test, test_size=0.5)\n",
    "\n",
    "#Print the shapes of the resulting sets\n",
    "print(f\"X_train shape: {X_train.shape}\")\n",
    "print(f\"X_test shape: {X_test.shape}\")\n",
    "print(f\"X_cv shape: {X_cv.shape}\")\n",
    "\n",
    "print(f\"y_train shape: {y_train.shape}\")\n",
    "print(f\"y_test shape: {y_test.shape}\")\n",
    "print(f\"y_cv shape: {y_cv.shape}\")\n",
    "\n"
   ],
   "metadata": {
    "collapsed": false,
    "ExecuteTime": {
     "end_time": "2023-11-20T09:41:53.190367Z",
     "start_time": "2023-11-20T09:41:52.894781400Z"
    }
   },
   "id": "b2940e3252bf0d6f"
  },
  {
   "cell_type": "code",
   "execution_count": 453,
   "outputs": [],
   "source": [
    "#create model\n",
    "model = Sequential([\n",
    "    tf.keras.Input(shape=(17,)),\n",
    "    Dense(10, activation='relu', kernel_regularizer=l2(0.2)),\n",
    "    Dense(30, activation='relu', kernel_regularizer=l2(0.1)),\n",
    "    Dense(30, activation='relu', kernel_regularizer=l2(0.1)),\n",
    "    Dense(30, activation='relu', kernel_regularizer=l2(0.1)),\n",
    "    Dense(17, activation='relu', kernel_regularizer=l2(0.002)),\n",
    "    Dense(1, activation='linear')\n",
    "])\n",
    "    "
   ],
   "metadata": {
    "collapsed": false,
    "ExecuteTime": {
     "end_time": "2023-11-20T09:41:53.190367Z",
     "start_time": "2023-11-20T09:41:52.910164600Z"
    }
   },
   "id": "cdb6bce9f555b576"
  },
  {
   "cell_type": "code",
   "execution_count": 454,
   "outputs": [
    {
     "name": "stdout",
     "output_type": "stream",
     "text": [
      "Model: \"sequential_22\"\n",
      "_________________________________________________________________\n",
      " Layer (type)                Output Shape              Param #   \n",
      "=================================================================\n",
      " dense_138 (Dense)           (None, 10)                180       \n",
      "                                                                 \n",
      " dense_139 (Dense)           (None, 30)                330       \n",
      "                                                                 \n",
      " dense_140 (Dense)           (None, 30)                930       \n",
      "                                                                 \n",
      " dense_141 (Dense)           (None, 30)                930       \n",
      "                                                                 \n",
      " dense_142 (Dense)           (None, 17)                527       \n",
      "                                                                 \n",
      " dense_143 (Dense)           (None, 1)                 18        \n",
      "                                                                 \n",
      "=================================================================\n",
      "Total params: 2915 (11.39 KB)\n",
      "Trainable params: 2915 (11.39 KB)\n",
      "Non-trainable params: 0 (0.00 Byte)\n",
      "_________________________________________________________________\n"
     ]
    }
   ],
   "source": [
    "#print model summary\n",
    "model.summary()"
   ],
   "metadata": {
    "collapsed": false,
    "ExecuteTime": {
     "end_time": "2023-11-20T09:41:53.191366400Z",
     "start_time": "2023-11-20T09:41:52.945286100Z"
    }
   },
   "id": "1ffd5debfe1795a8"
  },
  {
   "cell_type": "code",
   "execution_count": 455,
   "outputs": [
    {
     "name": "stdout",
     "output_type": "stream",
     "text": [
      "Epoch 1/40\n",
      "157/157 [==============================] - 1s 2ms/step - loss: 6.1565 - accuracy: 0.8458 - val_loss: 2.9519 - val_accuracy: 0.8470\n",
      "Epoch 2/40\n",
      "157/157 [==============================] - 0s 1ms/step - loss: 1.7387 - accuracy: 0.8458 - val_loss: 0.9701 - val_accuracy: 0.8470\n",
      "Epoch 3/40\n",
      "157/157 [==============================] - 0s 1ms/step - loss: 0.7035 - accuracy: 0.8458 - val_loss: 0.5384 - val_accuracy: 0.8470\n",
      "Epoch 4/40\n",
      "157/157 [==============================] - 0s 1ms/step - loss: 0.4876 - accuracy: 0.8458 - val_loss: 0.4550 - val_accuracy: 0.8470\n",
      "Epoch 5/40\n",
      "157/157 [==============================] - 0s 1ms/step - loss: 0.4454 - accuracy: 0.8458 - val_loss: 0.4369 - val_accuracy: 0.8470\n",
      "Epoch 6/40\n",
      "157/157 [==============================] - 0s 1ms/step - loss: 0.4370 - accuracy: 0.8458 - val_loss: 0.4331 - val_accuracy: 0.8470\n",
      "Epoch 7/40\n",
      "157/157 [==============================] - 0s 1ms/step - loss: 0.4352 - accuracy: 0.8458 - val_loss: 0.4319 - val_accuracy: 0.8470\n",
      "Epoch 8/40\n",
      "157/157 [==============================] - 0s 1ms/step - loss: 0.4337 - accuracy: 0.8458 - val_loss: 0.4324 - val_accuracy: 0.8470\n",
      "Epoch 9/40\n",
      "157/157 [==============================] - 0s 1ms/step - loss: 0.4340 - accuracy: 0.8458 - val_loss: 0.4308 - val_accuracy: 0.8470\n",
      "Epoch 10/40\n",
      "157/157 [==============================] - 0s 1ms/step - loss: 0.4333 - accuracy: 0.8458 - val_loss: 0.4304 - val_accuracy: 0.8470\n",
      "Epoch 11/40\n",
      "157/157 [==============================] - 0s 1ms/step - loss: 0.4328 - accuracy: 0.8458 - val_loss: 0.4301 - val_accuracy: 0.8470\n",
      "Epoch 12/40\n",
      "157/157 [==============================] - 0s 1ms/step - loss: 0.4325 - accuracy: 0.8458 - val_loss: 0.4298 - val_accuracy: 0.8470\n",
      "Epoch 13/40\n",
      "157/157 [==============================] - 0s 1ms/step - loss: 0.4322 - accuracy: 0.8458 - val_loss: 0.4297 - val_accuracy: 0.8470\n",
      "Epoch 14/40\n",
      "157/157 [==============================] - 0s 1ms/step - loss: 0.4319 - accuracy: 0.8458 - val_loss: 0.4294 - val_accuracy: 0.8470\n",
      "Epoch 15/40\n",
      "157/157 [==============================] - 0s 1ms/step - loss: 0.4316 - accuracy: 0.8458 - val_loss: 0.4297 - val_accuracy: 0.8470\n",
      "Epoch 16/40\n",
      "157/157 [==============================] - 0s 1ms/step - loss: 0.4313 - accuracy: 0.8458 - val_loss: 0.4293 - val_accuracy: 0.8470\n",
      "Epoch 17/40\n",
      "157/157 [==============================] - 0s 1ms/step - loss: 0.4317 - accuracy: 0.8458 - val_loss: 0.4299 - val_accuracy: 0.8470\n",
      "Epoch 18/40\n",
      "157/157 [==============================] - 0s 1ms/step - loss: 0.4313 - accuracy: 0.8458 - val_loss: 0.4303 - val_accuracy: 0.8470\n",
      "Epoch 19/40\n",
      "157/157 [==============================] - 0s 1ms/step - loss: 0.4320 - accuracy: 0.8458 - val_loss: 0.4294 - val_accuracy: 0.8470\n",
      "Epoch 20/40\n",
      "157/157 [==============================] - 0s 1ms/step - loss: 0.4312 - accuracy: 0.8458 - val_loss: 0.4290 - val_accuracy: 0.8470\n",
      "Epoch 21/40\n",
      "157/157 [==============================] - 0s 1ms/step - loss: 0.4313 - accuracy: 0.8458 - val_loss: 0.4287 - val_accuracy: 0.8470\n",
      "Epoch 22/40\n",
      "157/157 [==============================] - 0s 1ms/step - loss: 0.4313 - accuracy: 0.8458 - val_loss: 0.4286 - val_accuracy: 0.8470\n",
      "Epoch 23/40\n",
      "157/157 [==============================] - 0s 1ms/step - loss: 0.4309 - accuracy: 0.8458 - val_loss: 0.4287 - val_accuracy: 0.8470\n",
      "Epoch 24/40\n",
      "157/157 [==============================] - 0s 1ms/step - loss: 0.4311 - accuracy: 0.8458 - val_loss: 0.4294 - val_accuracy: 0.8470\n",
      "Epoch 25/40\n",
      "157/157 [==============================] - 0s 1ms/step - loss: 0.4310 - accuracy: 0.8458 - val_loss: 0.4300 - val_accuracy: 0.8470\n",
      "Epoch 26/40\n",
      "157/157 [==============================] - 0s 1ms/step - loss: 0.4313 - accuracy: 0.8458 - val_loss: 0.4287 - val_accuracy: 0.8470\n",
      "Epoch 27/40\n",
      "157/157 [==============================] - 0s 1ms/step - loss: 0.4308 - accuracy: 0.8458 - val_loss: 0.4287 - val_accuracy: 0.8470\n",
      "Epoch 28/40\n",
      "157/157 [==============================] - 0s 1ms/step - loss: 0.4310 - accuracy: 0.8458 - val_loss: 0.4285 - val_accuracy: 0.8470\n",
      "Epoch 29/40\n",
      "157/157 [==============================] - 0s 1ms/step - loss: 0.4310 - accuracy: 0.8458 - val_loss: 0.4283 - val_accuracy: 0.8470\n",
      "Epoch 30/40\n",
      "157/157 [==============================] - 0s 1ms/step - loss: 0.4306 - accuracy: 0.8458 - val_loss: 0.4284 - val_accuracy: 0.8470\n",
      "Epoch 31/40\n",
      "157/157 [==============================] - 0s 1ms/step - loss: 0.4304 - accuracy: 0.8458 - val_loss: 0.4292 - val_accuracy: 0.8470\n",
      "Epoch 32/40\n",
      "157/157 [==============================] - 0s 1ms/step - loss: 0.4306 - accuracy: 0.8458 - val_loss: 0.4287 - val_accuracy: 0.8470\n",
      "Epoch 33/40\n",
      "157/157 [==============================] - 0s 1ms/step - loss: 0.4308 - accuracy: 0.8458 - val_loss: 0.4285 - val_accuracy: 0.8470\n",
      "Epoch 34/40\n",
      "157/157 [==============================] - 0s 1ms/step - loss: 0.4309 - accuracy: 0.8458 - val_loss: 0.4284 - val_accuracy: 0.8470\n",
      "Epoch 35/40\n",
      "157/157 [==============================] - 0s 1ms/step - loss: 0.4309 - accuracy: 0.8458 - val_loss: 0.4282 - val_accuracy: 0.8470\n",
      "Epoch 36/40\n",
      "157/157 [==============================] - 0s 1ms/step - loss: 0.4306 - accuracy: 0.8458 - val_loss: 0.4282 - val_accuracy: 0.8470\n",
      "Epoch 37/40\n",
      "157/157 [==============================] - 0s 1ms/step - loss: 0.4308 - accuracy: 0.8458 - val_loss: 0.4287 - val_accuracy: 0.8470\n",
      "Epoch 38/40\n",
      "157/157 [==============================] - 0s 1ms/step - loss: 0.4309 - accuracy: 0.8458 - val_loss: 0.4285 - val_accuracy: 0.8470\n",
      "Epoch 39/40\n",
      "157/157 [==============================] - 0s 1ms/step - loss: 0.4305 - accuracy: 0.8458 - val_loss: 0.4282 - val_accuracy: 0.8470\n",
      "Epoch 40/40\n",
      "157/157 [==============================] - 0s 1ms/step - loss: 0.4305 - accuracy: 0.8458 - val_loss: 0.4284 - val_accuracy: 0.8470\n"
     ]
    }
   ],
   "source": [
    "#compile model\n",
    "model.compile(loss=tf.keras.losses.BinaryCrossentropy(from_logits=True),\n",
    "              optimizer=tf.keras.optimizers.Adam(0.001),\n",
    "              metrics=['accuracy']    \n",
    ")\n",
    "\n",
    "#fit the model\n",
    "history = model.fit(\n",
    "    X, y,\n",
    "    validation_data=(X_cv, y_cv),\n",
    "    epochs=40\n",
    ")"
   ],
   "metadata": {
    "collapsed": false,
    "ExecuteTime": {
     "end_time": "2023-11-20T09:42:01.915061700Z",
     "start_time": "2023-11-20T09:41:52.955266900Z"
    }
   },
   "id": "83a249ae86d87207"
  },
  {
   "cell_type": "code",
   "execution_count": 456,
   "outputs": [
    {
     "name": "stdout",
     "output_type": "stream",
     "text": [
      "dict_keys(['loss', 'accuracy', 'val_loss', 'val_accuracy'])\n"
     ]
    }
   ],
   "source": [
    "#list history data\n",
    "print(history.history.keys())"
   ],
   "metadata": {
    "collapsed": false,
    "ExecuteTime": {
     "end_time": "2023-11-20T09:42:01.915061700Z",
     "start_time": "2023-11-20T09:42:01.850296300Z"
    }
   },
   "id": "ce89db3290af07c"
  },
  {
   "cell_type": "code",
   "execution_count": 457,
   "outputs": [
    {
     "data": {
      "text/plain": "<Figure size 640x480 with 1 Axes>",
      "image/png": "[encoded data removed]"
     },
     "metadata": {},
     "output_type": "display_data"
    }
   ],
   "source": [
    "#summarize history for loss\n",
    "plt.plot(history.history['loss'])\n",
    "plt.plot(history.history['val_loss'])\n",
    "plt.title('model loss')\n",
    "plt.ylabel('loss')\n",
    "plt.xlabel('epochs')\n",
    "plt.legend(['train', 'CV'], loc='upper left')\n",
    "plt.show()"
   ],
   "metadata": {
    "collapsed": false,
    "ExecuteTime": {
     "end_time": "2023-11-20T09:42:01.967460100Z",
     "start_time": "2023-11-20T09:42:01.853376700Z"
    }
   },
   "id": "8d04660503bdf8f7"
  },
  {
   "cell_type": "code",
   "execution_count": 458,
   "outputs": [
    {
     "data": {
      "text/plain": "<Figure size 640x480 with 1 Axes>",
      "image/png": "[encoded data removed]"
     },
     "metadata": {},
     "output_type": "display_data"
    }
   ],
   "source": [
    "#summarize history for accuracy\n",
    "plt.plot(history.history['accuracy'])\n",
    "plt.plot(history.history['val_accuracy'])\n",
    "plt.title('model accuracy')\n",
    "plt.ylabel('accuracy')\n",
    "plt.xlabel('epochs')\n",
    "plt.legend(['train', 'test'], loc='upper left')\n",
    "plt.show()"
   ],
   "metadata": {
    "collapsed": false,
    "ExecuteTime": {
     "end_time": "2023-11-20T09:42:02.182000300Z",
     "start_time": "2023-11-20T09:42:01.975180900Z"
    }
   },
   "id": "faf064f21e717e11"
  },
  {
   "cell_type": "code",
   "execution_count": 459,
   "outputs": [
    {
     "name": "stdout",
     "output_type": "stream",
     "text": [
      "[0, 0, 0, 0, 0, 0, 0, 0, 0, 0, 0, 0, 0, 0, 0, 0, 0, 0, 0, 0, 0, 0, 0, 0, 0, 0, 0, 0, 0, 0, 0, 0, 0, 0, 0, 0, 0, 0, 0, 0, 0, 0, 0, 0, 0, 0, 0, 0, 0, 0, 0, 0, 0, 0, 0, 0, 0, 0, 0, 0, 0, 0, 0, 0, 0, 0, 0, 0, 0, 0, 0, 0, 0, 0, 0, 0, 0, 0, 0, 0, 0, 0, 0, 0, 0, 0, 0, 0, 0, 0, 0, 0, 0, 0, 0, 0, 0, 0, 0, 0, 0, 0, 0, 0, 0, 0, 0, 0, 0, 0, 0, 0, 0, 0, 0, 0, 0, 0, 0, 0, 0, 0, 0, 0, 0, 0, 0, 0, 0, 0, 0, 0, 0, 0, 0, 0, 0, 0, 0, 0, 0, 0, 0, 0, 0, 0, 0, 0, 0, 0, 0, 0, 0, 0, 0, 0, 0, 0, 0, 0, 0, 0, 0, 0, 0, 0, 0, 0, 0, 0, 0, 0, 0, 0, 0, 0, 0, 0, 0, 0, 0, 0, 0, 0, 0, 0, 0, 0, 0, 0, 0, 0, 0, 0, 0, 0, 0, 0, 0, 0, 0, 0, 0, 0, 0, 0, 0, 0, 0, 0, 0, 0, 0, 0, 0, 0, 0, 0, 0, 0, 0, 0, 0, 0, 0, 0, 0, 0, 0, 0, 0, 0, 0, 0, 0, 0, 0, 0, 0, 0, 0, 0, 0, 0, 0, 0, 0, 0, 0, 0, 0, 0, 0, 0, 0, 0, 0, 0, 0, 0, 0, 0, 0, 0, 0, 0, 0, 0, 0, 0, 0, 0, 0, 0, 0, 0, 0, 0, 0, 0, 0, 0, 0, 0, 0, 0, 0, 0, 0, 0, 0, 0, 0, 0, 0, 0, 0, 0, 0, 0, 0, 0, 0, 0, 0, 0, 0, 0, 0, 0, 0, 0, 0, 0, 0, 0, 0, 0, 0, 0, 0, 0, 0, 0, 0, 0, 0, 0, 0, 0, 0, 0, 0, 0, 0, 0, 0, 0, 0, 0, 0, 0, 0, 0, 0, 0, 0, 0, 0, 0, 0, 0, 0, 0, 0, 0, 0, 0, 0, 0, 0, 0, 0, 0, 0, 0, 0, 0, 0, 0, 0, 0, 0, 0, 0, 0, 0, 0, 0, 0, 0, 0, 0, 0, 0, 0, 0, 0, 0, 0, 0, 0, 0, 0, 0, 0, 0, 0, 0, 0, 0, 0, 0, 0, 0, 0, 0, 0, 0, 0, 0, 0, 0, 0, 0, 0, 0, 0, 0, 0, 0, 0, 0, 0, 0, 0, 0, 0, 0, 0, 0, 0, 0, 0, 0, 0, 0, 0, 0, 0, 0, 0, 0, 0, 0, 0, 0, 0, 0, 0, 0, 0, 0, 0, 0, 0, 0, 0, 0, 0, 0, 0, 0, 0, 0, 0, 0, 0, 0, 0, 0, 0, 0, 0, 0, 0, 0, 0, 0, 0, 0, 0, 0, 0, 0, 0, 0, 0, 0, 0, 0, 0, 0, 0, 0, 0, 0, 0, 0, 0, 0, 0, 0, 0, 0, 0, 0, 0, 0, 0, 0, 0, 0, 0, 0, 0, 0, 0, 0, 0, 0, 0, 0, 0, 0, 0, 0, 0, 0, 0, 0, 0, 0, 0, 0, 0, 0, 0, 0, 0, 0, 0, 0, 0, 0, 0, 0, 0, 0, 0, 0, 0, 0, 0, 0, 0, 0, 0, 0, 0, 0, 0, 0, 0, 0, 0, 0, 0, 0, 0, 0, 0, 0, 0, 0, 0, 0, 0, 0, 0, 0, 0, 0, 0, 0, 0, 0, 0, 0, 0, 0, 0, 0, 0, 0, 0, 0, 0, 0, 0, 0, 0, 0, 0, 0, 0, 0, 0, 0, 0, 0, 0, 0, 0, 0, 0, 0, 0, 0, 0, 0, 0, 0, 0, 0, 0, 0, 0, 0, 0, 0, 0, 0, 0, 0, 0, 0, 0, 0, 0, 0, 0, 0, 0, 0, 0, 0, 0, 0, 0, 0, 0, 0, 0, 0, 0, 0, 0, 0, 0, 0, 0, 0, 0, 0, 0, 0, 0, 0, 0, 0, 0, 0, 0, 0, 0, 0, 0, 0, 0, 0, 0, 0, 0, 0, 0, 0, 0, 0, 0, 0, 0, 0, 0, 0, 0, 0, 0, 0, 0, 0, 0, 0, 0, 0, 0, 0, 0, 0, 0, 0, 0, 0, 0, 0, 0, 0, 0, 0, 0, 0, 0, 0, 0, 0, 0, 0, 0, 0, 0, 0, 0, 0, 0, 0, 0, 0, 0, 0, 0, 0, 0, 0, 0, 0, 0, 0, 0, 0, 0, 0, 0, 0, 0, 0, 0, 0, 0, 0, 0, 0, 0, 0, 0, 0, 0, 0, 0, 0, 0, 0, 0, 0, 0, 0, 0, 0, 0, 0, 0, 0, 0, 0, 0, 0, 0, 0, 0, 0, 0, 0, 0, 0, 0, 0, 0, 0, 0, 0, 0, 0, 0, 0, 0, 0, 0, 0, 0, 0, 0, 0, 0, 0, 0, 0, 0, 0, 0, 0, 0, 0, 0, 0, 0, 0, 0, 0, 0, 0, 0, 0, 0, 0, 0, 0, 0, 0, 0, 0, 0, 0, 0, 0, 0, 0, 0, 0, 0, 0, 0, 0, 0, 0, 0, 0, 0, 0, 0, 0, 0, 0, 0, 0, 0, 0, 0, 0, 0, 0, 0, 0, 0, 0, 0, 0, 0, 0, 0, 0, 0, 0, 0, 0, 0, 0, 0, 0, 0, 0, 0, 0, 0, 0, 0, 0, 0, 0, 0, 0, 0, 0, 0, 0, 0, 0, 0, 0, 0, 0, 0, 0, 0, 0, 0, 0, 0, 0, 0, 0, 0, 0, 0, 0, 0, 0, 0, 0, 0, 0, 0, 0, 0, 0, 0, 0, 0, 0, 0, 0, 0, 0, 0, 0, 0, 0, 0, 0, 0, 0, 0, 0, 0, 0, 0, 0, 0, 0, 0, 0, 0, 0, 0, 0, 0, 0, 0, 0, 0, 0, 0, 0, 0, 0, 0, 0, 0, 0, 0, 0, 0, 0, 0, 0, 0, 0, 0, 0, 0, 0, 0, 0, 0, 0, 0, 0, 0, 0, 0, 0, 0, 0, 0, 0, 0, 0, 0, 0, 0, 0, 0, 0, 0, 0, 0, 0, 0, 0, 0, 0, 0, 0, 0, 0, 0, 0, 0, 0, 0, 0, 0, 0, 0, 0, 0, 0, 0, 0, 0, 0, 0, 0, 0, 0, 0, 0, 0, 0, 0, 0, 0, 0, 0, 0, 0, 0, 0, 0, 0, 0, 0, 0, 0, 0, 0, 0, 0, 0, 0, 0, 0, 0, 0, 0, 0, 0, 0, 0, 0, 0, 0, 0, 0, 0, 0, 0, 0, 0, 0, 0, 0, 0, 0, 0, 0, 0, 0, 0, 0, 0, 0, 0, 0, 0, 0, 0, 0, 0, 0, 0, 0, 0, 0, 0, 0, 0, 0, 0, 0, 0, 0, 0, 0, 0, 0, 0, 0, 0, 0, 0, 0, 0, 0, 0, 0, 0, 0, 0, 0, 0, 0, 0, 0, 0, 0, 0, 0, 0, 0, 0, 0, 0, 0, 0, 0, 0, 0, 0, 0, 0, 0, 0, 0, 0, 0, 0, 0, 0, 0, 0, 0, 0, 0, 0, 0, 0, 0, 0, 0, 0, 0, 0, 0, 0, 0, 0, 0, 0, 0, 0, 0, 0, 0, 0, 0, 0, 0, 0, 0, 0, 0, 0, 0, 0, 0, 0, 0, 0, 0, 0, 0, 0, 0, 0, 0, 0, 0, 0, 0, 0, 0, 0, 0, 0, 0, 0, 0, 0, 0, 0, 0, 0, 0, 0, 0, 0, 0, 0, 0, 0, 0, 0, 0, 0, 0, 0, 0, 0, 0, 0, 0, 0, 0, 0, 0, 0, 0, 0, 0, 0, 0, 0, 0, 0, 0, 0, 0, 0, 0, 0, 0, 0, 0, 0, 0, 0, 0, 0, 0, 0, 0, 0, 0, 0, 0, 0, 0, 0, 0, 0, 0, 0, 0, 0, 0, 0, 0, 0, 0, 0, 0, 0, 0, 0, 0, 0, 0, 0, 0, 0, 0, 0, 0, 0, 0, 0, 0, 0, 0, 0, 0, 0, 0, 0, 0, 0, 0, 0, 0, 0, 0, 0, 0, 0, 0, 0, 0, 0, 0, 0, 0, 0, 0, 0, 0, 0, 0, 0, 0, 0, 0, 0, 0, 0, 0, 0, 0, 0, 0, 0, 0, 0, 0, 0, 0, 0, 0, 0, 0, 0, 0, 0, 0, 0, 0, 0, 0, 0, 0, 0, 0, 0, 0, 0, 0, 0, 0, 0, 0, 0, 0, 0, 0, 0, 0, 0, 0, 0, 0, 0, 0, 0, 0, 0, 0, 0, 0, 0, 0, 0, 0, 0, 0, 0, 0, 0, 0, 0, 0, 0, 0, 0, 0, 0, 0, 0, 0, 0, 0, 0, 0, 0, 0, 0, 0, 0, 0, 0, 0, 0, 0, 0, 0, 0, 0, 0, 0, 0, 0, 0, 0, 0, 0, 0, 0, 0, 0, 0, 0, 0, 0, 0, 0, 0, 0, 0, 0, 0, 0, 0, 0, 0, 0, 0, 0, 0, 0, 0, 0, 0, 0, 0, 0, 0, 0, 0, 0, 0, 0, 0, 0, 0, 0, 0, 0, 0, 0, 0, 0, 0, 0, 0, 0, 0, 0, 0, 0, 0, 0, 0, 0, 0, 0, 0, 0, 0, 0, 0, 0, 0, 0, 0, 0, 0, 0, 0, 0, 0, 0, 0, 0, 0, 0, 0, 0, 0, 0, 0, 0, 0, 0, 0, 0, 0, 0, 0, 0, 0, 0, 0, 0, 0, 0, 0, 0, 0, 0, 0, 0, 0, 0, 0, 0, 0, 0, 0, 0, 0, 0, 0, 0, 0, 0, 0, 0, 0, 0, 0, 0, 0, 0, 0, 0, 0, 0, 0, 0, 0, 0, 0, 0, 0, 0, 0, 0, 0, 0, 0, 0, 0, 0, 0, 0, 0, 0, 0, 0, 0, 0, 0, 0, 0, 0, 0, 0, 0, 0, 0, 0, 0, 0, 0, 0, 0, 0, 0, 0, 0, 0, 0, 0, 0, 0, 0, 0, 0, 0, 0, 0, 0, 0, 0, 0, 0, 0, 0, 0, 0, 0, 0, 0, 0, 0, 0, 0, 0, 0, 0, 0, 0, 0, 0, 0, 0, 0, 0, 0, 0, 0, 0, 0, 0, 0, 0, 0, 0, 0, 0, 0, 0, 0, 0, 0, 0, 0, 0, 0, 0, 0, 0, 0, 0, 0, 0, 0, 0, 0, 0, 0, 0, 0, 0, 0, 0, 0, 0, 0, 0, 0, 0, 0, 0, 0, 0, 0, 0, 0, 0, 0, 0, 0, 0, 0, 0, 0, 0, 0, 0, 0, 0, 0, 0, 0, 0, 0, 0, 0, 0, 0, 0, 0, 0, 0, 0, 0, 0, 0, 0, 0, 0, 0, 0, 0, 0, 0, 0, 0, 0, 0, 0, 0, 0, 0, 0, 0, 0, 0, 0, 0, 0, 0, 0, 0, 0, 0, 0, 0, 0, 0, 0, 0, 0, 0, 0, 0, 0, 0, 0, 0, 0, 0, 0, 0, 0, 0, 0, 0, 0, 0, 0, 0, 0, 0, 0, 0, 0, 0, 0, 0, 0, 0, 0, 0, 0, 0, 0, 0, 0, 0, 0, 0, 0, 0, 0, 0, 0, 0, 0, 0, 0, 0, 0, 0, 0, 0, 0, 0, 0, 0, 0, 0, 0, 0, 0, 0, 0, 0, 0, 0, 0, 0, 0, 0, 0, 0, 0, 0, 0, 0, 0, 0, 0, 0, 0, 0, 0, 0, 0, 0, 0, 0, 0, 0, 0, 0, 0, 0, 0, 0, 0, 0, 0, 0, 0, 0, 0, 0, 0, 0, 0, 0, 0, 0, 0, 0, 0, 0, 0, 0, 0, 0, 0, 0, 0, 0, 0, 0, 0, 0, 0, 0, 0, 0, 0, 0, 0, 0, 0, 0, 0, 0, 0, 0, 0, 0, 0, 0, 0, 0, 0, 0, 0, 0, 0, 0, 0, 0, 0, 0, 0, 0, 0, 0, 0, 0, 0, 0, 0, 0, 0, 0, 0, 0, 0, 0, 0, 0, 0, 0, 0, 0, 0, 0, 0, 0, 0, 0, 0, 0, 0, 0, 0, 0, 0, 0, 0, 0, 0, 0, 0, 0, 0, 0, 0, 0, 0, 0, 0, 0, 0, 0, 0, 0, 0, 0, 0, 0, 0, 0, 0, 0, 0, 0, 0, 0, 0, 0, 0, 0, 0, 0, 0, 0, 0, 0, 0, 0, 0, 0, 0, 0, 0, 0, 0, 0, 0, 0, 0, 0, 0, 0, 0, 0, 0, 0, 0, 0, 0, 0, 0, 0, 0, 0, 0, 0, 0, 0, 0, 0, 0, 0, 0, 0, 0, 0, 0, 0, 0, 0, 0, 0, 0, 0, 0, 0, 0, 0, 0, 0, 0, 0, 0, 0, 0, 0, 0, 0, 0, 0, 0, 0, 0, 0, 0, 0, 0, 0, 0, 0, 0, 0, 0, 0, 0, 0, 0, 0, 0, 0, 0, 0, 0, 0, 0, 0, 0, 0, 0, 0, 0, 0, 0, 0, 0, 0, 0, 0, 0, 0, 0, 0, 0, 0, 0, 0, 0, 0, 0, 0, 0, 0, 0, 0, 0, 0, 0, 0, 0, 0, 0, 0, 0, 0, 0, 0, 0, 0, 0, 0, 0, 0, 0, 0, 0, 0, 0, 0, 0, 0, 0, 0, 0, 0, 0, 0, 0, 0, 0, 0, 0, 0, 0, 0, 0, 0, 0, 0, 0, 0, 0, 0, 0, 0, 0, 0, 0, 0, 0, 0, 0, 0, 0, 0, 0, 0, 0, 0, 0, 0, 0, 0, 0, 0, 0, 0, 0, 0, 0, 0, 0, 0, 0, 0, 0, 0, 0, 0, 0, 0, 0, 0, 0, 0, 0, 0, 0, 0, 0, 0, 0, 0, 0, 0, 0, 0, 0, 0, 0, 0, 0, 0, 0, 0, 0, 0, 0, 0, 0, 0, 0, 0, 0, 0, 0, 0, 0, 0, 0, 0, 0, 0, 0, 0, 0, 0, 0, 0, 0, 0, 0, 0, 0, 0, 0, 0, 0, 0, 0, 0, 0, 0, 0, 0, 0, 0, 0, 0, 0, 0, 0, 0, 0, 0, 0, 0, 0, 0, 0, 0, 0, 0, 0, 0, 0, 0, 0, 0, 0, 0, 0, 0, 0, 0, 0, 0, 0, 0, 0, 0, 0, 0, 0, 0, 0, 0, 0, 0, 0, 0, 0, 0, 0, 0, 0, 0, 0, 0, 0, 0, 0, 0, 0, 0, 0, 0, 0, 0, 0, 0, 0, 0, 0, 0, 0, 0, 0, 0, 0, 0, 0, 0, 0, 0, 0, 0, 0, 0, 0, 0, 0, 0, 0, 0, 0, 0, 0, 0, 0, 0, 0, 0, 0, 0, 0, 0, 0, 0, 0, 0, 0, 0, 0, 0, 0, 0, 0, 0, 0, 0, 0, 0, 0, 0, 0, 0, 0, 0, 0, 0, 0, 0, 0, 0, 0, 0, 0, 0, 0, 0, 0, 0, 0, 0, 0, 0, 0, 0, 0, 0, 0, 0, 0, 0, 0, 0, 0, 0, 0, 0, 0, 0, 0, 0, 0, 0, 0, 0, 0, 0, 0, 0, 0, 0, 0, 0, 0, 0, 0, 0, 0, 0, 0, 0, 0, 0, 0, 0, 0, 0, 0, 0, 0, 0, 0, 0, 0, 0, 0, 0, 0, 0, 0, 0, 0, 0, 0, 0, 0, 0, 0, 0, 0, 0, 0, 0, 0, 0, 0, 0, 0, 0, 0, 0, 0, 0, 0, 0, 0, 0, 0, 0, 0, 0, 0, 0, 0, 0, 0, 0, 0, 0, 0, 0, 0, 0, 0, 0, 0, 0, 0, 0, 0, 0, 0, 0, 0, 0, 0, 0, 0, 0, 0, 0, 0, 0, 0, 0, 0, 0, 0, 0, 0, 0, 0, 0, 0, 0, 0, 0, 0, 0, 0, 0, 0, 0, 0, 0, 0, 0, 0, 0, 0, 0, 0, 0, 0, 0, 0, 0, 0, 0, 0, 0, 0, 0, 0, 0, 0, 0, 0, 0, 0, 0, 0, 0, 0, 0, 0, 0, 0, 0, 0, 0, 0, 0, 0, 0, 0, 0, 0, 0, 0, 0, 0, 0, 0, 0, 0, 0, 0, 0, 0, 0, 0, 0, 0, 0, 0, 0, 0, 0, 0, 0, 0, 0, 0, 0, 0, 0, 0, 0, 0, 0, 0, 0, 0, 0, 0, 0, 0, 0, 0, 0, 0, 0, 0, 0, 0, 0, 0, 0, 0, 0, 0, 0, 0, 0, 0, 0, 0, 0, 0, 0, 0, 0, 0, 0, 0, 0, 0, 0, 0, 0, 0, 0, 0, 0, 0, 0, 0, 0, 0, 0, 0, 0, 0, 0, 0, 0, 0, 0, 0, 0, 0, 0, 0, 0, 0, 0, 0, 0, 0, 0, 0, 0, 0, 0, 0, 0, 0, 0, 0, 0, 0, 0, 0, 0, 0, 0, 0, 0, 0, 0, 0, 0, 0, 0, 0, 0, 0, 0, 0, 0, 0, 0, 0, 0, 0, 0, 0, 0, 0, 0, 0, 0, 0, 0, 0, 0, 0, 0, 0, 0, 0, 0, 0, 0, 0, 0, 0, 0, 0, 0, 0, 0, 0, 0, 0, 0, 0, 0, 0, 0, 0, 0, 0, 0, 0, 0, 0, 0, 0, 0, 0, 0, 0, 0, 0, 0, 0, 0, 0, 0, 0, 0, 0, 0, 0, 0, 0, 0, 0, 0, 0, 0, 0, 0, 0, 0, 0, 0, 0, 0, 0, 0, 0, 0, 0, 0, 0, 0, 0, 0, 0, 0, 0, 0, 0, 0, 0, 0, 0, 0, 0, 0, 0, 0, 0, 0, 0, 0, 0, 0, 0, 0, 0, 0, 0, 0, 0, 0, 0, 0, 0, 0, 0, 0, 0, 0, 0, 0, 0, 0, 0, 0, 0, 0, 0, 0, 0, 0, 0, 0, 0, 0, 0, 0, 0, 0, 0, 0, 0, 0, 0, 0, 0, 0, 0, 0, 0, 0, 0, 0, 0, 0, 0, 0, 0, 0, 0, 0, 0, 0, 0, 0, 0, 0, 0, 0, 0, 0, 0, 0, 0, 0, 0, 0, 0, 0, 0, 0, 0, 0, 0, 0, 0, 0, 0, 0, 0, 0, 0, 0, 0, 0, 0, 0, 0, 0, 0, 0, 0, 0, 0, 0, 0, 0, 0, 0, 0, 0, 0, 0, 0, 0, 0, 0, 0, 0, 0, 0, 0, 0, 0, 0, 0, 0, 0, 0, 0, 0, 0, 0, 0, 0, 0, 0, 0, 0, 0, 0, 0, 0, 0, 0, 0, 0, 0, 0, 0, 0]\n"
     ]
    }
   ],
   "source": [
    "#determine the predictions for the training set\n",
    "prediction_train = get_predictions(X_train)\n",
    "print(prediction_train)"
   ],
   "metadata": {
    "collapsed": false,
    "ExecuteTime": {
     "end_time": "2023-11-20T09:42:02.607309900Z",
     "start_time": "2023-11-20T09:42:02.059936100Z"
    }
   },
   "id": "313640270c79ec54"
  },
  {
   "cell_type": "code",
   "execution_count": 460,
   "outputs": [
    {
     "name": "stdout",
     "output_type": "stream",
     "text": [
      "Accuracy: 84.27%\n"
     ]
    }
   ],
   "source": [
    "calculate_accuracy(y_train, prediction_train)"
   ],
   "metadata": {
    "collapsed": false,
    "ExecuteTime": {
     "end_time": "2023-11-20T09:42:02.607309900Z",
     "start_time": "2023-11-20T09:42:02.571054700Z"
    }
   },
   "id": "5725f6f9c937a97f"
  },
  {
   "cell_type": "code",
   "execution_count": 461,
   "outputs": [
    {
     "name": "stdout",
     "output_type": "stream",
     "text": [
      "Precision: 0.00\n",
      "Recall: 0.00\n",
      "F1 Score: 0.00\n"
     ]
    },
    {
     "name": "stderr",
     "output_type": "stream",
     "text": [
      "C:\\Python311\\Lib\\site-packages\\sklearn\\metrics\\_classification.py:1471: UndefinedMetricWarning: Precision is ill-defined and being set to 0.0 due to no predicted samples. Use `zero_division` parameter to control this behavior.\n",
      "  _warn_prf(average, modifier, msg_start, len(result))\n"
     ]
    },
    {
     "data": {
      "text/plain": "<Figure size 640x480 with 1 Axes>",
      "image/png": "[encoded data removed]"
     },
     "metadata": {},
     "output_type": "display_data"
    }
   ],
   "source": [
    "print_confusion_matrix(y_train, prediction_train)"
   ],
   "metadata": {
    "collapsed": false,
    "ExecuteTime": {
     "end_time": "2023-11-20T09:42:02.738401200Z",
     "start_time": "2023-11-20T09:42:02.573743Z"
    }
   },
   "id": "7de50b6f78a74f08"
  },
  {
   "cell_type": "code",
   "execution_count": 462,
   "outputs": [],
   "source": [
    "#determine the accuracy for cv set\n",
    "prediction_cv = get_predictions(X_cv)\n"
   ],
   "metadata": {
    "collapsed": false,
    "ExecuteTime": {
     "end_time": "2023-11-20T09:42:02.901839400Z",
     "start_time": "2023-11-20T09:42:02.658293700Z"
    }
   },
   "id": "ad6dd18d7310482b"
  },
  {
   "cell_type": "code",
   "execution_count": 463,
   "outputs": [
    {
     "name": "stdout",
     "output_type": "stream",
     "text": [
      "Accuracy: 84.70%\n"
     ]
    }
   ],
   "source": [
    "calculate_accuracy(y_cv, prediction_cv)"
   ],
   "metadata": {
    "collapsed": false,
    "ExecuteTime": {
     "end_time": "2023-11-20T09:42:02.902839300Z",
     "start_time": "2023-11-20T09:42:02.809744600Z"
    }
   },
   "id": "6faf36de962854bb"
  },
  {
   "cell_type": "code",
   "execution_count": 464,
   "outputs": [
    {
     "name": "stdout",
     "output_type": "stream",
     "text": [
      "Precision: 0.00\n",
      "Recall: 0.00\n",
      "F1 Score: 0.00\n"
     ]
    },
    {
     "name": "stderr",
     "output_type": "stream",
     "text": [
      "C:\\Python311\\Lib\\site-packages\\sklearn\\metrics\\_classification.py:1471: UndefinedMetricWarning: Precision is ill-defined and being set to 0.0 due to no predicted samples. Use `zero_division` parameter to control this behavior.\n",
      "  _warn_prf(average, modifier, msg_start, len(result))\n"
     ]
    },
    {
     "data": {
      "text/plain": "<Figure size 640x480 with 1 Axes>",
      "image/png": "[encoded data removed]"
     },
     "metadata": {},
     "output_type": "display_data"
    }
   ],
   "source": [
    "print_confusion_matrix(y_cv, prediction_cv)"
   ],
   "metadata": {
    "collapsed": false,
    "ExecuteTime": {
     "end_time": "2023-11-20T09:42:02.903839Z",
     "start_time": "2023-11-20T09:42:02.815179400Z"
    }
   },
   "id": "93937a55002827a4"
  },
  {
   "cell_type": "code",
   "execution_count": 465,
   "outputs": [
    {
     "name": "stdout",
     "output_type": "stream",
     "text": [
      "Evaluate on test Data\n",
      "32/32 [==============================] - 0s 742us/step - loss: 0.4160 - accuracy: 0.8540\n",
      "test loss, test acc: [0.4159682095050812, 0.8539999723434448]\n"
     ]
    }
   ],
   "source": [
    "#evaluate model on test set\n",
    "print(\"Evaluate on test Data\")\n",
    "results = model.evaluate(X_test, y_test)\n",
    "print(f\"test loss, test acc: {results}\")"
   ],
   "metadata": {
    "collapsed": false,
    "ExecuteTime": {
     "end_time": "2023-11-20T09:42:03.129181800Z",
     "start_time": "2023-11-20T09:42:02.898839700Z"
    }
   },
   "id": "b8704919c43744d"
  },
  {
   "cell_type": "code",
   "execution_count": 466,
   "outputs": [],
   "source": [
    "#determine the accuracy for test set\n",
    "prediction_test = get_predictions(X_test)\n"
   ],
   "metadata": {
    "collapsed": false,
    "ExecuteTime": {
     "end_time": "2023-11-20T09:42:03.131266Z",
     "start_time": "2023-11-20T09:42:02.972837800Z"
    }
   },
   "id": "b8bfcef1b5730af5"
  },
  {
   "cell_type": "code",
   "execution_count": 467,
   "outputs": [
    {
     "name": "stdout",
     "output_type": "stream",
     "text": [
      "Accuracy: 85.40%\n"
     ]
    }
   ],
   "source": [
    "calculate_accuracy(y_test, prediction_test)"
   ],
   "metadata": {
    "collapsed": false,
    "ExecuteTime": {
     "end_time": "2023-11-20T09:42:03.131266Z",
     "start_time": "2023-11-20T09:42:03.125564200Z"
    }
   },
   "id": "5eb4a8b512f4aaf4"
  },
  {
   "cell_type": "code",
   "execution_count": 468,
   "outputs": [
    {
     "name": "stdout",
     "output_type": "stream",
     "text": [
      "Precision: 0.00\n",
      "Recall: 0.00\n",
      "F1 Score: 0.00\n"
     ]
    },
    {
     "name": "stderr",
     "output_type": "stream",
     "text": [
      "C:\\Python311\\Lib\\site-packages\\sklearn\\metrics\\_classification.py:1471: UndefinedMetricWarning: Precision is ill-defined and being set to 0.0 due to no predicted samples. Use `zero_division` parameter to control this behavior.\n",
      "  _warn_prf(average, modifier, msg_start, len(result))\n"
     ]
    },
    {
     "data": {
      "text/plain": "<Figure size 640x480 with 1 Axes>",
      "image/png": "[encoded data removed]"
     },
     "metadata": {},
     "output_type": "display_data"
    }
   ],
   "source": [
    "print_confusion_matrix(y_test, prediction_test)"
   ],
   "metadata": {
    "collapsed": false,
    "ExecuteTime": {
     "end_time": "2023-11-20T09:42:03.259233100Z",
     "start_time": "2023-11-20T09:42:03.129181800Z"
    }
   },
   "id": "b3a5df6a2765042a"
  },
  {
   "cell_type": "markdown",
   "source": [
    "Testing on Unseen Dataset"
   ],
   "metadata": {
    "collapsed": false
   },
   "id": "b29bc5393015320c"
  },
  {
   "cell_type": "code",
   "execution_count": 469,
   "outputs": [],
   "source": [
    "#load the dataset & split into x and y variables\n",
    "test_features, test_y = preprocess(\"unseen.csv\")\n",
    "\n",
    "#create Scaler object\n",
    "scaler = StandardScaler()\n",
    "\n",
    "#scale the features\n",
    "X = scaler.fit_transform(test_features)"
   ],
   "metadata": {
    "collapsed": false,
    "ExecuteTime": {
     "end_time": "2023-11-20T09:42:03.259233100Z",
     "start_time": "2023-11-20T09:42:03.207837900Z"
    }
   },
   "id": "652bfe02ad912858"
  },
  {
   "cell_type": "code",
   "execution_count": 470,
   "outputs": [],
   "source": [
    "prediction_test = get_predictions(test_features)"
   ],
   "metadata": {
    "collapsed": false,
    "ExecuteTime": {
     "end_time": "2023-11-20T09:42:03.365422400Z",
     "start_time": "2023-11-20T09:42:03.218293400Z"
    }
   },
   "id": "9b5e66ca85ce32b8"
  },
  {
   "cell_type": "code",
   "execution_count": 471,
   "outputs": [
    {
     "name": "stdout",
     "output_type": "stream",
     "text": [
      "Accuracy: 84.80%\n"
     ]
    }
   ],
   "source": [
    "calculate_accuracy(test_y, prediction_test)"
   ],
   "metadata": {
    "collapsed": false,
    "ExecuteTime": {
     "end_time": "2023-11-20T09:42:03.439735100Z",
     "start_time": "2023-11-20T09:42:03.296976300Z"
    }
   },
   "id": "9257d8fe5aef10da"
  },
  {
   "cell_type": "code",
   "execution_count": 472,
   "outputs": [
    {
     "name": "stderr",
     "output_type": "stream",
     "text": [
      "C:\\Python311\\Lib\\site-packages\\sklearn\\metrics\\_classification.py:1471: UndefinedMetricWarning: Precision is ill-defined and being set to 0.0 due to no predicted samples. Use `zero_division` parameter to control this behavior.\n",
      "  _warn_prf(average, modifier, msg_start, len(result))\n"
     ]
    },
    {
     "name": "stdout",
     "output_type": "stream",
     "text": [
      "Precision: 0.00\n",
      "Recall: 0.00\n",
      "F1 Score: 0.00\n"
     ]
    },
    {
     "data": {
      "text/plain": "<Figure size 640x480 with 1 Axes>",
      "image/png": "[encoded data removed]"
     },
     "metadata": {},
     "output_type": "display_data"
    }
   ],
   "source": [
    "print_confusion_matrix(test_y, prediction_test)"
   ],
   "metadata": {
    "collapsed": false,
    "ExecuteTime": {
     "end_time": "2023-11-20T09:42:03.442738100Z",
     "start_time": "2023-11-20T09:42:03.299988600Z"
    }
   },
   "id": "a5309a9c56b1baa4"
  }
 ],
 "metadata": {
  "kernelspec": {
   "name": "python311",
   "language": "python",
   "display_name": "Python 3.11"
  },
  "language_info": {
   "codemirror_mode": {
    "name": "ipython",
    "version": 2
   },
   "file_extension": ".py",
   "mimetype": "text/x-python",
   "name": "python",
   "nbconvert_exporter": "python",
   "pygments_lexer": "ipython2",
   "version": "2.7.6"
  }
 },
 "nbformat": 4,
 "nbformat_minor": 5
}
