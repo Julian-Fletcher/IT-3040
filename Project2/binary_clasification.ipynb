{
 "cells": [
  {
   "cell_type": "code",
   "execution_count": 2,
   "id": "initial_id",
   "metadata": {
    "collapsed": true,
    "ExecuteTime": {
     "end_time": "2023-11-13T16:12:24.703134500Z",
     "start_time": "2023-11-13T16:12:24.666459200Z"
    }
   },
   "outputs": [],
   "source": [
    "# Visualize training history\n",
    "#\n",
    "import matplotlib.pyplot as plt\n",
    "import numpy as np\n",
    "import pandas as pd\n",
    "import tensorflow as tf\n",
    "from tensorflow.keras.models import Sequential\n",
    "from tensorflow.keras.layers import Dense\n",
    "from sklearn.preprocessing import StandardScaler\n",
    "from sklearn.model_selection import train_test_split\n",
    "from tensorflow.keras.regularizers import l2\n",
    "import math\n",
    "from mlxtend.plotting import plot_confusion_matrix\n",
    "from sklearn.metrics import precision_score, recall_score, f1_score\n",
    "from sklearn.metrics import confusion_matrix"
   ]
  },
  {
   "cell_type": "code",
   "execution_count": 3,
   "outputs": [],
   "source": [
    "def sigmoid(z):\n",
    "    g = 1/(1 + math.e**-z)\n",
    "    return g"
   ],
   "metadata": {
    "collapsed": false,
    "ExecuteTime": {
     "end_time": "2023-11-13T16:12:25.714687400Z",
     "start_time": "2023-11-13T16:12:25.689155900Z"
    }
   },
   "id": "599f2676f7b99266"
  },
  {
   "cell_type": "code",
   "execution_count": 5,
   "outputs": [],
   "source": [
    "def print_confusion_matrix(true_labels, predictions):\n",
    "    #plot confusion matrix\n",
    "    mat = confusion_matrix(true_labels, predictions)\n",
    "    plot_confusion_matrix(conf_mat=mat)\n",
    "\n",
    "    #Calculate precision, recall, f1_score\n",
    "\n",
    "    #precision\n",
    "    precision = precision_score(true_labels, predictions)\n",
    "\n",
    "    #recall\n",
    "    recall = recall_score(true_labels, predictions)\n",
    "\n",
    "    #fl score\n",
    "    f1 = f1_score(true_labels, predictions)\n",
    "\n",
    "    #Print precision, recall, f1_score\n",
    "    print(f\"Precision: {precision:.2f}\")\n",
    "    print(f\"Recall: {recall:.2f}\")\n",
    "    print(f\"F1 Score: {f1:.2f}\")\n",
    "\n",
    "    return"
   ],
   "metadata": {
    "collapsed": false,
    "ExecuteTime": {
     "end_time": "2023-11-13T16:12:29.393061700Z",
     "start_time": "2023-11-13T16:12:29.137096100Z"
    }
   },
   "id": "ef5d48c38341744e"
  },
  {
   "cell_type": "code",
   "execution_count": 6,
   "outputs": [],
   "source": [
    "def calculate_accuracy(labels, predictions):\n",
    "    \n",
    "    # Calculate the number of correct predictions by comparing 'labels' and 'predictions'\n",
    "    correct_predictions = np.sum(labels == predictions)\n",
    "    \n",
    "    # Calculate the total number of predictions\n",
    "    total_predictions = len(labels)\n",
    "    \n",
    "    # Calculate the accuracy as a percentage\n",
    "    accuracy_percentage = (correct_predictions / total_predictions) * 100.0\n",
    "    \n",
    "    print(f\"Accuracy: {accuracy_percentage:.2f}%\")"
   ],
   "metadata": {
    "collapsed": false,
    "ExecuteTime": {
     "end_time": "2023-11-13T16:12:29.393061700Z",
     "start_time": "2023-11-13T16:12:29.145097700Z"
    }
   },
   "id": "90997ead9b956915"
  },
  {
   "cell_type": "code",
   "execution_count": 7,
   "outputs": [],
   "source": [
    "def get_predictions(feature_data):\n",
    "    #run feature data through the trained model to get the linera activations from the output layer\n",
    "    logits = model(feature_data)\n",
    "\n",
    "    #convert the model outputs to probabilities by running through the sigmoid function\n",
    "    logits = sigmoid(logits)\n",
    "\n",
    "    # get predictions by converting output probabilities to True if >= 0.5, and False if < 0.5\n",
    "    predictions = logits >= 0.5\n",
    "\n",
    "    #convert True to 1 and False to 0\n",
    "    predictions = [int(boolean) for boolean in predictions]\n",
    "\n",
    "    return predictions"
   ],
   "metadata": {
    "collapsed": false,
    "ExecuteTime": {
     "end_time": "2023-11-13T16:12:29.491814400Z",
     "start_time": "2023-11-13T16:12:29.152436500Z"
    }
   },
   "id": "814bf0b0681f3818"
  },
  {
   "cell_type": "code",
   "execution_count": 50,
   "outputs": [],
   "source": [
    "#Create datapath \n",
    "def preprocess(file):\n",
    "    #file = \"Project1_data/shopping.csv\"\n",
    "\n",
    "    #put data into a pandas dataframe\n",
    "    df = pd.read_csv(file)\n",
    "    \n",
    "    #view dataframe rows\n",
    "    df.head()\n",
    "    \n",
    "    #define replacement mapping\n",
    "    bool_mapping = {\n",
    "        \"TRUE\": 1,\n",
    "        \"FALSE\": 0,\n",
    "    }\n",
    "    \n",
    "    month_mapping = {\n",
    "        \"Jan\": 1, \"Feb\": 2, \"Mar\": 3, \"Apr\": 4, \"May\": 5, \"June\": 6, \"Jul\": 7, \"Aug\": 8, \"Sep\": 9, \"Oct\": 10, \"Nov\": 11, \"Dec\": 12\n",
    "    }\n",
    "    \n",
    "    visit_mapping = {\n",
    "        \"New_Visitor\": 1, \"Returning_Visitor\": 2, \"Other\": 3\n",
    "    }\n",
    "    \n",
    "    #Convert true/false to strings\n",
    "    df['Weekend'] = df['Weekend'].astype(str)\n",
    "    df['Revenue'] = df['Revenue'].astype(str)\n",
    "    \n",
    "    df['Weekend'] = df['Weekend'].str.upper()\n",
    "    df['Revenue'] = df['Revenue'].str.upper()\n",
    "    \n",
    "    #Replace non-integer values\n",
    "    df['Month'] = df['Month'].replace(month_mapping)\n",
    "    df['VisitorType'] = df['VisitorType'].replace(visit_mapping)\n",
    "    df['Weekend'] = df['Weekend'].replace(bool_mapping)\n",
    "    df['Revenue'] = df['Revenue'].replace(bool_mapping)\n",
    "    \n",
    "    df.head(10)\n",
    "    \n",
    "    #convert dataframe to numpy array\n",
    "    data_array = df.to_numpy()\n",
    "    \n",
    "    return split_data(data_array)\n",
    "\n",
    "def split_data(data):\n",
    "    X = data[:, :17]\n",
    "    y = data[:, 17]\n",
    "    return X, y\n"
   ],
   "metadata": {
    "collapsed": false,
    "ExecuteTime": {
     "end_time": "2023-11-13T16:13:56.200979500Z",
     "start_time": "2023-11-13T16:13:55.908787Z"
    }
   },
   "id": "a513415322c94ad9"
  },
  {
   "cell_type": "code",
   "execution_count": 51,
   "outputs": [
    {
     "name": "stdout",
     "output_type": "stream",
     "text": [
      "X shape: (5000, 17)\n",
      "y shape: (5000,)\n",
      "[ 0.21173582  0.35206422 -0.38787235 -0.23716731  0.35785985 -0.06903133\n",
      " -0.3764785  -0.61938805 -0.31442715 -0.31311801  0.99578857 -1.22770075\n",
      "  3.26250963  1.17721659  1.71636354  0.36452294 -0.55763754]\n"
     ]
    }
   ],
   "source": [
    "#load the dataset & split into x and y variables\n",
    "features, y = preprocess(\"shopping.csv\")\n",
    "\n",
    "#create Scaler object\n",
    "scaler = StandardScaler()\n",
    "\n",
    "#scale the features\n",
    "X = scaler.fit_transform(features)\n",
    "\n",
    "print(f\"X shape: {X.shape}\")\n",
    "print(f\"y shape: {y.shape}\")\n",
    "\n",
    "#look at the first X row\n",
    "print(X[0])\n"
   ],
   "metadata": {
    "collapsed": false,
    "ExecuteTime": {
     "end_time": "2023-11-13T16:13:56.219142300Z",
     "start_time": "2023-11-13T16:13:55.928112500Z"
    }
   },
   "id": "6e12b87e21c49fea"
  },
  {
   "cell_type": "code",
   "execution_count": 52,
   "outputs": [
    {
     "name": "stdout",
     "output_type": "stream",
     "text": [
      "X_train shape: (3000, 17)\n",
      "X_test shape: (1000, 17)\n",
      "X_cv shape: (1000, 17)\n",
      "y_train shape: (3000,)\n",
      "y_test shape: (1000,)\n",
      "y_cv shape: (1000,)\n"
     ]
    }
   ],
   "source": [
    "# split  data into training, CV, test sets\n",
    "# use the train_test_split modules\n",
    "X_train, X_test, y_train, y_test = train_test_split(X, y, test_size=0.4, random_state=35)\n",
    "\n",
    "#split test set 50:50 for the CV and test sets\n",
    "X_test, X_cv, y_test, y_cv = train_test_split(X_test, y_test, test_size=0.5)\n",
    "\n",
    "#Print the shapes of the resulting sets\n",
    "print(f\"X_train shape: {X_train.shape}\")\n",
    "print(f\"X_test shape: {X_test.shape}\")\n",
    "print(f\"X_cv shape: {X_cv.shape}\")\n",
    "\n",
    "print(f\"y_train shape: {y_train.shape}\")\n",
    "print(f\"y_test shape: {y_test.shape}\")\n",
    "print(f\"y_cv shape: {y_cv.shape}\")\n",
    "\n"
   ],
   "metadata": {
    "collapsed": false,
    "ExecuteTime": {
     "end_time": "2023-11-13T16:13:56.219142300Z",
     "start_time": "2023-11-13T16:13:55.963017500Z"
    }
   },
   "id": "b2940e3252bf0d6f"
  },
  {
   "cell_type": "code",
   "execution_count": 53,
   "outputs": [],
   "source": [
    "#create model\n",
    "model = Sequential([\n",
    "    tf.keras.Input(shape=(17,)),\n",
    "    Dense(64, activation='relu', kernel_regularizer=l2(0.00)),\n",
    "    Dense(32, activation='relu', kernel_regularizer=l2(0.00)),\n",
    "    Dense(16, activation='relu', kernel_regularizer=l2(0.001)),\n",
    "    Dense(10, activation='relu', kernel_regularizer=l2(0.00)),\n",
    "    Dense(1, activation='linear')\n",
    "])\n",
    "    "
   ],
   "metadata": {
    "collapsed": false,
    "ExecuteTime": {
     "end_time": "2023-11-13T16:13:56.219142300Z",
     "start_time": "2023-11-13T16:13:55.988097900Z"
    }
   },
   "id": "cdb6bce9f555b576"
  },
  {
   "cell_type": "code",
   "execution_count": 54,
   "outputs": [
    {
     "name": "stdout",
     "output_type": "stream",
     "text": [
      "Model: \"sequential_2\"\n",
      "_________________________________________________________________\n",
      " Layer (type)                Output Shape              Param #   \n",
      "=================================================================\n",
      " dense_10 (Dense)            (None, 64)                1152      \n",
      "                                                                 \n",
      " dense_11 (Dense)            (None, 32)                2080      \n",
      "                                                                 \n",
      " dense_12 (Dense)            (None, 16)                528       \n",
      "                                                                 \n",
      " dense_13 (Dense)            (None, 10)                170       \n",
      "                                                                 \n",
      " dense_14 (Dense)            (None, 1)                 11        \n",
      "                                                                 \n",
      "=================================================================\n",
      "Total params: 3941 (15.39 KB)\n",
      "Trainable params: 3941 (15.39 KB)\n",
      "Non-trainable params: 0 (0.00 Byte)\n",
      "_________________________________________________________________\n"
     ]
    }
   ],
   "source": [
    "#print model summary\n",
    "model.summary()"
   ],
   "metadata": {
    "collapsed": false,
    "ExecuteTime": {
     "end_time": "2023-11-13T16:13:56.219142300Z",
     "start_time": "2023-11-13T16:13:56.032000900Z"
    }
   },
   "id": "1ffd5debfe1795a8"
  },
  {
   "cell_type": "code",
   "execution_count": 55,
   "outputs": [
    {
     "name": "stdout",
     "output_type": "stream",
     "text": [
      "Epoch 1/100\n",
      "157/157 [==============================] - 2s 3ms/step - loss: 0.4416 - accuracy: 0.8554 - val_loss: 0.3002 - val_accuracy: 0.8780\n",
      "Epoch 2/100\n",
      "157/157 [==============================] - 0s 2ms/step - loss: 0.2946 - accuracy: 0.8810 - val_loss: 0.2715 - val_accuracy: 0.8880\n",
      "Epoch 3/100\n",
      "157/157 [==============================] - 0s 2ms/step - loss: 0.2755 - accuracy: 0.8846 - val_loss: 0.2702 - val_accuracy: 0.8880\n",
      "Epoch 4/100\n",
      "157/157 [==============================] - 0s 2ms/step - loss: 0.2660 - accuracy: 0.8872 - val_loss: 0.2515 - val_accuracy: 0.8890\n",
      "Epoch 5/100\n",
      "157/157 [==============================] - 0s 2ms/step - loss: 0.2589 - accuracy: 0.8900 - val_loss: 0.2452 - val_accuracy: 0.8950\n",
      "Epoch 6/100\n",
      "157/157 [==============================] - 0s 2ms/step - loss: 0.2533 - accuracy: 0.8918 - val_loss: 0.2379 - val_accuracy: 0.8930\n",
      "Epoch 7/100\n",
      "157/157 [==============================] - 0s 2ms/step - loss: 0.2483 - accuracy: 0.8966 - val_loss: 0.2398 - val_accuracy: 0.8950\n",
      "Epoch 8/100\n",
      "157/157 [==============================] - 0s 2ms/step - loss: 0.2451 - accuracy: 0.8944 - val_loss: 0.2418 - val_accuracy: 0.8910\n",
      "Epoch 9/100\n",
      "157/157 [==============================] - 0s 3ms/step - loss: 0.2428 - accuracy: 0.8974 - val_loss: 0.2285 - val_accuracy: 0.8990\n",
      "Epoch 10/100\n",
      "157/157 [==============================] - 0s 2ms/step - loss: 0.2401 - accuracy: 0.8962 - val_loss: 0.2286 - val_accuracy: 0.9030\n",
      "Epoch 11/100\n",
      "157/157 [==============================] - 0s 2ms/step - loss: 0.2374 - accuracy: 0.8988 - val_loss: 0.2376 - val_accuracy: 0.9000\n",
      "Epoch 12/100\n",
      "157/157 [==============================] - 0s 2ms/step - loss: 0.2351 - accuracy: 0.8988 - val_loss: 0.2306 - val_accuracy: 0.9050\n",
      "Epoch 13/100\n",
      "157/157 [==============================] - 0s 2ms/step - loss: 0.2291 - accuracy: 0.9004 - val_loss: 0.2223 - val_accuracy: 0.8990\n",
      "Epoch 14/100\n",
      "157/157 [==============================] - 0s 3ms/step - loss: 0.2282 - accuracy: 0.9024 - val_loss: 0.2172 - val_accuracy: 0.9050\n",
      "Epoch 15/100\n",
      "157/157 [==============================] - 0s 2ms/step - loss: 0.2254 - accuracy: 0.9040 - val_loss: 0.2156 - val_accuracy: 0.8980\n",
      "Epoch 16/100\n",
      "157/157 [==============================] - 0s 2ms/step - loss: 0.2215 - accuracy: 0.9064 - val_loss: 0.2131 - val_accuracy: 0.9020\n",
      "Epoch 17/100\n",
      "157/157 [==============================] - 0s 2ms/step - loss: 0.2192 - accuracy: 0.9070 - val_loss: 0.2136 - val_accuracy: 0.9140\n",
      "Epoch 18/100\n",
      "157/157 [==============================] - 0s 3ms/step - loss: 0.2158 - accuracy: 0.9058 - val_loss: 0.2058 - val_accuracy: 0.9120\n",
      "Epoch 19/100\n",
      "157/157 [==============================] - 0s 2ms/step - loss: 0.2155 - accuracy: 0.9090 - val_loss: 0.2154 - val_accuracy: 0.9060\n",
      "Epoch 20/100\n",
      "157/157 [==============================] - 0s 2ms/step - loss: 0.2162 - accuracy: 0.9090 - val_loss: 0.1991 - val_accuracy: 0.9100\n",
      "Epoch 21/100\n",
      "157/157 [==============================] - 0s 2ms/step - loss: 0.2110 - accuracy: 0.9082 - val_loss: 0.1993 - val_accuracy: 0.9070\n",
      "Epoch 22/100\n",
      "157/157 [==============================] - 0s 2ms/step - loss: 0.2076 - accuracy: 0.9104 - val_loss: 0.1973 - val_accuracy: 0.9080\n",
      "Epoch 23/100\n",
      "157/157 [==============================] - 0s 2ms/step - loss: 0.2033 - accuracy: 0.9122 - val_loss: 0.1914 - val_accuracy: 0.9120\n",
      "Epoch 24/100\n",
      "157/157 [==============================] - 0s 3ms/step - loss: 0.1987 - accuracy: 0.9128 - val_loss: 0.1947 - val_accuracy: 0.9150\n",
      "Epoch 25/100\n",
      "157/157 [==============================] - 0s 3ms/step - loss: 0.1974 - accuracy: 0.9140 - val_loss: 0.1923 - val_accuracy: 0.9100\n",
      "Epoch 26/100\n",
      "157/157 [==============================] - 0s 2ms/step - loss: 0.1963 - accuracy: 0.9162 - val_loss: 0.1880 - val_accuracy: 0.9240\n",
      "Epoch 27/100\n",
      "157/157 [==============================] - 0s 2ms/step - loss: 0.1922 - accuracy: 0.9206 - val_loss: 0.1773 - val_accuracy: 0.9170\n",
      "Epoch 28/100\n",
      "157/157 [==============================] - 0s 3ms/step - loss: 0.1906 - accuracy: 0.9206 - val_loss: 0.1832 - val_accuracy: 0.9320\n",
      "Epoch 29/100\n",
      "157/157 [==============================] - 0s 2ms/step - loss: 0.1858 - accuracy: 0.9202 - val_loss: 0.1713 - val_accuracy: 0.9220\n",
      "Epoch 30/100\n",
      "157/157 [==============================] - 0s 2ms/step - loss: 0.1880 - accuracy: 0.9206 - val_loss: 0.1790 - val_accuracy: 0.9260\n",
      "Epoch 31/100\n",
      "157/157 [==============================] - 0s 2ms/step - loss: 0.1895 - accuracy: 0.9200 - val_loss: 0.1746 - val_accuracy: 0.9190\n",
      "Epoch 32/100\n",
      "157/157 [==============================] - 0s 2ms/step - loss: 0.1804 - accuracy: 0.9260 - val_loss: 0.1681 - val_accuracy: 0.9300\n",
      "Epoch 33/100\n",
      "157/157 [==============================] - 0s 3ms/step - loss: 0.1737 - accuracy: 0.9284 - val_loss: 0.1650 - val_accuracy: 0.9290\n",
      "Epoch 34/100\n",
      "157/157 [==============================] - 0s 2ms/step - loss: 0.1748 - accuracy: 0.9282 - val_loss: 0.1641 - val_accuracy: 0.9320\n",
      "Epoch 35/100\n",
      "157/157 [==============================] - 0s 2ms/step - loss: 0.1743 - accuracy: 0.9250 - val_loss: 0.1560 - val_accuracy: 0.9320\n",
      "Epoch 36/100\n",
      "157/157 [==============================] - 0s 2ms/step - loss: 0.1656 - accuracy: 0.9320 - val_loss: 0.1575 - val_accuracy: 0.9400\n",
      "Epoch 37/100\n",
      "157/157 [==============================] - 0s 2ms/step - loss: 0.1666 - accuracy: 0.9298 - val_loss: 0.1577 - val_accuracy: 0.9340\n",
      "Epoch 38/100\n",
      "157/157 [==============================] - 0s 2ms/step - loss: 0.1613 - accuracy: 0.9320 - val_loss: 0.1533 - val_accuracy: 0.9380\n",
      "Epoch 39/100\n",
      "157/157 [==============================] - 0s 2ms/step - loss: 0.1594 - accuracy: 0.9338 - val_loss: 0.1573 - val_accuracy: 0.9300\n",
      "Epoch 40/100\n",
      "157/157 [==============================] - 0s 2ms/step - loss: 0.1565 - accuracy: 0.9330 - val_loss: 0.1433 - val_accuracy: 0.9380\n",
      "Epoch 41/100\n",
      "157/157 [==============================] - 0s 2ms/step - loss: 0.1538 - accuracy: 0.9346 - val_loss: 0.1483 - val_accuracy: 0.9500\n",
      "Epoch 42/100\n",
      "157/157 [==============================] - 0s 2ms/step - loss: 0.1527 - accuracy: 0.9406 - val_loss: 0.1371 - val_accuracy: 0.9370\n",
      "Epoch 43/100\n",
      "157/157 [==============================] - 0s 2ms/step - loss: 0.1486 - accuracy: 0.9360 - val_loss: 0.1342 - val_accuracy: 0.9480\n",
      "Epoch 44/100\n",
      "157/157 [==============================] - 0s 2ms/step - loss: 0.1478 - accuracy: 0.9402 - val_loss: 0.1408 - val_accuracy: 0.9420\n",
      "Epoch 45/100\n",
      "157/157 [==============================] - 0s 2ms/step - loss: 0.1465 - accuracy: 0.9396 - val_loss: 0.1276 - val_accuracy: 0.9430\n",
      "Epoch 46/100\n",
      "157/157 [==============================] - 0s 2ms/step - loss: 0.1412 - accuracy: 0.9414 - val_loss: 0.1373 - val_accuracy: 0.9510\n",
      "Epoch 47/100\n",
      "157/157 [==============================] - 0s 2ms/step - loss: 0.1383 - accuracy: 0.9436 - val_loss: 0.1377 - val_accuracy: 0.9450\n",
      "Epoch 48/100\n",
      "157/157 [==============================] - 0s 2ms/step - loss: 0.1379 - accuracy: 0.9438 - val_loss: 0.1321 - val_accuracy: 0.9420\n",
      "Epoch 49/100\n",
      "157/157 [==============================] - 0s 2ms/step - loss: 0.1423 - accuracy: 0.9412 - val_loss: 0.1322 - val_accuracy: 0.9480\n",
      "Epoch 50/100\n",
      "157/157 [==============================] - 0s 2ms/step - loss: 0.1341 - accuracy: 0.9458 - val_loss: 0.1262 - val_accuracy: 0.9490\n",
      "Epoch 51/100\n",
      "157/157 [==============================] - 0s 2ms/step - loss: 0.1346 - accuracy: 0.9472 - val_loss: 0.1192 - val_accuracy: 0.9550\n",
      "Epoch 52/100\n",
      "157/157 [==============================] - 0s 2ms/step - loss: 0.1266 - accuracy: 0.9512 - val_loss: 0.1091 - val_accuracy: 0.9520\n",
      "Epoch 53/100\n",
      "157/157 [==============================] - 0s 2ms/step - loss: 0.1246 - accuracy: 0.9490 - val_loss: 0.1166 - val_accuracy: 0.9550\n",
      "Epoch 54/100\n",
      "157/157 [==============================] - 0s 2ms/step - loss: 0.1210 - accuracy: 0.9518 - val_loss: 0.1145 - val_accuracy: 0.9450\n",
      "Epoch 55/100\n",
      "157/157 [==============================] - 0s 2ms/step - loss: 0.1182 - accuracy: 0.9522 - val_loss: 0.1210 - val_accuracy: 0.9500\n",
      "Epoch 56/100\n",
      "157/157 [==============================] - 0s 2ms/step - loss: 0.1190 - accuracy: 0.9546 - val_loss: 0.1112 - val_accuracy: 0.9540\n",
      "Epoch 57/100\n",
      "157/157 [==============================] - 0s 2ms/step - loss: 0.1150 - accuracy: 0.9556 - val_loss: 0.0994 - val_accuracy: 0.9600\n",
      "Epoch 58/100\n",
      "157/157 [==============================] - 0s 2ms/step - loss: 0.1143 - accuracy: 0.9568 - val_loss: 0.1151 - val_accuracy: 0.9480\n",
      "Epoch 59/100\n",
      "157/157 [==============================] - 0s 2ms/step - loss: 0.1219 - accuracy: 0.9524 - val_loss: 0.1111 - val_accuracy: 0.9630\n",
      "Epoch 60/100\n",
      "157/157 [==============================] - 0s 3ms/step - loss: 0.1201 - accuracy: 0.9524 - val_loss: 0.0967 - val_accuracy: 0.9590\n",
      "Epoch 61/100\n",
      "157/157 [==============================] - 0s 2ms/step - loss: 0.1057 - accuracy: 0.9612 - val_loss: 0.0967 - val_accuracy: 0.9710\n",
      "Epoch 62/100\n",
      "157/157 [==============================] - 0s 2ms/step - loss: 0.1035 - accuracy: 0.9606 - val_loss: 0.0954 - val_accuracy: 0.9630\n",
      "Epoch 63/100\n",
      "157/157 [==============================] - 0s 2ms/step - loss: 0.1083 - accuracy: 0.9588 - val_loss: 0.0952 - val_accuracy: 0.9680\n",
      "Epoch 64/100\n",
      "157/157 [==============================] - 0s 2ms/step - loss: 0.1003 - accuracy: 0.9650 - val_loss: 0.0860 - val_accuracy: 0.9730\n",
      "Epoch 65/100\n",
      "157/157 [==============================] - 0s 3ms/step - loss: 0.1093 - accuracy: 0.9594 - val_loss: 0.0951 - val_accuracy: 0.9670\n",
      "Epoch 66/100\n",
      "157/157 [==============================] - 0s 3ms/step - loss: 0.1114 - accuracy: 0.9592 - val_loss: 0.0947 - val_accuracy: 0.9640\n",
      "Epoch 67/100\n",
      "157/157 [==============================] - 0s 3ms/step - loss: 0.1041 - accuracy: 0.9604 - val_loss: 0.0849 - val_accuracy: 0.9720\n",
      "Epoch 68/100\n",
      "157/157 [==============================] - 0s 3ms/step - loss: 0.0921 - accuracy: 0.9670 - val_loss: 0.0890 - val_accuracy: 0.9670\n",
      "Epoch 69/100\n",
      "157/157 [==============================] - 0s 2ms/step - loss: 0.0940 - accuracy: 0.9660 - val_loss: 0.0802 - val_accuracy: 0.9730\n",
      "Epoch 70/100\n",
      "157/157 [==============================] - 0s 3ms/step - loss: 0.0973 - accuracy: 0.9618 - val_loss: 0.1225 - val_accuracy: 0.9600\n",
      "Epoch 71/100\n",
      "157/157 [==============================] - 0s 2ms/step - loss: 0.0915 - accuracy: 0.9682 - val_loss: 0.0940 - val_accuracy: 0.9580\n",
      "Epoch 72/100\n",
      "157/157 [==============================] - 0s 2ms/step - loss: 0.0922 - accuracy: 0.9666 - val_loss: 0.0856 - val_accuracy: 0.9670\n",
      "Epoch 73/100\n",
      "157/157 [==============================] - 0s 2ms/step - loss: 0.0833 - accuracy: 0.9712 - val_loss: 0.0839 - val_accuracy: 0.9660\n",
      "Epoch 74/100\n",
      "157/157 [==============================] - 0s 2ms/step - loss: 0.0955 - accuracy: 0.9670 - val_loss: 0.0807 - val_accuracy: 0.9720\n",
      "Epoch 75/100\n",
      "157/157 [==============================] - 0s 2ms/step - loss: 0.0925 - accuracy: 0.9690 - val_loss: 0.0839 - val_accuracy: 0.9740\n",
      "Epoch 76/100\n",
      "157/157 [==============================] - 0s 2ms/step - loss: 0.0861 - accuracy: 0.9702 - val_loss: 0.0817 - val_accuracy: 0.9750\n",
      "Epoch 77/100\n",
      "157/157 [==============================] - 0s 2ms/step - loss: 0.0804 - accuracy: 0.9712 - val_loss: 0.0800 - val_accuracy: 0.9680\n",
      "Epoch 78/100\n",
      "157/157 [==============================] - 0s 3ms/step - loss: 0.0790 - accuracy: 0.9732 - val_loss: 0.0808 - val_accuracy: 0.9650\n",
      "Epoch 79/100\n",
      "157/157 [==============================] - 0s 3ms/step - loss: 0.0835 - accuracy: 0.9706 - val_loss: 0.0906 - val_accuracy: 0.9750\n",
      "Epoch 80/100\n",
      "157/157 [==============================] - 0s 2ms/step - loss: 0.0875 - accuracy: 0.9692 - val_loss: 0.0780 - val_accuracy: 0.9740\n",
      "Epoch 81/100\n",
      "157/157 [==============================] - 0s 2ms/step - loss: 0.0772 - accuracy: 0.9730 - val_loss: 0.0669 - val_accuracy: 0.9840\n",
      "Epoch 82/100\n",
      "157/157 [==============================] - 0s 2ms/step - loss: 0.0829 - accuracy: 0.9722 - val_loss: 0.0830 - val_accuracy: 0.9740\n",
      "Epoch 83/100\n",
      "157/157 [==============================] - 0s 2ms/step - loss: 0.0919 - accuracy: 0.9690 - val_loss: 0.0666 - val_accuracy: 0.9730\n",
      "Epoch 84/100\n",
      "157/157 [==============================] - 0s 2ms/step - loss: 0.0741 - accuracy: 0.9738 - val_loss: 0.0708 - val_accuracy: 0.9770\n",
      "Epoch 85/100\n",
      "157/157 [==============================] - 0s 2ms/step - loss: 0.0793 - accuracy: 0.9718 - val_loss: 0.0615 - val_accuracy: 0.9780\n",
      "Epoch 86/100\n",
      "157/157 [==============================] - 0s 2ms/step - loss: 0.0702 - accuracy: 0.9756 - val_loss: 0.0607 - val_accuracy: 0.9790\n",
      "Epoch 87/100\n",
      "157/157 [==============================] - 0s 2ms/step - loss: 0.0653 - accuracy: 0.9802 - val_loss: 0.0572 - val_accuracy: 0.9880\n",
      "Epoch 88/100\n",
      "157/157 [==============================] - 0s 2ms/step - loss: 0.0605 - accuracy: 0.9802 - val_loss: 0.0713 - val_accuracy: 0.9770\n",
      "Epoch 89/100\n",
      "157/157 [==============================] - 0s 2ms/step - loss: 0.0648 - accuracy: 0.9798 - val_loss: 0.0617 - val_accuracy: 0.9760\n",
      "Epoch 90/100\n",
      "157/157 [==============================] - 0s 2ms/step - loss: 0.0785 - accuracy: 0.9726 - val_loss: 0.0749 - val_accuracy: 0.9700\n",
      "Epoch 91/100\n",
      "157/157 [==============================] - 0s 2ms/step - loss: 0.0773 - accuracy: 0.9750 - val_loss: 0.0624 - val_accuracy: 0.9760\n",
      "Epoch 92/100\n",
      "157/157 [==============================] - 0s 2ms/step - loss: 0.0741 - accuracy: 0.9772 - val_loss: 0.0581 - val_accuracy: 0.9810\n",
      "Epoch 93/100\n",
      "157/157 [==============================] - 0s 2ms/step - loss: 0.0814 - accuracy: 0.9712 - val_loss: 0.1034 - val_accuracy: 0.9770\n",
      "Epoch 94/100\n",
      "157/157 [==============================] - 0s 2ms/step - loss: 0.0886 - accuracy: 0.9720 - val_loss: 0.0661 - val_accuracy: 0.9770\n",
      "Epoch 95/100\n",
      "157/157 [==============================] - 0s 2ms/step - loss: 0.0710 - accuracy: 0.9762 - val_loss: 0.0674 - val_accuracy: 0.9740\n",
      "Epoch 96/100\n",
      "157/157 [==============================] - 0s 3ms/step - loss: 0.0801 - accuracy: 0.9744 - val_loss: 0.0534 - val_accuracy: 0.9830\n",
      "Epoch 97/100\n",
      "157/157 [==============================] - 0s 3ms/step - loss: 0.0583 - accuracy: 0.9810 - val_loss: 0.0645 - val_accuracy: 0.9680\n",
      "Epoch 98/100\n",
      "157/157 [==============================] - 0s 2ms/step - loss: 0.0559 - accuracy: 0.9830 - val_loss: 0.0504 - val_accuracy: 0.9860\n",
      "Epoch 99/100\n",
      "157/157 [==============================] - 0s 2ms/step - loss: 0.0559 - accuracy: 0.9826 - val_loss: 0.0479 - val_accuracy: 0.9830\n",
      "Epoch 100/100\n",
      "157/157 [==============================] - 0s 2ms/step - loss: 0.0548 - accuracy: 0.9836 - val_loss: 0.0558 - val_accuracy: 0.9790\n"
     ]
    }
   ],
   "source": [
    "#compile model\n",
    "model.compile(loss=tf.keras.losses.BinaryCrossentropy(from_logits=True),\n",
    "              optimizer=tf.keras.optimizers.Adam(0.001),\n",
    "              metrics=['accuracy']    \n",
    ")\n",
    "\n",
    "#fit the model\n",
    "history = model.fit(\n",
    "    X, y,\n",
    "    validation_data=(X_cv, y_cv),\n",
    "    epochs=100\n",
    ")"
   ],
   "metadata": {
    "collapsed": false,
    "ExecuteTime": {
     "end_time": "2023-11-13T16:14:33.357654700Z",
     "start_time": "2023-11-13T16:13:56.053287600Z"
    }
   },
   "id": "83a249ae86d87207"
  },
  {
   "cell_type": "code",
   "execution_count": 56,
   "outputs": [
    {
     "name": "stdout",
     "output_type": "stream",
     "text": [
      "dict_keys(['loss', 'accuracy', 'val_loss', 'val_accuracy'])\n"
     ]
    }
   ],
   "source": [
    "#list history data\n",
    "print(history.history.keys())"
   ],
   "metadata": {
    "collapsed": false,
    "ExecuteTime": {
     "end_time": "2023-11-13T16:14:33.357654700Z",
     "start_time": "2023-11-13T16:14:33.352141400Z"
    }
   },
   "id": "ce89db3290af07c"
  },
  {
   "cell_type": "code",
   "execution_count": 57,
   "outputs": [
    {
     "data": {
      "text/plain": "<Figure size 640x480 with 1 Axes>",
      "image/png": "[encoded data removed]"
     },
     "metadata": {},
     "output_type": "display_data"
    }
   ],
   "source": [
    "#summarize history for loss\n",
    "plt.plot(history.history['loss'])\n",
    "plt.plot(history.history['val_loss'])\n",
    "plt.title('model loss')\n",
    "plt.ylabel('loss')\n",
    "plt.xlabel('epochs')\n",
    "plt.legend(['train', 'CV'], loc='upper left')\n",
    "plt.show()"
   ],
   "metadata": {
    "collapsed": false,
    "ExecuteTime": {
     "end_time": "2023-11-13T16:14:33.519468300Z",
     "start_time": "2023-11-13T16:14:33.357654700Z"
    }
   },
   "id": "8d04660503bdf8f7"
  },
  {
   "cell_type": "code",
   "execution_count": 58,
   "outputs": [
    {
     "data": {
      "text/plain": "<Figure size 640x480 with 1 Axes>",
      "image/png": "[encoded data removed]"
     },
     "metadata": {},
     "output_type": "display_data"
    }
   ],
   "source": [
    "#summarize history for accuracy\n",
    "plt.plot(history.history['accuracy'])\n",
    "plt.plot(history.history['val_accuracy'])\n",
    "plt.title('model accuracy')\n",
    "plt.ylabel('accuracy')\n",
    "plt.xlabel('epochs')\n",
    "plt.legend(['train', 'test'], loc='upper left')\n",
    "plt.show()"
   ],
   "metadata": {
    "collapsed": false,
    "ExecuteTime": {
     "end_time": "2023-11-13T16:14:34.022509200Z",
     "start_time": "2023-11-13T16:14:33.519468300Z"
    }
   },
   "id": "faf064f21e717e11"
  },
  {
   "cell_type": "code",
   "execution_count": 59,
   "outputs": [
    {
     "name": "stdout",
     "output_type": "stream",
     "text": [
      "[0, 0, 0, 0, 0, 0, 0, 0, 0, 0, 1, 0, 0, 1, 0, 0, 0, 0, 0, 0, 0, 1, 0, 0, 0, 0, 0, 1, 0, 0, 1, 0, 0, 0, 0, 0, 0, 0, 0, 0, 0, 0, 0, 1, 0, 0, 0, 0, 0, 0, 0, 0, 0, 0, 0, 0, 0, 1, 0, 0, 1, 0, 0, 0, 0, 0, 0, 0, 1, 0, 0, 0, 0, 0, 0, 0, 0, 0, 0, 0, 0, 0, 0, 0, 0, 0, 0, 0, 0, 0, 0, 0, 0, 1, 1, 1, 1, 0, 0, 1, 0, 1, 0, 0, 1, 0, 0, 0, 0, 0, 0, 0, 0, 0, 1, 0, 0, 1, 0, 0, 0, 0, 0, 0, 0, 0, 0, 0, 0, 0, 1, 0, 1, 0, 0, 0, 0, 0, 0, 0, 0, 0, 0, 0, 0, 0, 0, 0, 0, 0, 0, 0, 0, 1, 0, 0, 0, 1, 1, 0, 1, 0, 0, 0, 0, 0, 0, 0, 0, 0, 0, 0, 0, 1, 0, 0, 0, 0, 0, 0, 0, 0, 1, 0, 1, 0, 0, 0, 0, 1, 1, 0, 0, 0, 0, 0, 0, 0, 0, 0, 0, 0, 0, 0, 0, 0, 0, 0, 0, 0, 0, 1, 0, 0, 0, 0, 0, 0, 0, 0, 0, 0, 1, 0, 0, 0, 0, 0, 0, 1, 0, 0, 0, 0, 0, 1, 0, 1, 0, 0, 0, 1, 0, 0, 0, 0, 0, 0, 0, 0, 1, 0, 0, 0, 1, 0, 0, 0, 0, 0, 0, 0, 0, 0, 1, 1, 0, 1, 1, 0, 1, 0, 0, 0, 0, 0, 0, 0, 0, 0, 0, 0, 0, 0, 0, 0, 0, 0, 0, 0, 0, 0, 0, 0, 0, 0, 0, 0, 0, 0, 0, 0, 0, 0, 0, 0, 0, 0, 0, 0, 0, 0, 0, 0, 0, 0, 0, 0, 0, 0, 0, 0, 0, 0, 0, 0, 0, 1, 0, 1, 1, 0, 0, 0, 1, 0, 0, 0, 1, 0, 0, 0, 0, 0, 0, 0, 0, 1, 1, 0, 0, 0, 0, 0, 0, 0, 0, 0, 1, 0, 0, 0, 0, 1, 1, 0, 0, 0, 0, 0, 0, 0, 1, 1, 0, 1, 1, 0, 0, 0, 0, 1, 0, 0, 0, 0, 0, 0, 0, 0, 0, 0, 0, 0, 1, 1, 0, 0, 0, 0, 0, 0, 0, 0, 0, 0, 0, 1, 0, 0, 1, 0, 0, 0, 0, 0, 0, 0, 0, 0, 1, 1, 1, 1, 1, 1, 0, 0, 0, 0, 0, 0, 0, 0, 0, 1, 0, 0, 1, 1, 0, 0, 1, 0, 0, 0, 0, 0, 0, 0, 0, 1, 0, 0, 1, 0, 0, 0, 0, 0, 0, 0, 1, 0, 0, 0, 0, 0, 0, 0, 0, 0, 0, 0, 0, 0, 0, 0, 0, 0, 0, 0, 0, 1, 0, 0, 0, 0, 0, 0, 0, 0, 0, 0, 0, 0, 0, 0, 1, 0, 0, 0, 0, 0, 0, 1, 1, 0, 1, 0, 0, 0, 1, 0, 0, 0, 0, 0, 0, 1, 0, 1, 0, 0, 0, 0, 0, 0, 0, 0, 0, 0, 1, 0, 0, 0, 0, 0, 0, 0, 0, 0, 0, 0, 1, 0, 0, 1, 1, 0, 0, 1, 0, 0, 0, 0, 0, 0, 0, 0, 0, 0, 0, 0, 0, 1, 0, 1, 0, 1, 0, 0, 0, 0, 0, 0, 0, 0, 0, 0, 0, 0, 0, 0, 1, 0, 0, 0, 1, 0, 0, 0, 0, 0, 0, 0, 0, 0, 0, 0, 1, 0, 0, 0, 0, 0, 0, 0, 0, 0, 0, 0, 1, 0, 0, 0, 1, 0, 0, 0, 0, 0, 0, 0, 0, 0, 0, 0, 0, 1, 0, 0, 0, 0, 0, 1, 0, 0, 0, 0, 0, 0, 1, 1, 1, 1, 0, 0, 0, 0, 0, 0, 0, 0, 0, 0, 0, 0, 0, 0, 0, 1, 0, 0, 0, 1, 0, 1, 0, 0, 0, 0, 0, 1, 0, 0, 0, 0, 0, 0, 0, 0, 0, 0, 0, 0, 0, 0, 0, 0, 0, 0, 0, 0, 0, 0, 0, 0, 0, 0, 0, 0, 1, 0, 1, 0, 0, 0, 1, 0, 0, 0, 0, 0, 0, 0, 0, 0, 0, 0, 1, 0, 1, 0, 0, 1, 1, 0, 0, 0, 0, 0, 0, 0, 0, 0, 1, 0, 1, 0, 0, 1, 1, 0, 0, 0, 0, 0, 0, 0, 0, 0, 0, 0, 0, 0, 1, 0, 1, 0, 0, 1, 0, 0, 0, 0, 0, 0, 0, 0, 0, 0, 0, 1, 0, 0, 0, 0, 0, 0, 0, 0, 0, 0, 0, 1, 0, 0, 0, 0, 0, 0, 1, 1, 0, 0, 1, 0, 0, 0, 0, 0, 0, 1, 0, 1, 0, 0, 0, 0, 1, 1, 0, 0, 0, 0, 1, 0, 0, 0, 0, 0, 0, 1, 1, 0, 0, 0, 0, 1, 0, 0, 0, 0, 1, 1, 0, 0, 0, 0, 0, 0, 0, 0, 0, 0, 1, 0, 0, 0, 0, 0, 0, 0, 1, 0, 0, 0, 0, 0, 0, 0, 0, 0, 0, 0, 0, 0, 0, 0, 0, 0, 0, 0, 0, 1, 0, 0, 0, 1, 0, 0, 1, 0, 0, 0, 0, 0, 1, 0, 0, 0, 0, 1, 0, 0, 0, 0, 0, 0, 1, 0, 0, 1, 0, 1, 0, 0, 0, 0, 0, 0, 0, 1, 0, 0, 0, 0, 0, 0, 0, 0, 0, 1, 1, 0, 0, 0, 1, 0, 0, 1, 0, 0, 0, 1, 0, 0, 1, 1, 0, 0, 0, 0, 0, 0, 0, 0, 0, 0, 0, 0, 0, 0, 0, 0, 0, 0, 1, 0, 0, 0, 0, 0, 0, 0, 0, 0, 0, 0, 0, 0, 0, 0, 0, 1, 0, 0, 0, 0, 0, 0, 0, 0, 1, 0, 0, 1, 0, 0, 0, 0, 0, 0, 0, 0, 1, 0, 0, 0, 0, 0, 0, 0, 0, 0, 1, 0, 0, 0, 0, 0, 0, 0, 0, 0, 0, 0, 0, 0, 0, 0, 0, 0, 0, 0, 0, 0, 0, 0, 0, 0, 0, 0, 0, 0, 0, 0, 1, 0, 0, 0, 0, 0, 0, 1, 0, 0, 0, 0, 0, 0, 1, 0, 0, 0, 0, 0, 0, 0, 0, 0, 0, 0, 0, 1, 1, 0, 0, 0, 0, 0, 0, 0, 0, 0, 0, 0, 0, 0, 0, 1, 0, 0, 0, 0, 0, 1, 0, 0, 0, 0, 0, 0, 0, 0, 0, 1, 1, 0, 0, 0, 0, 0, 0, 1, 0, 1, 0, 0, 0, 0, 0, 0, 0, 0, 0, 0, 1, 1, 0, 0, 0, 0, 0, 1, 0, 0, 0, 0, 0, 0, 0, 0, 0, 0, 0, 0, 0, 0, 0, 0, 0, 0, 0, 0, 0, 0, 1, 1, 0, 0, 1, 0, 0, 0, 0, 0, 0, 0, 0, 0, 1, 1, 0, 0, 0, 0, 0, 0, 0, 0, 0, 1, 0, 0, 0, 1, 0, 0, 0, 1, 0, 0, 1, 0, 0, 0, 0, 0, 0, 0, 0, 0, 0, 0, 1, 0, 0, 0, 0, 0, 0, 0, 0, 0, 0, 0, 0, 0, 0, 0, 0, 0, 0, 0, 1, 0, 0, 0, 0, 0, 0, 0, 0, 1, 0, 0, 0, 0, 1, 0, 0, 0, 0, 1, 0, 1, 0, 0, 0, 0, 0, 0, 1, 0, 0, 1, 0, 0, 0, 0, 1, 0, 0, 0, 1, 0, 0, 0, 0, 0, 0, 0, 0, 0, 0, 0, 0, 0, 0, 0, 0, 0, 1, 0, 0, 0, 0, 0, 0, 0, 0, 0, 0, 0, 0, 0, 1, 0, 0, 0, 0, 0, 1, 1, 0, 0, 0, 0, 0, 0, 0, 1, 0, 1, 0, 0, 0, 0, 0, 0, 0, 0, 0, 0, 0, 0, 0, 0, 0, 0, 0, 0, 1, 0, 0, 0, 0, 0, 0, 0, 0, 0, 0, 0, 0, 0, 1, 0, 1, 0, 0, 0, 0, 0, 0, 0, 0, 0, 0, 0, 1, 0, 0, 0, 1, 0, 0, 0, 1, 0, 1, 1, 0, 0, 0, 1, 0, 0, 0, 0, 0, 0, 0, 0, 0, 0, 0, 1, 0, 0, 1, 0, 0, 0, 0, 1, 0, 1, 0, 0, 0, 0, 0, 0, 0, 0, 0, 0, 1, 1, 0, 0, 0, 0, 0, 0, 0, 0, 0, 0, 0, 0, 0, 1, 0, 0, 0, 0, 0, 0, 1, 0, 0, 0, 0, 0, 1, 0, 0, 0, 1, 0, 0, 0, 0, 0, 0, 0, 0, 0, 0, 0, 0, 0, 0, 0, 0, 1, 0, 0, 0, 0, 1, 0, 0, 0, 0, 1, 0, 1, 0, 0, 0, 0, 0, 0, 0, 0, 0, 0, 0, 0, 0, 0, 0, 1, 0, 0, 0, 0, 0, 0, 0, 0, 0, 0, 0, 0, 0, 0, 0, 0, 0, 0, 0, 0, 1, 0, 1, 0, 0, 0, 0, 0, 0, 0, 0, 0, 1, 1, 0, 1, 0, 0, 0, 0, 1, 0, 0, 0, 0, 1, 0, 0, 1, 0, 0, 0, 0, 0, 1, 0, 0, 0, 0, 0, 0, 0, 0, 0, 1, 0, 0, 0, 0, 0, 0, 0, 0, 0, 0, 0, 0, 0, 0, 0, 0, 0, 0, 0, 0, 1, 1, 0, 0, 1, 0, 0, 0, 0, 0, 1, 0, 0, 1, 0, 1, 0, 0, 0, 0, 0, 0, 0, 1, 0, 0, 0, 0, 0, 0, 0, 0, 0, 1, 0, 0, 0, 0, 1, 0, 0, 0, 0, 0, 0, 0, 0, 0, 0, 0, 0, 1, 0, 0, 0, 0, 0, 0, 0, 1, 0, 1, 0, 0, 0, 1, 0, 0, 1, 0, 1, 0, 0, 0, 0, 0, 0, 0, 0, 1, 0, 0, 0, 0, 0, 0, 1, 1, 0, 0, 0, 0, 1, 0, 1, 1, 0, 0, 0, 0, 0, 0, 0, 1, 0, 0, 0, 0, 0, 0, 1, 1, 0, 0, 0, 0, 0, 0, 0, 0, 0, 1, 0, 0, 0, 0, 0, 1, 0, 0, 0, 1, 0, 1, 0, 1, 0, 0, 1, 0, 0, 0, 0, 0, 0, 1, 1, 0, 0, 0, 0, 0, 0, 0, 0, 0, 0, 0, 1, 0, 0, 0, 0, 0, 0, 0, 1, 0, 0, 0, 0, 0, 0, 0, 0, 0, 0, 1, 0, 0, 0, 0, 0, 0, 0, 0, 0, 0, 0, 0, 0, 0, 0, 0, 0, 0, 0, 0, 0, 1, 0, 0, 0, 0, 0, 1, 0, 0, 0, 0, 0, 0, 0, 0, 0, 0, 0, 0, 0, 0, 0, 0, 0, 0, 1, 0, 0, 0, 0, 0, 0, 0, 1, 0, 0, 0, 1, 0, 0, 0, 0, 0, 0, 0, 0, 1, 0, 0, 1, 1, 0, 0, 0, 0, 0, 0, 1, 0, 0, 0, 0, 0, 0, 0, 0, 0, 0, 0, 0, 0, 0, 0, 0, 0, 0, 1, 0, 0, 0, 0, 0, 0, 0, 0, 0, 0, 0, 0, 0, 0, 0, 0, 0, 0, 0, 0, 0, 0, 1, 0, 0, 0, 0, 0, 0, 1, 0, 0, 1, 0, 1, 1, 0, 0, 0, 0, 0, 0, 0, 0, 0, 0, 0, 0, 0, 1, 1, 0, 1, 0, 1, 0, 0, 0, 1, 0, 0, 0, 0, 0, 0, 1, 0, 0, 0, 0, 0, 0, 0, 0, 1, 0, 0, 0, 0, 0, 0, 1, 1, 1, 0, 0, 1, 0, 0, 1, 0, 0, 0, 0, 0, 0, 1, 0, 0, 1, 0, 0, 0, 1, 0, 0, 0, 0, 0, 1, 0, 0, 0, 0, 0, 0, 0, 0, 0, 0, 0, 0, 1, 0, 0, 0, 0, 0, 0, 1, 0, 0, 0, 0, 0, 0, 0, 0, 0, 0, 1, 1, 1, 0, 0, 1, 0, 0, 0, 0, 0, 0, 0, 0, 0, 1, 0, 0, 0, 0, 1, 0, 1, 0, 0, 0, 0, 0, 0, 0, 0, 0, 0, 0, 0, 1, 1, 0, 1, 0, 0, 0, 0, 1, 0, 0, 1, 0, 0, 1, 0, 0, 1, 1, 1, 0, 0, 0, 0, 0, 0, 0, 0, 0, 0, 0, 0, 0, 0, 0, 0, 0, 0, 0, 1, 0, 1, 0, 0, 0, 0, 0, 0, 0, 0, 0, 0, 0, 1, 0, 1, 0, 1, 0, 1, 0, 0, 0, 0, 0, 0, 1, 0, 0, 0, 1, 0, 0, 0, 0, 0, 1, 0, 0, 0, 0, 0, 0, 0, 1, 0, 0, 1, 1, 1, 0, 1, 0, 0, 0, 0, 0, 0, 1, 0, 0, 0, 0, 0, 0, 0, 0, 0, 0, 0, 0, 0, 0, 1, 0, 0, 0, 1, 0, 0, 0, 0, 0, 0, 0, 0, 0, 0, 0, 0, 0, 0, 0, 0, 0, 0, 0, 0, 1, 1, 0, 0, 0, 0, 0, 1, 1, 0, 0, 0, 1, 0, 0, 0, 0, 0, 1, 0, 0, 0, 0, 0, 0, 0, 0, 0, 0, 0, 0, 1, 0, 0, 0, 1, 1, 1, 0, 0, 0, 0, 0, 0, 0, 0, 1, 0, 0, 0, 1, 0, 0, 0, 0, 0, 0, 0, 0, 0, 0, 0, 0, 0, 0, 0, 0, 0, 0, 0, 1, 1, 0, 0, 0, 1, 0, 1, 0, 0, 0, 0, 0, 0, 0, 1, 0, 0, 0, 0, 0, 1, 0, 0, 0, 0, 0, 0, 0, 0, 0, 0, 0, 0, 0, 0, 0, 0, 0, 0, 0, 0, 0, 0, 1, 0, 0, 0, 0, 0, 0, 0, 0, 0, 0, 0, 0, 0, 0, 0, 0, 0, 0, 1, 0, 0, 0, 0, 0, 0, 0, 0, 0, 1, 1, 0, 0, 0, 1, 0, 0, 1, 0, 1, 0, 0, 0, 1, 0, 0, 0, 0, 0, 0, 0, 0, 0, 0, 0, 0, 0, 0, 0, 0, 1, 0, 1, 0, 0, 0, 0, 0, 0, 0, 0, 1, 0, 0, 0, 0, 0, 0, 0, 0, 0, 0, 0, 0, 0, 0, 0, 0, 0, 0, 1, 0, 0, 0, 0, 0, 0, 0, 0, 0, 0, 0, 0, 0, 0, 0, 1, 0, 1, 0, 0, 0, 0, 0, 0, 0, 0, 1, 0, 1, 0, 0, 0, 1, 0, 0, 0, 0, 0, 0, 0, 0, 0, 0, 0, 0, 0, 0, 1, 0, 0, 0, 0, 0, 0, 0, 0, 0, 0, 0, 0, 0, 0, 1, 1, 0, 0, 1, 0, 0, 0, 1, 0, 0, 0, 0, 0, 0, 0, 0, 0, 0, 1, 0, 0, 1, 0, 0, 0, 0, 0, 0, 0, 0, 0, 0, 0, 0, 0, 0, 0, 1, 1, 0, 0, 0, 0, 0, 0, 1, 0, 0, 1, 1, 0, 1, 1, 0, 0, 0, 0, 1, 0, 0, 0, 0, 0, 0, 0, 0, 0, 0, 0, 0, 1, 0, 0, 0, 0, 0, 0, 1, 0, 0, 0, 0, 0, 0, 0, 0, 0, 1, 0, 0, 1, 0, 0, 0, 0, 0, 0, 0, 0, 0, 1, 0, 0, 0, 1, 0, 1, 0, 0, 1, 0, 0, 0, 0, 0, 0, 0, 0, 0, 0, 0, 0, 0, 0, 0, 0, 0, 0, 0, 0, 0, 0, 1, 0, 1, 0, 0, 0, 0, 0, 1, 0, 1, 0, 1, 0, 0, 1, 0, 0, 0, 1, 0, 1, 0, 0, 0, 0, 0, 0, 0, 0, 0, 0, 0, 0, 0, 0, 0, 0, 0, 0, 0, 0, 0, 0, 0, 0, 0, 1, 0, 0, 0, 0, 0, 0, 0, 1, 0, 0, 0, 0, 0, 0, 0, 1, 1, 0, 0, 0, 0, 0, 0, 0, 0, 0, 0, 0, 0, 0, 0, 0, 0, 0, 0, 0, 0, 0, 0, 0, 0, 0, 0, 0, 1, 0, 0, 0, 0, 1, 0, 0, 0, 0, 0, 0, 1, 0, 0, 0, 0, 0, 0, 0, 1, 0, 0, 0, 0, 0, 1, 0, 1, 0, 0, 0, 0, 0, 0, 0, 1, 0, 1, 1, 0, 0, 0, 0, 0, 0, 0, 0, 1, 0, 0, 0, 0, 0, 0, 0, 0, 0, 0, 1, 0, 1, 0, 0, 0, 0, 0, 0, 0, 0, 0, 0, 1, 0, 0, 0, 0, 0, 0, 0, 0, 0, 1, 0, 0, 0, 0, 0, 1, 0, 0, 1, 0, 0, 0, 0, 0, 0, 0, 1, 0, 0, 1, 0, 0, 0, 0, 0, 0, 0, 0, 0, 0, 0, 0, 0, 0, 0, 0, 0, 0, 1, 0, 0, 0, 1, 0, 0, 0, 0, 0, 0, 1, 0, 0, 0, 0, 0, 0, 0, 0, 0, 0, 0, 0, 0, 0, 0, 0, 0, 0, 0, 0, 0, 0, 0, 1, 0, 0, 0, 0, 0, 0, 0, 0, 0, 0, 0, 0, 1, 0, 0, 0, 0, 0, 0, 0, 0, 0, 0, 0, 0, 1, 0, 0, 0, 1, 0, 0, 0, 0, 1, 0, 1, 0, 0, 0, 0, 0, 0, 1, 0, 0, 0, 0, 0, 0, 0, 0, 0, 0, 0, 0, 0, 1, 0, 0, 1, 0, 0, 0, 0, 0, 0, 0, 0, 0, 0, 0, 0, 1, 1, 0, 1, 0, 0, 0, 0, 0, 0, 0, 0, 0, 0, 0, 1, 0, 0, 1, 0, 0, 0, 0, 0, 1, 0, 0, 0, 0, 0, 0, 0, 0, 0, 0, 0, 0, 0, 0, 0, 0, 0, 0, 0, 0, 0, 0, 0, 0, 0, 0, 0, 0, 0, 0, 1, 1, 0, 0, 0, 0, 0, 0, 0, 0, 0, 0, 1, 0, 0, 1, 0, 0, 0, 0, 1, 0, 0, 0, 0, 0, 0, 0, 0, 0, 0, 0, 0, 1, 0, 0, 0, 1, 0, 0, 0, 0, 0, 0, 0, 0, 0, 1, 0, 0, 1, 0, 0, 0, 0, 0, 0, 0, 0, 0, 0, 0, 1, 0, 0, 0, 0, 0, 0, 0, 0]\n"
     ]
    }
   ],
   "source": [
    "#determine the predictions for the training set\n",
    "prediction_train = get_predictions(X_train)\n",
    "print(prediction_train)"
   ],
   "metadata": {
    "collapsed": false,
    "ExecuteTime": {
     "end_time": "2023-11-13T16:14:34.627867400Z",
     "start_time": "2023-11-13T16:14:34.022509200Z"
    }
   },
   "id": "313640270c79ec54"
  },
  {
   "cell_type": "code",
   "execution_count": 60,
   "outputs": [
    {
     "name": "stdout",
     "output_type": "stream",
     "text": [
      "Accuracy: 98.73%\n"
     ]
    }
   ],
   "source": [
    "calculate_accuracy(y_train, prediction_train)"
   ],
   "metadata": {
    "collapsed": false,
    "ExecuteTime": {
     "end_time": "2023-11-13T16:14:34.627867400Z",
     "start_time": "2023-11-13T16:14:34.612917100Z"
    }
   },
   "id": "5725f6f9c937a97f"
  },
  {
   "cell_type": "code",
   "execution_count": 61,
   "outputs": [
    {
     "name": "stdout",
     "output_type": "stream",
     "text": [
      "Precision: 0.98\n",
      "Recall: 0.93\n",
      "F1 Score: 0.96\n"
     ]
    },
    {
     "data": {
      "text/plain": "<Figure size 640x480 with 1 Axes>",
      "image/png": "[encoded data removed]"
     },
     "metadata": {},
     "output_type": "display_data"
    }
   ],
   "source": [
    "print_confusion_matrix(y_train, prediction_train)"
   ],
   "metadata": {
    "collapsed": false,
    "ExecuteTime": {
     "end_time": "2023-11-13T16:14:34.765685Z",
     "start_time": "2023-11-13T16:14:34.619903300Z"
    }
   },
   "id": "7de50b6f78a74f08"
  },
  {
   "cell_type": "code",
   "execution_count": 62,
   "outputs": [],
   "source": [
    "#determine the accuracy for cv set\n",
    "prediction_cv = get_predictions(X_cv)\n"
   ],
   "metadata": {
    "collapsed": false,
    "ExecuteTime": {
     "end_time": "2023-11-13T16:14:35.041206500Z",
     "start_time": "2023-11-13T16:14:34.761951600Z"
    }
   },
   "id": "ad6dd18d7310482b"
  },
  {
   "cell_type": "code",
   "execution_count": 63,
   "outputs": [
    {
     "name": "stdout",
     "output_type": "stream",
     "text": [
      "Accuracy: 98.10%\n"
     ]
    }
   ],
   "source": [
    "calculate_accuracy(y_cv, prediction_cv)"
   ],
   "metadata": {
    "collapsed": false,
    "ExecuteTime": {
     "end_time": "2023-11-13T16:14:35.071281Z",
     "start_time": "2023-11-13T16:14:35.041206500Z"
    }
   },
   "id": "6faf36de962854bb"
  },
  {
   "cell_type": "code",
   "execution_count": 64,
   "outputs": [
    {
     "name": "stdout",
     "output_type": "stream",
     "text": [
      "Precision: 0.96\n",
      "Recall: 0.91\n",
      "F1 Score: 0.93\n"
     ]
    },
    {
     "data": {
      "text/plain": "<Figure size 640x480 with 1 Axes>",
      "image/png": "[encoded data removed]"
     },
     "metadata": {},
     "output_type": "display_data"
    }
   ],
   "source": [
    "print_confusion_matrix(y_cv, prediction_cv)"
   ],
   "metadata": {
    "collapsed": false,
    "ExecuteTime": {
     "end_time": "2023-11-13T16:14:35.198346100Z",
     "start_time": "2023-11-13T16:14:35.062601900Z"
    }
   },
   "id": "93937a55002827a4"
  },
  {
   "cell_type": "code",
   "execution_count": 65,
   "outputs": [
    {
     "name": "stdout",
     "output_type": "stream",
     "text": [
      "Evaluate on test Data\n",
      "32/32 [==============================] - 0s 2ms/step - loss: 0.0528 - accuracy: 0.9840\n",
      "test loss, test acc: [0.05280821770429611, 0.984000027179718]\n"
     ]
    }
   ],
   "source": [
    "#evaluate model on test set\n",
    "print(\"Evaluate on test Data\")\n",
    "results = model.evaluate(X_test, y_test)\n",
    "print(f\"test loss, test acc: {results}\")"
   ],
   "metadata": {
    "collapsed": false,
    "ExecuteTime": {
     "end_time": "2023-11-13T16:14:35.362313700Z",
     "start_time": "2023-11-13T16:14:35.198346100Z"
    }
   },
   "id": "b8704919c43744d"
  },
  {
   "cell_type": "code",
   "execution_count": 66,
   "outputs": [],
   "source": [
    "#determine the accuracy for test set\n",
    "prediction_test = get_predictions(X_test)\n"
   ],
   "metadata": {
    "collapsed": false,
    "ExecuteTime": {
     "end_time": "2023-11-13T16:14:35.560714700Z",
     "start_time": "2023-11-13T16:14:35.354278Z"
    }
   },
   "id": "b8bfcef1b5730af5"
  },
  {
   "cell_type": "code",
   "execution_count": 67,
   "outputs": [
    {
     "name": "stdout",
     "output_type": "stream",
     "text": [
      "Accuracy: 98.70%\n"
     ]
    }
   ],
   "source": [
    "calculate_accuracy(y_test, prediction_test)"
   ],
   "metadata": {
    "collapsed": false,
    "ExecuteTime": {
     "end_time": "2023-11-13T16:14:35.578777700Z",
     "start_time": "2023-11-13T16:14:35.564163800Z"
    }
   },
   "id": "5eb4a8b512f4aaf4"
  },
  {
   "cell_type": "code",
   "execution_count": 68,
   "outputs": [
    {
     "name": "stdout",
     "output_type": "stream",
     "text": [
      "Precision: 0.97\n",
      "Recall: 0.95\n",
      "F1 Score: 0.96\n"
     ]
    },
    {
     "data": {
      "text/plain": "<Figure size 640x480 with 1 Axes>",
      "image/png": "[encoded data removed]"
     },
     "metadata": {},
     "output_type": "display_data"
    }
   ],
   "source": [
    "print_confusion_matrix(y_test, prediction_test)"
   ],
   "metadata": {
    "collapsed": false,
    "ExecuteTime": {
     "end_time": "2023-11-13T16:14:35.675570300Z",
     "start_time": "2023-11-13T16:14:35.566148900Z"
    }
   },
   "id": "b3a5df6a2765042a"
  },
  {
   "cell_type": "code",
   "execution_count": 69,
   "outputs": [],
   "source": [
    "#load the dataset & split into x and y variables\n",
    "test_features, test_y = preprocess(\"unseen.csv\")\n",
    "\n",
    "#create Scaler object\n",
    "scaler = StandardScaler()\n",
    "\n",
    "#scale the features\n",
    "X = scaler.fit_transform(test_features)"
   ],
   "metadata": {
    "collapsed": false,
    "ExecuteTime": {
     "end_time": "2023-11-13T16:14:35.696042400Z",
     "start_time": "2023-11-13T16:14:35.675570300Z"
    }
   },
   "id": "652bfe02ad912858"
  },
  {
   "cell_type": "code",
   "execution_count": 70,
   "outputs": [],
   "source": [
    "prediction_test = get_predictions(test_features)"
   ],
   "metadata": {
    "collapsed": false,
    "ExecuteTime": {
     "end_time": "2023-11-13T16:14:35.811238Z",
     "start_time": "2023-11-13T16:14:35.693925400Z"
    }
   },
   "id": "9b5e66ca85ce32b8"
  },
  {
   "cell_type": "code",
   "execution_count": 71,
   "outputs": [
    {
     "name": "stdout",
     "output_type": "stream",
     "text": [
      "Accuracy: 84.80%\n"
     ]
    }
   ],
   "source": [
    "calculate_accuracy(test_y, prediction_test)"
   ],
   "metadata": {
    "collapsed": false,
    "ExecuteTime": {
     "end_time": "2023-11-13T16:14:35.826126Z",
     "start_time": "2023-11-13T16:14:35.811238Z"
    }
   },
   "id": "9257d8fe5aef10da"
  }
 ],
 "metadata": {
  "kernelspec": {
   "name": "python311",
   "language": "python",
   "display_name": "Python 3.11"
  },
  "language_info": {
   "codemirror_mode": {
    "name": "ipython",
    "version": 2
   },
   "file_extension": ".py",
   "mimetype": "text/x-python",
   "name": "python",
   "nbconvert_exporter": "python",
   "pygments_lexer": "ipython2",
   "version": "2.7.6"
  }
 },
 "nbformat": 4,
 "nbformat_minor": 5
}
