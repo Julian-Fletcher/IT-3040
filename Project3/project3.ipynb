{
 "cells": [
  {
   "cell_type": "code",
   "execution_count": 2,
   "id": "initial_id",
   "metadata": {
    "collapsed": true,
    "ExecuteTime": {
     "end_time": "2023-12-10T00:12:06.280251800Z",
     "start_time": "2023-12-10T00:12:06.259242800Z"
    }
   },
   "outputs": [],
   "source": [
    "#Import librarires\n",
    "import numpy as np\n",
    "import pandas as pd\n",
    "import tensorflow as tf\n",
    "from tensorflow.keras.models import Sequential\n",
    "from tensorflow.keras.layers import Dense\n",
    "from tensorflow.keras.regularizers import l2\n",
    "\n",
    "from sklearn.preprocessing import StandardScaler\n",
    "from sklearn.model_selection import train_test_split\n",
    "from sklearn.metrics import precision_score, recall_score, f1_score\n",
    "from sklearn.metrics import confusion_matrix\n",
    "from sklearn.metrics import accuracy_score\n",
    "\n",
    "from mlxtend.plotting import plot_confusion_matrix\n",
    "import matplotlib.pyplot as plt\n",
    "\n",
    "import math"
   ]
  },
  {
   "cell_type": "code",
   "execution_count": 3,
   "outputs": [],
   "source": [
    "# Utility Functions\n",
    "def sigmoid(z):\n",
    "    return 1/(1 + math.e ** -z)"
   ],
   "metadata": {
    "collapsed": false,
    "ExecuteTime": {
     "end_time": "2023-12-10T00:12:07.721642100Z",
     "start_time": "2023-12-10T00:12:07.695640600Z"
    }
   },
   "id": "29f3be9a0acc7419"
  },
  {
   "cell_type": "code",
   "execution_count": 7,
   "outputs": [],
   "source": [
    "def print_confusion_matrix(true_labels, predictions):\n",
    "    #plot confusion matrix\n",
    "    mat = confusion_matrix(true_labels, predictions)\n",
    "    plot_confusion_matrix(conf_mat=mat)\n",
    "\n",
    "    #Calculate precision, recall, f1_score\n",
    "\n",
    "    #precision\n",
    "    precision = precision_score(true_labels, predictions)\n",
    "\n",
    "    #recall\n",
    "    recall = recall_score(true_labels, predictions)\n",
    "\n",
    "    #fl score\n",
    "    f1 = f1_score(true_labels, predictions)\n",
    "\n",
    "    #Print precision, recall, f1_score\n",
    "    print(f\"Precision: {precision:.2f}\")\n",
    "    print(f\"Recall: {recall:.2f}\")\n",
    "    print(f\"F1 Score: {f1:.2f}\")\n",
    "\n",
    "    return"
   ],
   "metadata": {
    "collapsed": false,
    "ExecuteTime": {
     "end_time": "2023-12-10T00:12:13.686831400Z",
     "start_time": "2023-12-10T00:12:13.565716600Z"
    }
   },
   "id": "3f30a12a452f5a60"
  },
  {
   "cell_type": "code",
   "execution_count": 211,
   "outputs": [],
   "source": [
    "def calculate_accuracy(labels, predictions):\n",
    "    accuracy = accuracy_score(labels, predictions) * 100\n",
    "    print(f\"Accuracy: {accuracy:.2f}%\")"
   ],
   "metadata": {
    "collapsed": false,
    "ExecuteTime": {
     "end_time": "2023-12-10T02:21:10.590243800Z",
     "start_time": "2023-12-10T02:21:10.566194400Z"
    }
   },
   "id": "bc25545db1ae0cdd"
  },
  {
   "cell_type": "code",
   "execution_count": 55,
   "outputs": [],
   "source": [
    "def get_predictions(feature_data):\n",
    "    #run feature data through the trained model to get the linera activations from the output layer\n",
    "    logits = model(feature_data)\n",
    "\n",
    "    #convert the model outputs to probabilities by running through the sigmoid function\n",
    "    logits = sigmoid(logits)\n",
    "\n",
    "    # get predictions by converting output probabilities to True if >= 0.5, and False if < 0.5\n",
    "    predictions = logits >= 0.5\n",
    "\n",
    "    #convert True to 1 and False to 0\n",
    "    predictions = [int(boolean) for boolean in predictions]\n",
    "\n",
    "    return predictions"
   ],
   "metadata": {
    "collapsed": false,
    "ExecuteTime": {
     "end_time": "2023-12-10T00:16:55.503096400Z",
     "start_time": "2023-12-10T00:16:55.487093800Z"
    }
   },
   "id": "3a8ed3959b7e6eaa"
  },
  {
   "cell_type": "code",
   "execution_count": 87,
   "outputs": [
    {
     "data": {
      "text/plain": "' \\nSigillito,V., Wing,S., Hutton,L., and Baker,K.. (1989). Ionosphere. UCI Machine Learning Repository. https://doi.org/10.24432/C5W01B.\\n'"
     },
     "execution_count": 87,
     "metadata": {},
     "output_type": "execute_result"
    }
   ],
   "source": [
    "#Import dataset from online repo\n",
    "\n",
    "from ucimlrepo import fetch_ucirepo \n",
    "  \n",
    "# fetch dataset \n",
    "ionosphere = fetch_ucirepo(id=52) \n",
    "  \n",
    "# data (as pandas dataframes) \n",
    "X = ionosphere.data.features \n",
    "y = ionosphere.data.targets \n",
    "  \n",
    "# metadata \n",
    "#print(ionosphere.metadata) \n",
    "  \n",
    "# variable information \n",
    "#print(ionosphere.variables) \n",
    "\n",
    "\"\"\"\n",
    "Datset:\n",
    " \n",
    "Sigillito,V., Wing,S., Hutton,L., and Baker,K.. (1989). Ionosphere. UCI Machine Learning Repository. https://doi.org/10.24432/C5W01B.\n",
    "\"\"\"\n"
   ],
   "metadata": {
    "collapsed": false,
    "ExecuteTime": {
     "end_time": "2023-12-10T01:15:09.616258400Z",
     "start_time": "2023-12-10T01:15:09.170026300Z"
    }
   },
   "id": "8e8609429bbdcf61"
  },
  {
   "cell_type": "code",
   "execution_count": 88,
   "outputs": [
    {
     "data": {
      "text/plain": "   Class\n0      1\n1      0\n2      1\n3      0\n4      1",
      "text/html": "<div>\n<style scoped>\n    .dataframe tbody tr th:only-of-type {\n        vertical-align: middle;\n    }\n\n    .dataframe tbody tr th {\n        vertical-align: top;\n    }\n\n    .dataframe thead th {\n        text-align: right;\n    }\n</style>\n<table border=\"1\" class=\"dataframe\">\n  <thead>\n    <tr style=\"text-align: right;\">\n      <th></th>\n      <th>Class</th>\n    </tr>\n  </thead>\n  <tbody>\n    <tr>\n      <th>0</th>\n      <td>1</td>\n    </tr>\n    <tr>\n      <th>1</th>\n      <td>0</td>\n    </tr>\n    <tr>\n      <th>2</th>\n      <td>1</td>\n    </tr>\n    <tr>\n      <th>3</th>\n      <td>0</td>\n    </tr>\n    <tr>\n      <th>4</th>\n      <td>1</td>\n    </tr>\n  </tbody>\n</table>\n</div>"
     },
     "execution_count": 88,
     "metadata": {},
     "output_type": "execute_result"
    }
   ],
   "source": [
    "#Preprocessing\n",
    "\n",
    "#Copy the dataframe to preserve original data\n",
    "y_conv = y.copy()\n",
    "\n",
    "#Define replacement mapping\n",
    "result_mapping = {\n",
    "    \"g\": 1, #good = 1\n",
    "    \"b\": 0  #bad = 0\n",
    "}\n",
    "\n",
    "y_conv['Class'] = y['Class'].replace(result_mapping)\n",
    "y_conv.head()"
   ],
   "metadata": {
    "collapsed": false,
    "ExecuteTime": {
     "end_time": "2023-12-10T01:15:10.889455400Z",
     "start_time": "2023-12-10T01:15:10.876441500Z"
    }
   },
   "id": "6d28835df5e8a0"
  },
  {
   "cell_type": "code",
   "execution_count": 89,
   "outputs": [],
   "source": [
    "#convert datasets into numpy arrays\n",
    "features = X.to_numpy()\n",
    "init_labels = y_conv.to_numpy()\n",
    "\n",
    "#scaler object\n",
    "scaler = StandardScaler()\n",
    "\n",
    "#Scaled features\n",
    "scaled_features = scaler.fit_transform(features)"
   ],
   "metadata": {
    "collapsed": false,
    "ExecuteTime": {
     "end_time": "2023-12-10T01:15:12.511797900Z",
     "start_time": "2023-12-10T01:15:12.496517200Z"
    }
   },
   "id": "2346d26ede40262c"
  },
  {
   "cell_type": "code",
   "execution_count": 90,
   "outputs": [
    {
     "name": "stdout",
     "output_type": "stream",
     "text": [
      "Features shape: (351, 34)\n",
      "Labels shape: (351, 1)\n"
     ]
    }
   ],
   "source": [
    "print(f\"Features shape: {scaled_features.shape}\")\n",
    "print(f\"Labels shape: {init_labels.shape}\")\n"
   ],
   "metadata": {
    "collapsed": false,
    "ExecuteTime": {
     "end_time": "2023-12-10T01:15:13.493593200Z",
     "start_time": "2023-12-10T01:15:13.479586400Z"
    }
   },
   "id": "4ef67a71140bdd52"
  },
  {
   "cell_type": "code",
   "execution_count": 91,
   "outputs": [
    {
     "name": "stdout",
     "output_type": "stream",
     "text": [
      "Features [ 1.       0.       0.99539 -0.05889  0.85243  0.02306  0.83398 -0.37708\n",
      "  1.       0.0376   0.85243 -0.17755  0.59755 -0.44945  0.60536 -0.38223\n",
      "  0.84356 -0.38542  0.58212 -0.32192  0.56971 -0.29674  0.36946 -0.47357\n",
      "  0.56811 -0.51171  0.41078 -0.46168  0.21266 -0.3409   0.42267 -0.54487\n",
      "  0.18641 -0.453  ]\n",
      "Scaled Features: [ 0.34843328  0.          0.71237237 -0.23425724  0.48420769 -0.20173498\n",
      "  0.57705879 -0.95467914  0.96407416 -0.29751023  0.66865465 -0.67310732\n",
      "  0.3166732  -1.09854253  0.40067797 -0.99048557  0.74798503 -0.76968095\n",
      "  0.35615548 -0.57471451  0.38264404 -0.58952424  0.01158471 -0.79012864\n",
      "  0.29772766 -0.86756495 -0.25386754 -0.71397123 -0.28828966 -0.61703878\n",
      "  0.12293694 -1.05505394 -0.3122206  -0.99959483]\n"
     ]
    }
   ],
   "source": [
    "print(f\"Features {features[0]}\")\n",
    "\n",
    "print(f\"Scaled Features: {scaled_features[0]}\")"
   ],
   "metadata": {
    "collapsed": false,
    "ExecuteTime": {
     "end_time": "2023-12-10T01:15:14.859523300Z",
     "start_time": "2023-12-10T01:15:14.836009600Z"
    }
   },
   "id": "945b0048b1424f76"
  },
  {
   "cell_type": "code",
   "execution_count": 92,
   "outputs": [
    {
     "name": "stdout",
     "output_type": "stream",
     "text": [
      "Train type: <class 'numpy.float64'>\n",
      "X_train shape: (210, 34)\n",
      "X_test shape: (70, 34)\n",
      "X_cv shape: (71, 34)\n",
      "y_train shape: (210, 1)\n",
      "y_test shape: (70, 1)\n",
      "y_cv shape: (71, 1)\n"
     ]
    }
   ],
   "source": [
    "#Split dataset into training, cv, test\n",
    "\n",
    "X_train, X_test, y_train, y_test = train_test_split(scaled_features, init_labels, test_size=0.4, random_state=35)\n",
    "\n",
    "#Split test 50:50 for cv and test sets\n",
    "X_test, X_cv, y_test, y_cv = train_test_split(X_test, y_test, test_size=0.5)\n",
    "\n",
    "\n",
    "#Print split results\n",
    "print(f\"Train type: {type(X_train[0][5])}\")\n",
    "print(f\"X_train shape: {X_train.shape}\")\n",
    "print(f\"X_test shape: {X_test.shape}\")\n",
    "print(f\"X_cv shape: {X_cv.shape}\")\n",
    "\n",
    "print(f\"y_train shape: {y_train.shape}\")\n",
    "print(f\"y_test shape: {y_test.shape}\")\n",
    "print(f\"y_cv shape: {y_cv.shape}\")\n"
   ],
   "metadata": {
    "collapsed": false,
    "ExecuteTime": {
     "end_time": "2023-12-10T01:15:16.015392300Z",
     "start_time": "2023-12-10T01:15:15.999823500Z"
    }
   },
   "id": "622edafbd686da63"
  },
  {
   "cell_type": "code",
   "execution_count": 523,
   "outputs": [],
   "source": [
    "#Model creation\n",
    "\n",
    "model = Sequential([\n",
    "    tf.keras.Input(shape=(34,)),\n",
    "    Dense(15, activation='relu', kernel_regularizer=l2(0.004)),\n",
    "    Dense(30, activation='relu', kernel_regularizer=l2(0.005)),\n",
    "    Dense(2, activation='relu', kernel_regularizer=l2(0.06)),\n",
    "    Dense(1, activation='linear')\n",
    "])"
   ],
   "metadata": {
    "collapsed": false,
    "ExecuteTime": {
     "end_time": "2023-12-10T03:42:13.846437300Z",
     "start_time": "2023-12-10T03:42:13.805510100Z"
    }
   },
   "id": "8bc11fecb6a86edb"
  },
  {
   "cell_type": "code",
   "execution_count": 524,
   "outputs": [
    {
     "name": "stdout",
     "output_type": "stream",
     "text": [
      "Model: \"sequential_31\"\n",
      "_________________________________________________________________\n",
      " Layer (type)                Output Shape              Param #   \n",
      "=================================================================\n",
      " dense_139 (Dense)           (None, 15)                525       \n",
      "                                                                 \n",
      " dense_140 (Dense)           (None, 30)                480       \n",
      "                                                                 \n",
      " dense_141 (Dense)           (None, 2)                 62        \n",
      "                                                                 \n",
      " dense_142 (Dense)           (None, 1)                 3         \n",
      "                                                                 \n",
      "=================================================================\n",
      "Total params: 1070 (4.18 KB)\n",
      "Trainable params: 1070 (4.18 KB)\n",
      "Non-trainable params: 0 (0.00 Byte)\n",
      "_________________________________________________________________\n"
     ]
    }
   ],
   "source": [
    "model.summary()"
   ],
   "metadata": {
    "collapsed": false,
    "ExecuteTime": {
     "end_time": "2023-12-10T03:42:14.985083800Z",
     "start_time": "2023-12-10T03:42:14.969918300Z"
    }
   },
   "id": "c7e78cc50429bf6c"
  },
  {
   "cell_type": "code",
   "execution_count": 525,
   "outputs": [
    {
     "name": "stdout",
     "output_type": "stream",
     "text": [
      "Epoch 1/60\n",
      "11/11 [==============================] - 1s 13ms/step - loss: 1.0746 - accuracy: 0.3561 - val_loss: 1.0339 - val_accuracy: 0.2535\n",
      "Epoch 2/60\n",
      "11/11 [==============================] - 0s 3ms/step - loss: 1.0387 - accuracy: 0.3618 - val_loss: 1.0046 - val_accuracy: 0.2535\n",
      "Epoch 3/60\n",
      "11/11 [==============================] - 0s 4ms/step - loss: 1.0039 - accuracy: 0.3761 - val_loss: 0.9709 - val_accuracy: 0.2535\n",
      "Epoch 4/60\n",
      "11/11 [==============================] - 0s 3ms/step - loss: 0.9689 - accuracy: 0.3818 - val_loss: 0.9358 - val_accuracy: 0.2958\n",
      "Epoch 5/60\n",
      "11/11 [==============================] - 0s 3ms/step - loss: 0.9330 - accuracy: 0.4046 - val_loss: 0.8966 - val_accuracy: 0.3380\n",
      "Epoch 6/60\n",
      "11/11 [==============================] - 0s 3ms/step - loss: 0.8946 - accuracy: 0.4387 - val_loss: 0.8589 - val_accuracy: 0.3380\n",
      "Epoch 7/60\n",
      "11/11 [==============================] - 0s 3ms/step - loss: 0.8495 - accuracy: 0.5556 - val_loss: 0.8174 - val_accuracy: 0.4507\n",
      "Epoch 8/60\n",
      "11/11 [==============================] - 0s 4ms/step - loss: 0.7988 - accuracy: 0.6667 - val_loss: 0.7844 - val_accuracy: 0.5493\n",
      "Epoch 9/60\n",
      "11/11 [==============================] - 0s 3ms/step - loss: 0.7516 - accuracy: 0.7322 - val_loss: 0.7436 - val_accuracy: 0.7183\n",
      "Epoch 10/60\n",
      "11/11 [==============================] - 0s 3ms/step - loss: 0.7092 - accuracy: 0.8120 - val_loss: 0.7113 - val_accuracy: 0.8028\n",
      "Epoch 11/60\n",
      "11/11 [==============================] - 0s 3ms/step - loss: 0.6720 - accuracy: 0.8405 - val_loss: 0.6795 - val_accuracy: 0.7887\n",
      "Epoch 12/60\n",
      "11/11 [==============================] - 0s 3ms/step - loss: 0.6410 - accuracy: 0.8462 - val_loss: 0.6539 - val_accuracy: 0.8028\n",
      "Epoch 13/60\n",
      "11/11 [==============================] - 0s 4ms/step - loss: 0.6116 - accuracy: 0.8689 - val_loss: 0.6321 - val_accuracy: 0.8028\n",
      "Epoch 14/60\n",
      "11/11 [==============================] - 0s 4ms/step - loss: 0.5889 - accuracy: 0.8746 - val_loss: 0.6124 - val_accuracy: 0.8169\n",
      "Epoch 15/60\n",
      "11/11 [==============================] - 0s 3ms/step - loss: 0.5665 - accuracy: 0.8746 - val_loss: 0.5900 - val_accuracy: 0.8310\n",
      "Epoch 16/60\n",
      "11/11 [==============================] - 0s 4ms/step - loss: 0.5479 - accuracy: 0.8832 - val_loss: 0.5752 - val_accuracy: 0.8310\n",
      "Epoch 17/60\n",
      "11/11 [==============================] - 0s 4ms/step - loss: 0.5298 - accuracy: 0.8889 - val_loss: 0.5624 - val_accuracy: 0.8310\n",
      "Epoch 18/60\n",
      "11/11 [==============================] - 0s 3ms/step - loss: 0.5156 - accuracy: 0.8974 - val_loss: 0.5497 - val_accuracy: 0.8451\n",
      "Epoch 19/60\n",
      "11/11 [==============================] - 0s 3ms/step - loss: 0.5009 - accuracy: 0.9003 - val_loss: 0.5348 - val_accuracy: 0.8592\n",
      "Epoch 20/60\n",
      "11/11 [==============================] - 0s 3ms/step - loss: 0.4889 - accuracy: 0.9117 - val_loss: 0.5225 - val_accuracy: 0.8592\n",
      "Epoch 21/60\n",
      "11/11 [==============================] - 0s 3ms/step - loss: 0.4775 - accuracy: 0.9145 - val_loss: 0.5091 - val_accuracy: 0.8592\n",
      "Epoch 22/60\n",
      "11/11 [==============================] - 0s 4ms/step - loss: 0.4650 - accuracy: 0.9202 - val_loss: 0.5031 - val_accuracy: 0.8732\n",
      "Epoch 23/60\n",
      "11/11 [==============================] - 0s 3ms/step - loss: 0.4551 - accuracy: 0.9231 - val_loss: 0.4959 - val_accuracy: 0.8732\n",
      "Epoch 24/60\n",
      "11/11 [==============================] - 0s 3ms/step - loss: 0.4451 - accuracy: 0.9231 - val_loss: 0.4815 - val_accuracy: 0.8873\n",
      "Epoch 25/60\n",
      "11/11 [==============================] - 0s 3ms/step - loss: 0.4361 - accuracy: 0.9288 - val_loss: 0.4702 - val_accuracy: 0.8873\n",
      "Epoch 26/60\n",
      "11/11 [==============================] - 0s 3ms/step - loss: 0.4275 - accuracy: 0.9316 - val_loss: 0.4653 - val_accuracy: 0.8873\n",
      "Epoch 27/60\n",
      "11/11 [==============================] - 0s 3ms/step - loss: 0.4175 - accuracy: 0.9373 - val_loss: 0.4487 - val_accuracy: 0.9014\n",
      "Epoch 28/60\n",
      "11/11 [==============================] - 0s 3ms/step - loss: 0.4103 - accuracy: 0.9402 - val_loss: 0.4376 - val_accuracy: 0.9014\n",
      "Epoch 29/60\n",
      "11/11 [==============================] - 0s 3ms/step - loss: 0.4010 - accuracy: 0.9459 - val_loss: 0.4305 - val_accuracy: 0.9014\n",
      "Epoch 30/60\n",
      "11/11 [==============================] - 0s 3ms/step - loss: 0.3959 - accuracy: 0.9402 - val_loss: 0.4284 - val_accuracy: 0.9155\n",
      "Epoch 31/60\n",
      "11/11 [==============================] - 0s 3ms/step - loss: 0.3875 - accuracy: 0.9516 - val_loss: 0.4172 - val_accuracy: 0.9296\n",
      "Epoch 32/60\n",
      "11/11 [==============================] - 0s 4ms/step - loss: 0.3814 - accuracy: 0.9516 - val_loss: 0.4108 - val_accuracy: 0.9296\n",
      "Epoch 33/60\n",
      "11/11 [==============================] - 0s 4ms/step - loss: 0.3752 - accuracy: 0.9516 - val_loss: 0.4048 - val_accuracy: 0.9296\n",
      "Epoch 34/60\n",
      "11/11 [==============================] - 0s 4ms/step - loss: 0.3697 - accuracy: 0.9516 - val_loss: 0.3975 - val_accuracy: 0.9437\n",
      "Epoch 35/60\n",
      "11/11 [==============================] - 0s 3ms/step - loss: 0.3643 - accuracy: 0.9516 - val_loss: 0.3943 - val_accuracy: 0.9296\n",
      "Epoch 36/60\n",
      "11/11 [==============================] - 0s 3ms/step - loss: 0.3595 - accuracy: 0.9544 - val_loss: 0.3897 - val_accuracy: 0.9296\n",
      "Epoch 37/60\n",
      "11/11 [==============================] - 0s 4ms/step - loss: 0.3550 - accuracy: 0.9573 - val_loss: 0.3810 - val_accuracy: 0.9437\n",
      "Epoch 38/60\n",
      "11/11 [==============================] - 0s 3ms/step - loss: 0.3502 - accuracy: 0.9544 - val_loss: 0.3805 - val_accuracy: 0.9296\n",
      "Epoch 39/60\n",
      "11/11 [==============================] - 0s 4ms/step - loss: 0.3457 - accuracy: 0.9544 - val_loss: 0.3760 - val_accuracy: 0.9437\n",
      "Epoch 40/60\n",
      "11/11 [==============================] - 0s 3ms/step - loss: 0.3415 - accuracy: 0.9573 - val_loss: 0.3696 - val_accuracy: 0.9437\n",
      "Epoch 41/60\n",
      "11/11 [==============================] - 0s 3ms/step - loss: 0.3369 - accuracy: 0.9573 - val_loss: 0.3665 - val_accuracy: 0.9437\n",
      "Epoch 42/60\n",
      "11/11 [==============================] - 0s 3ms/step - loss: 0.3327 - accuracy: 0.9573 - val_loss: 0.3658 - val_accuracy: 0.9437\n",
      "Epoch 43/60\n",
      "11/11 [==============================] - 0s 3ms/step - loss: 0.3287 - accuracy: 0.9573 - val_loss: 0.3607 - val_accuracy: 0.9437\n",
      "Epoch 44/60\n",
      "11/11 [==============================] - 0s 3ms/step - loss: 0.3249 - accuracy: 0.9573 - val_loss: 0.3574 - val_accuracy: 0.9437\n",
      "Epoch 45/60\n",
      "11/11 [==============================] - 0s 4ms/step - loss: 0.3207 - accuracy: 0.9601 - val_loss: 0.3522 - val_accuracy: 0.9437\n",
      "Epoch 46/60\n",
      "11/11 [==============================] - 0s 3ms/step - loss: 0.3173 - accuracy: 0.9573 - val_loss: 0.3515 - val_accuracy: 0.9437\n",
      "Epoch 47/60\n",
      "11/11 [==============================] - 0s 3ms/step - loss: 0.3130 - accuracy: 0.9630 - val_loss: 0.3483 - val_accuracy: 0.9437\n",
      "Epoch 48/60\n",
      "11/11 [==============================] - 0s 4ms/step - loss: 0.3095 - accuracy: 0.9630 - val_loss: 0.3453 - val_accuracy: 0.9437\n",
      "Epoch 49/60\n",
      "11/11 [==============================] - 0s 3ms/step - loss: 0.3068 - accuracy: 0.9630 - val_loss: 0.3409 - val_accuracy: 0.9437\n",
      "Epoch 50/60\n",
      "11/11 [==============================] - 0s 3ms/step - loss: 0.3033 - accuracy: 0.9630 - val_loss: 0.3415 - val_accuracy: 0.9437\n",
      "Epoch 51/60\n",
      "11/11 [==============================] - 0s 3ms/step - loss: 0.2997 - accuracy: 0.9630 - val_loss: 0.3370 - val_accuracy: 0.9437\n",
      "Epoch 52/60\n",
      "11/11 [==============================] - 0s 4ms/step - loss: 0.2968 - accuracy: 0.9630 - val_loss: 0.3337 - val_accuracy: 0.9437\n",
      "Epoch 53/60\n",
      "11/11 [==============================] - 0s 4ms/step - loss: 0.2944 - accuracy: 0.9630 - val_loss: 0.3347 - val_accuracy: 0.9437\n",
      "Epoch 54/60\n",
      "11/11 [==============================] - 0s 4ms/step - loss: 0.2918 - accuracy: 0.9658 - val_loss: 0.3281 - val_accuracy: 0.9437\n",
      "Epoch 55/60\n",
      "11/11 [==============================] - 0s 3ms/step - loss: 0.2888 - accuracy: 0.9687 - val_loss: 0.3270 - val_accuracy: 0.9437\n",
      "Epoch 56/60\n",
      "11/11 [==============================] - 0s 4ms/step - loss: 0.2865 - accuracy: 0.9687 - val_loss: 0.3283 - val_accuracy: 0.9437\n",
      "Epoch 57/60\n",
      "11/11 [==============================] - 0s 3ms/step - loss: 0.2838 - accuracy: 0.9658 - val_loss: 0.3231 - val_accuracy: 0.9437\n",
      "Epoch 58/60\n",
      "11/11 [==============================] - 0s 3ms/step - loss: 0.2813 - accuracy: 0.9658 - val_loss: 0.3213 - val_accuracy: 0.9437\n",
      "Epoch 59/60\n",
      "11/11 [==============================] - 0s 3ms/step - loss: 0.2791 - accuracy: 0.9715 - val_loss: 0.3206 - val_accuracy: 0.9437\n",
      "Epoch 60/60\n",
      "11/11 [==============================] - 0s 3ms/step - loss: 0.2775 - accuracy: 0.9715 - val_loss: 0.3177 - val_accuracy: 0.9437\n"
     ]
    }
   ],
   "source": [
    "model.compile(loss=tf.keras.losses.BinaryCrossentropy(from_logits=True),\n",
    "              optimizer=tf.keras.optimizers.Adam(0.001),\n",
    "              metrics=['accuracy']    \n",
    ")\n",
    "\n",
    "#fit the model\n",
    "history = model.fit(\n",
    "    scaled_features, init_labels,\n",
    "    validation_data=(X_cv, y_cv),\n",
    "    epochs=60\n",
    ")"
   ],
   "metadata": {
    "collapsed": false,
    "ExecuteTime": {
     "end_time": "2023-12-10T03:42:19.531249900Z",
     "start_time": "2023-12-10T03:42:16.535000600Z"
    }
   },
   "id": "a325ec9078165f5b"
  },
  {
   "cell_type": "code",
   "execution_count": 526,
   "outputs": [
    {
     "name": "stdout",
     "output_type": "stream",
     "text": [
      "dict_keys(['loss', 'accuracy', 'val_loss', 'val_accuracy'])\n"
     ]
    }
   ],
   "source": [
    "#list history data\n",
    "print(history.history.keys())"
   ],
   "metadata": {
    "collapsed": false,
    "ExecuteTime": {
     "end_time": "2023-12-10T03:42:21.929167600Z",
     "start_time": "2023-12-10T03:42:21.910653400Z"
    }
   },
   "id": "13918b97b5128bb"
  },
  {
   "cell_type": "code",
   "execution_count": 527,
   "outputs": [
    {
     "data": {
      "text/plain": "<Figure size 640x480 with 1 Axes>",
      "image/png": "[encoded data removed]"
     },
     "metadata": {},
     "output_type": "display_data"
    }
   ],
   "source": [
    "#summarize history for loss\n",
    "plt.plot(history.history['loss'])\n",
    "plt.plot(history.history['val_loss'])\n",
    "plt.title('Model Loss')\n",
    "plt.ylabel('Loss')\n",
    "plt.xlabel('Epochs')\n",
    "plt.legend(['Train', 'CV'], loc='upper left')\n",
    "plt.show()"
   ],
   "metadata": {
    "collapsed": false,
    "ExecuteTime": {
     "end_time": "2023-12-10T03:42:23.366238300Z",
     "start_time": "2023-12-10T03:42:23.256172700Z"
    }
   },
   "id": "a37d3e126dfcb089"
  },
  {
   "cell_type": "code",
   "execution_count": 528,
   "outputs": [
    {
     "data": {
      "text/plain": "<Figure size 640x480 with 1 Axes>",
      "image/png": "[encoded data removed]"
     },
     "metadata": {},
     "output_type": "display_data"
    }
   ],
   "source": [
    "#summarize history for accuracy\n",
    "plt.plot(history.history['accuracy'])\n",
    "plt.plot(history.history['val_accuracy'])\n",
    "plt.title('Model Accuracy')\n",
    "plt.ylabel('Accuracy')\n",
    "plt.xlabel('Epochs')\n",
    "plt.legend(['Train', 'Test'], loc='upper left')\n",
    "plt.show()"
   ],
   "metadata": {
    "collapsed": false,
    "ExecuteTime": {
     "end_time": "2023-12-10T03:42:23.457238400Z",
     "start_time": "2023-12-10T03:42:23.353243600Z"
    }
   },
   "id": "3be463da23deb87d"
  },
  {
   "cell_type": "code",
   "execution_count": 529,
   "outputs": [],
   "source": [
    "#Get predictions for training set\n",
    "prediction_train = get_predictions(X_train)"
   ],
   "metadata": {
    "collapsed": false,
    "ExecuteTime": {
     "end_time": "2023-12-10T03:42:23.490751500Z",
     "start_time": "2023-12-10T03:42:23.453238600Z"
    }
   },
   "id": "d8d2bdf26ee27674"
  },
  {
   "cell_type": "code",
   "execution_count": 530,
   "outputs": [
    {
     "name": "stdout",
     "output_type": "stream",
     "text": [
      "Accuracy: 97.14%\n"
     ]
    }
   ],
   "source": [
    "calculate_accuracy(y_train, prediction_train)"
   ],
   "metadata": {
    "collapsed": false,
    "ExecuteTime": {
     "end_time": "2023-12-10T03:42:23.525515500Z",
     "start_time": "2023-12-10T03:42:23.491751Z"
    }
   },
   "id": "64a35add45a493ea"
  },
  {
   "cell_type": "code",
   "execution_count": 531,
   "outputs": [
    {
     "name": "stdout",
     "output_type": "stream",
     "text": [
      "Precision: 0.95\n",
      "Recall: 1.00\n",
      "F1 Score: 0.98\n"
     ]
    },
    {
     "data": {
      "text/plain": "<Figure size 640x480 with 1 Axes>",
      "image/png": "[encoded data removed]"
     },
     "metadata": {},
     "output_type": "display_data"
    }
   ],
   "source": [
    "print_confusion_matrix(y_train, prediction_train)"
   ],
   "metadata": {
    "collapsed": false,
    "ExecuteTime": {
     "end_time": "2023-12-10T03:42:23.615528600Z",
     "start_time": "2023-12-10T03:42:23.495514100Z"
    }
   },
   "id": "1607c5b0d453f5c4"
  },
  {
   "cell_type": "code",
   "execution_count": 532,
   "outputs": [],
   "source": [
    "#CV predictions\n",
    "prediction_cv = get_predictions(X_cv)"
   ],
   "metadata": {
    "collapsed": false,
    "ExecuteTime": {
     "end_time": "2023-12-10T03:42:23.615528600Z",
     "start_time": "2023-12-10T03:42:23.567932200Z"
    }
   },
   "id": "e6b89fd6f03e2c3d"
  },
  {
   "cell_type": "code",
   "execution_count": 533,
   "outputs": [
    {
     "name": "stdout",
     "output_type": "stream",
     "text": [
      "Accuracy: 95.77%\n"
     ]
    }
   ],
   "source": [
    "calculate_accuracy(y_cv, prediction_cv)"
   ],
   "metadata": {
    "collapsed": false,
    "ExecuteTime": {
     "end_time": "2023-12-10T03:42:23.615528600Z",
     "start_time": "2023-12-10T03:42:23.586395Z"
    }
   },
   "id": "9671a258a9400c6b"
  },
  {
   "cell_type": "code",
   "execution_count": 534,
   "outputs": [
    {
     "name": "stdout",
     "output_type": "stream",
     "text": [
      "Precision: 0.96\n",
      "Recall: 0.98\n",
      "F1 Score: 0.97\n"
     ]
    },
    {
     "data": {
      "text/plain": "<Figure size 640x480 with 1 Axes>",
      "image/png": "[encoded data removed]"
     },
     "metadata": {},
     "output_type": "display_data"
    }
   ],
   "source": [
    "print_confusion_matrix(y_cv, prediction_cv)"
   ],
   "metadata": {
    "collapsed": false,
    "ExecuteTime": {
     "end_time": "2023-12-10T03:42:23.697073200Z",
     "start_time": "2023-12-10T03:42:23.590538300Z"
    }
   },
   "id": "768122e654836144"
  },
  {
   "cell_type": "code",
   "execution_count": 535,
   "outputs": [
    {
     "name": "stdout",
     "output_type": "stream",
     "text": [
      "Evaluate on test Data\n",
      "3/3 [==============================] - 0s 3ms/step - loss: 0.2499 - accuracy: 1.0000\n",
      "test loss, test acc: [0.2499183863401413, 1.0]\n"
     ]
    }
   ],
   "source": [
    "#evaluate model on test set\n",
    "print(\"Evaluate on test Data\")\n",
    "results = model.evaluate(X_test, y_test)\n",
    "print(f\"test loss, test acc: {results}\")"
   ],
   "metadata": {
    "collapsed": false,
    "ExecuteTime": {
     "end_time": "2023-12-10T03:42:23.795926700Z",
     "start_time": "2023-12-10T03:42:23.664559800Z"
    }
   },
   "id": "bc4f179c170f6bc"
  },
  {
   "cell_type": "code",
   "execution_count": 536,
   "outputs": [],
   "source": [
    "#determine the accuracy for test set\n",
    "prediction_test = get_predictions(X_test)"
   ],
   "metadata": {
    "collapsed": false,
    "ExecuteTime": {
     "end_time": "2023-12-10T03:42:23.795926700Z",
     "start_time": "2023-12-10T03:42:23.720487300Z"
    }
   },
   "id": "41df526ddd40abc4"
  },
  {
   "cell_type": "code",
   "execution_count": 537,
   "outputs": [
    {
     "name": "stdout",
     "output_type": "stream",
     "text": [
      "Accuracy: 98.57%\n"
     ]
    }
   ],
   "source": [
    "calculate_accuracy(y_test, prediction_test)"
   ],
   "metadata": {
    "collapsed": false,
    "ExecuteTime": {
     "end_time": "2023-12-10T03:42:23.795926700Z",
     "start_time": "2023-12-10T03:42:23.740029300Z"
    }
   },
   "id": "20aa2250bfcab251"
  },
  {
   "cell_type": "code",
   "execution_count": 538,
   "outputs": [
    {
     "name": "stdout",
     "output_type": "stream",
     "text": [
      "Precision: 0.98\n",
      "Recall: 1.00\n",
      "F1 Score: 0.99\n"
     ]
    },
    {
     "data": {
      "text/plain": "<Figure size 640x480 with 1 Axes>",
      "image/png": "[encoded data removed]"
     },
     "metadata": {},
     "output_type": "display_data"
    }
   ],
   "source": [
    "print_confusion_matrix(y_test, prediction_test)"
   ],
   "metadata": {
    "collapsed": false,
    "ExecuteTime": {
     "end_time": "2023-12-10T03:42:23.931150800Z",
     "start_time": "2023-12-10T03:42:23.745028500Z"
    }
   },
   "id": "4d29121cda236278"
  }
 ],
 "metadata": {
  "kernelspec": {
   "name": "python311",
   "language": "python",
   "display_name": "Python 3.11"
  },
  "language_info": {
   "codemirror_mode": {
    "name": "ipython",
    "version": 2
   },
   "file_extension": ".py",
   "mimetype": "text/x-python",
   "name": "python",
   "nbconvert_exporter": "python",
   "pygments_lexer": "ipython2",
   "version": "2.7.6"
  }
 },
 "nbformat": 4,
 "nbformat_minor": 5
}
