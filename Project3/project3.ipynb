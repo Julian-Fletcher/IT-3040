{
 "cells": [
  {
   "cell_type": "code",
   "execution_count": 2,
   "id": "initial_id",
   "metadata": {
    "collapsed": true,
    "ExecuteTime": {
     "end_time": "2023-12-10T00:12:06.280251800Z",
     "start_time": "2023-12-10T00:12:06.259242800Z"
    }
   },
   "outputs": [],
   "source": [
    "#Import librarires\n",
    "import numpy as np\n",
    "import pandas as pd\n",
    "import tensorflow as tf\n",
    "from tensorflow.keras.models import Sequential\n",
    "from tensorflow.keras.layers import Dense\n",
    "from tensorflow.keras.regularizers import l2\n",
    "\n",
    "from sklearn.preprocessing import StandardScaler\n",
    "from sklearn.model_selection import train_test_split\n",
    "from sklearn.metrics import precision_score, recall_score, f1_score\n",
    "from sklearn.metrics import confusion_matrix\n",
    "from sklearn.metrics import accuracy_score\n",
    "\n",
    "from mlxtend.plotting import plot_confusion_matrix\n",
    "import matplotlib.pyplot as plt\n",
    "\n",
    "import math"
   ]
  },
  {
   "cell_type": "code",
   "execution_count": 3,
   "outputs": [],
   "source": [
    "# Utility Functions\n",
    "def sigmoid(z):\n",
    "    return 1/(1 + math.e ** -z)"
   ],
   "metadata": {
    "collapsed": false,
    "ExecuteTime": {
     "end_time": "2023-12-10T00:12:07.721642100Z",
     "start_time": "2023-12-10T00:12:07.695640600Z"
    }
   },
   "id": "29f3be9a0acc7419"
  },
  {
   "cell_type": "code",
   "execution_count": 7,
   "outputs": [],
   "source": [
    "def print_confusion_matrix(true_labels, predictions):\n",
    "    #plot confusion matrix\n",
    "    mat = confusion_matrix(true_labels, predictions)\n",
    "    plot_confusion_matrix(conf_mat=mat)\n",
    "\n",
    "    #Calculate precision, recall, f1_score\n",
    "\n",
    "    #precision\n",
    "    precision = precision_score(true_labels, predictions)\n",
    "\n",
    "    #recall\n",
    "    recall = recall_score(true_labels, predictions)\n",
    "\n",
    "    #fl score\n",
    "    f1 = f1_score(true_labels, predictions)\n",
    "\n",
    "    #Print precision, recall, f1_score\n",
    "    print(f\"Precision: {precision:.2f}\")\n",
    "    print(f\"Recall: {recall:.2f}\")\n",
    "    print(f\"F1 Score: {f1:.2f}\")\n",
    "\n",
    "    return"
   ],
   "metadata": {
    "collapsed": false,
    "ExecuteTime": {
     "end_time": "2023-12-10T00:12:13.686831400Z",
     "start_time": "2023-12-10T00:12:13.565716600Z"
    }
   },
   "id": "3f30a12a452f5a60"
  },
  {
   "cell_type": "code",
   "execution_count": 100,
   "outputs": [],
   "source": [
    "def calculate_accuracy(labels, predictions):\n",
    "    print(\"Accuracy:\", accuracy_score(labels, predictions) * 100)"
   ],
   "metadata": {
    "collapsed": false,
    "ExecuteTime": {
     "end_time": "2023-12-10T01:15:52.975886800Z",
     "start_time": "2023-12-10T01:15:52.954775500Z"
    }
   },
   "id": "bc25545db1ae0cdd"
  },
  {
   "cell_type": "code",
   "execution_count": null,
   "outputs": [],
   "source": [],
   "metadata": {
    "collapsed": false
   },
   "id": "24ad589e66241813"
  },
  {
   "cell_type": "code",
   "execution_count": 55,
   "outputs": [],
   "source": [
    "def get_predictions(feature_data):\n",
    "    #run feature data through the trained model to get the linera activations from the output layer\n",
    "    logits = model(feature_data)\n",
    "\n",
    "    #convert the model outputs to probabilities by running through the sigmoid function\n",
    "    logits = sigmoid(logits)\n",
    "\n",
    "    # get predictions by converting output probabilities to True if >= 0.5, and False if < 0.5\n",
    "    predictions = logits >= 0.5\n",
    "\n",
    "    #convert True to 1 and False to 0\n",
    "    predictions = [int(boolean) for boolean in predictions]\n",
    "\n",
    "    return predictions"
   ],
   "metadata": {
    "collapsed": false,
    "ExecuteTime": {
     "end_time": "2023-12-10T00:16:55.503096400Z",
     "start_time": "2023-12-10T00:16:55.487093800Z"
    }
   },
   "id": "3a8ed3959b7e6eaa"
  },
  {
   "cell_type": "code",
   "execution_count": 87,
   "outputs": [
    {
     "data": {
      "text/plain": "' \\nSigillito,V., Wing,S., Hutton,L., and Baker,K.. (1989). Ionosphere. UCI Machine Learning Repository. https://doi.org/10.24432/C5W01B.\\n'"
     },
     "execution_count": 87,
     "metadata": {},
     "output_type": "execute_result"
    }
   ],
   "source": [
    "#Import dataset from online repo\n",
    "#FIRST NEEDS - pip install ucimlrepo\n",
    "\n",
    "from ucimlrepo import fetch_ucirepo \n",
    "  \n",
    "# fetch dataset \n",
    "ionosphere = fetch_ucirepo(id=52) \n",
    "  \n",
    "# data (as pandas dataframes) \n",
    "X = ionosphere.data.features \n",
    "y = ionosphere.data.targets \n",
    "  \n",
    "# metadata \n",
    "#print(ionosphere.metadata) \n",
    "  \n",
    "# variable information \n",
    "#print(ionosphere.variables) \n",
    "\n",
    "\"\"\" \n",
    "Sigillito,V., Wing,S., Hutton,L., and Baker,K.. (1989). Ionosphere. UCI Machine Learning Repository. https://doi.org/10.24432/C5W01B.\n",
    "\"\"\"\n"
   ],
   "metadata": {
    "collapsed": false,
    "ExecuteTime": {
     "end_time": "2023-12-10T01:15:09.616258400Z",
     "start_time": "2023-12-10T01:15:09.170026300Z"
    }
   },
   "id": "8e8609429bbdcf61"
  },
  {
   "cell_type": "code",
   "execution_count": 88,
   "outputs": [
    {
     "data": {
      "text/plain": "   Class\n0      1\n1      0\n2      1\n3      0\n4      1",
      "text/html": "<div>\n<style scoped>\n    .dataframe tbody tr th:only-of-type {\n        vertical-align: middle;\n    }\n\n    .dataframe tbody tr th {\n        vertical-align: top;\n    }\n\n    .dataframe thead th {\n        text-align: right;\n    }\n</style>\n<table border=\"1\" class=\"dataframe\">\n  <thead>\n    <tr style=\"text-align: right;\">\n      <th></th>\n      <th>Class</th>\n    </tr>\n  </thead>\n  <tbody>\n    <tr>\n      <th>0</th>\n      <td>1</td>\n    </tr>\n    <tr>\n      <th>1</th>\n      <td>0</td>\n    </tr>\n    <tr>\n      <th>2</th>\n      <td>1</td>\n    </tr>\n    <tr>\n      <th>3</th>\n      <td>0</td>\n    </tr>\n    <tr>\n      <th>4</th>\n      <td>1</td>\n    </tr>\n  </tbody>\n</table>\n</div>"
     },
     "execution_count": 88,
     "metadata": {},
     "output_type": "execute_result"
    }
   ],
   "source": [
    "#Preprocessing\n",
    "\n",
    "#Copy the dataframe to preserve original data\n",
    "y_conv = y.copy()\n",
    "\n",
    "#Define replacement mapping\n",
    "result_mapping = {\n",
    "    \"g\": 1,\n",
    "    \"b\": 0\n",
    "}\n",
    "\n",
    "y_conv['Class'] = y['Class'].replace(result_mapping)\n",
    "y_conv.head()"
   ],
   "metadata": {
    "collapsed": false,
    "ExecuteTime": {
     "end_time": "2023-12-10T01:15:10.889455400Z",
     "start_time": "2023-12-10T01:15:10.876441500Z"
    }
   },
   "id": "6d28835df5e8a0"
  },
  {
   "cell_type": "code",
   "execution_count": 89,
   "outputs": [],
   "source": [
    "#convert datasets into numpy arrays\n",
    "features = X.to_numpy()\n",
    "init_labels = y_conv.to_numpy()\n",
    "\n",
    "#scaler object\n",
    "scaler = StandardScaler()\n",
    "\n",
    "#Scaled features\n",
    "scaled_features = scaler.fit_transform(features)"
   ],
   "metadata": {
    "collapsed": false,
    "ExecuteTime": {
     "end_time": "2023-12-10T01:15:12.511797900Z",
     "start_time": "2023-12-10T01:15:12.496517200Z"
    }
   },
   "id": "2346d26ede40262c"
  },
  {
   "cell_type": "code",
   "execution_count": 90,
   "outputs": [
    {
     "name": "stdout",
     "output_type": "stream",
     "text": [
      "Features shape: (351, 34)\n",
      "Labels shape: (351, 1)\n"
     ]
    }
   ],
   "source": [
    "print(f\"Features shape: {scaled_features.shape}\")\n",
    "print(f\"Labels shape: {init_labels.shape}\")\n"
   ],
   "metadata": {
    "collapsed": false,
    "ExecuteTime": {
     "end_time": "2023-12-10T01:15:13.493593200Z",
     "start_time": "2023-12-10T01:15:13.479586400Z"
    }
   },
   "id": "4ef67a71140bdd52"
  },
  {
   "cell_type": "code",
   "execution_count": 91,
   "outputs": [
    {
     "name": "stdout",
     "output_type": "stream",
     "text": [
      "Features [ 1.       0.       0.99539 -0.05889  0.85243  0.02306  0.83398 -0.37708\n",
      "  1.       0.0376   0.85243 -0.17755  0.59755 -0.44945  0.60536 -0.38223\n",
      "  0.84356 -0.38542  0.58212 -0.32192  0.56971 -0.29674  0.36946 -0.47357\n",
      "  0.56811 -0.51171  0.41078 -0.46168  0.21266 -0.3409   0.42267 -0.54487\n",
      "  0.18641 -0.453  ]\n",
      "Scaled Features: [ 0.34843328  0.          0.71237237 -0.23425724  0.48420769 -0.20173498\n",
      "  0.57705879 -0.95467914  0.96407416 -0.29751023  0.66865465 -0.67310732\n",
      "  0.3166732  -1.09854253  0.40067797 -0.99048557  0.74798503 -0.76968095\n",
      "  0.35615548 -0.57471451  0.38264404 -0.58952424  0.01158471 -0.79012864\n",
      "  0.29772766 -0.86756495 -0.25386754 -0.71397123 -0.28828966 -0.61703878\n",
      "  0.12293694 -1.05505394 -0.3122206  -0.99959483]\n"
     ]
    }
   ],
   "source": [
    "print(f\"Features {features[0]}\")\n",
    "\n",
    "print(f\"Scaled Features: {scaled_features[0]}\")"
   ],
   "metadata": {
    "collapsed": false,
    "ExecuteTime": {
     "end_time": "2023-12-10T01:15:14.859523300Z",
     "start_time": "2023-12-10T01:15:14.836009600Z"
    }
   },
   "id": "945b0048b1424f76"
  },
  {
   "cell_type": "code",
   "execution_count": 92,
   "outputs": [
    {
     "name": "stdout",
     "output_type": "stream",
     "text": [
      "Train type: <class 'numpy.float64'>\n",
      "X_train shape: (210, 34)\n",
      "X_test shape: (70, 34)\n",
      "X_cv shape: (71, 34)\n",
      "y_train shape: (210, 1)\n",
      "y_test shape: (70, 1)\n",
      "y_cv shape: (71, 1)\n"
     ]
    }
   ],
   "source": [
    "#Split dataset into training, cv, test\n",
    "\n",
    "X_train, X_test, y_train, y_test = train_test_split(scaled_features, init_labels, test_size=0.4, random_state=35)\n",
    "\n",
    "#Split test 50:50 for cv and test sets\n",
    "X_test, X_cv, y_test, y_cv = train_test_split(X_test, y_test, test_size=0.5)\n",
    "\n",
    "\n",
    "#Print split results\n",
    "print(f\"Train type: {type(X_train[0][5])}\")\n",
    "print(f\"X_train shape: {X_train.shape}\")\n",
    "print(f\"X_test shape: {X_test.shape}\")\n",
    "print(f\"X_cv shape: {X_cv.shape}\")\n",
    "\n",
    "print(f\"y_train shape: {y_train.shape}\")\n",
    "print(f\"y_test shape: {y_test.shape}\")\n",
    "print(f\"y_cv shape: {y_cv.shape}\")\n"
   ],
   "metadata": {
    "collapsed": false,
    "ExecuteTime": {
     "end_time": "2023-12-10T01:15:16.015392300Z",
     "start_time": "2023-12-10T01:15:15.999823500Z"
    }
   },
   "id": "622edafbd686da63"
  },
  {
   "cell_type": "code",
   "execution_count": 112,
   "outputs": [],
   "source": [
    "#Model creation\n",
    "\n",
    "model = Sequential([\n",
    "    tf.keras.Input(shape=(34,)),\n",
    "    Dense(15, activation='sigmoid'),\n",
    "    Dense(30, activation='sigmoid', kernel_regularizer=l2(0.00)),\n",
    "    Dense(10, activation='sigmoid'),\n",
    "    Dense(2, activation='sigmoid', kernel_regularizer=l2(0.00)),\n",
    "    Dense(1, activation='linear')\n",
    "])"
   ],
   "metadata": {
    "collapsed": false,
    "ExecuteTime": {
     "end_time": "2023-12-10T01:17:02.869773300Z",
     "start_time": "2023-12-10T01:17:02.836630500Z"
    }
   },
   "id": "8bc11fecb6a86edb"
  },
  {
   "cell_type": "code",
   "execution_count": 113,
   "outputs": [
    {
     "name": "stdout",
     "output_type": "stream",
     "text": [
      "Model: \"sequential_5\"\n",
      "_________________________________________________________________\n",
      " Layer (type)                Output Shape              Param #   \n",
      "=================================================================\n",
      " dense_22 (Dense)            (None, 15)                525       \n",
      "                                                                 \n",
      " dense_23 (Dense)            (None, 30)                480       \n",
      "                                                                 \n",
      " dense_24 (Dense)            (None, 10)                310       \n",
      "                                                                 \n",
      " dense_25 (Dense)            (None, 2)                 22        \n",
      "                                                                 \n",
      " dense_26 (Dense)            (None, 1)                 3         \n",
      "                                                                 \n",
      "=================================================================\n",
      "Total params: 1340 (5.23 KB)\n",
      "Trainable params: 1340 (5.23 KB)\n",
      "Non-trainable params: 0 (0.00 Byte)\n",
      "_________________________________________________________________\n"
     ]
    }
   ],
   "source": [
    "model.summary()"
   ],
   "metadata": {
    "collapsed": false,
    "ExecuteTime": {
     "end_time": "2023-12-10T01:17:03.944992100Z",
     "start_time": "2023-12-10T01:17:03.918227300Z"
    }
   },
   "id": "c7e78cc50429bf6c"
  },
  {
   "cell_type": "code",
   "execution_count": 114,
   "outputs": [
    {
     "name": "stdout",
     "output_type": "stream",
     "text": [
      "Epoch 1/70\n",
      "11/11 [==============================] - 1s 14ms/step - loss: 0.7739 - accuracy: 0.3590 - val_loss: 0.7006 - val_accuracy: 0.2535\n",
      "Epoch 2/70\n",
      "11/11 [==============================] - 0s 4ms/step - loss: 0.6800 - accuracy: 0.3590 - val_loss: 0.6462 - val_accuracy: 0.2535\n",
      "Epoch 3/70\n",
      "11/11 [==============================] - 0s 4ms/step - loss: 0.6615 - accuracy: 0.3590 - val_loss: 0.6164 - val_accuracy: 0.2535\n",
      "Epoch 4/70\n",
      "11/11 [==============================] - 0s 3ms/step - loss: 0.6549 - accuracy: 0.3960 - val_loss: 0.5981 - val_accuracy: 0.8732\n",
      "Epoch 5/70\n",
      "11/11 [==============================] - 0s 4ms/step - loss: 0.6504 - accuracy: 0.6752 - val_loss: 0.5895 - val_accuracy: 0.7465\n",
      "Epoch 6/70\n",
      "11/11 [==============================] - 0s 4ms/step - loss: 0.6454 - accuracy: 0.6724 - val_loss: 0.5837 - val_accuracy: 0.8873\n",
      "Epoch 7/70\n",
      "11/11 [==============================] - 0s 4ms/step - loss: 0.6330 - accuracy: 0.8348 - val_loss: 0.5732 - val_accuracy: 0.7887\n",
      "Epoch 8/70\n",
      "11/11 [==============================] - 0s 4ms/step - loss: 0.6057 - accuracy: 0.8462 - val_loss: 0.5453 - val_accuracy: 0.8310\n",
      "Epoch 9/70\n",
      "11/11 [==============================] - 0s 4ms/step - loss: 0.5474 - accuracy: 0.8689 - val_loss: 0.4886 - val_accuracy: 0.8451\n",
      "Epoch 10/70\n",
      "11/11 [==============================] - 0s 4ms/step - loss: 0.4644 - accuracy: 0.8889 - val_loss: 0.4377 - val_accuracy: 0.8732\n",
      "Epoch 11/70\n",
      "11/11 [==============================] - 0s 4ms/step - loss: 0.4072 - accuracy: 0.9031 - val_loss: 0.3965 - val_accuracy: 0.8873\n",
      "Epoch 12/70\n",
      "11/11 [==============================] - 0s 4ms/step - loss: 0.3688 - accuracy: 0.9088 - val_loss: 0.3707 - val_accuracy: 0.8873\n",
      "Epoch 13/70\n",
      "11/11 [==============================] - 0s 3ms/step - loss: 0.3444 - accuracy: 0.9145 - val_loss: 0.3514 - val_accuracy: 0.9014\n",
      "Epoch 14/70\n",
      "11/11 [==============================] - 0s 3ms/step - loss: 0.3279 - accuracy: 0.9202 - val_loss: 0.3415 - val_accuracy: 0.9014\n",
      "Epoch 15/70\n",
      "11/11 [==============================] - 0s 4ms/step - loss: 0.3178 - accuracy: 0.9145 - val_loss: 0.3374 - val_accuracy: 0.9014\n",
      "Epoch 16/70\n",
      "11/11 [==============================] - 0s 3ms/step - loss: 0.3128 - accuracy: 0.9145 - val_loss: 0.3426 - val_accuracy: 0.8873\n",
      "Epoch 17/70\n",
      "11/11 [==============================] - 0s 3ms/step - loss: 0.3019 - accuracy: 0.9174 - val_loss: 0.3103 - val_accuracy: 0.9014\n",
      "Epoch 18/70\n",
      "11/11 [==============================] - 0s 3ms/step - loss: 0.2975 - accuracy: 0.9174 - val_loss: 0.3244 - val_accuracy: 0.9014\n",
      "Epoch 19/70\n",
      "11/11 [==============================] - 0s 3ms/step - loss: 0.2859 - accuracy: 0.9231 - val_loss: 0.3040 - val_accuracy: 0.9014\n",
      "Epoch 20/70\n",
      "11/11 [==============================] - 0s 3ms/step - loss: 0.2763 - accuracy: 0.9288 - val_loss: 0.2973 - val_accuracy: 0.9155\n",
      "Epoch 21/70\n",
      "11/11 [==============================] - 0s 3ms/step - loss: 0.2680 - accuracy: 0.9316 - val_loss: 0.2953 - val_accuracy: 0.9155\n",
      "Epoch 22/70\n",
      "11/11 [==============================] - 0s 4ms/step - loss: 0.2633 - accuracy: 0.9316 - val_loss: 0.2946 - val_accuracy: 0.9155\n",
      "Epoch 23/70\n",
      "11/11 [==============================] - 0s 3ms/step - loss: 0.2608 - accuracy: 0.9316 - val_loss: 0.2936 - val_accuracy: 0.9155\n",
      "Epoch 24/70\n",
      "11/11 [==============================] - 0s 3ms/step - loss: 0.2578 - accuracy: 0.9316 - val_loss: 0.2936 - val_accuracy: 0.9155\n",
      "Epoch 25/70\n",
      "11/11 [==============================] - 0s 3ms/step - loss: 0.2557 - accuracy: 0.9316 - val_loss: 0.2931 - val_accuracy: 0.9155\n",
      "Epoch 26/70\n",
      "11/11 [==============================] - 0s 4ms/step - loss: 0.2539 - accuracy: 0.9316 - val_loss: 0.2926 - val_accuracy: 0.9155\n",
      "Epoch 27/70\n",
      "11/11 [==============================] - 0s 3ms/step - loss: 0.2520 - accuracy: 0.9316 - val_loss: 0.2908 - val_accuracy: 0.9155\n",
      "Epoch 28/70\n",
      "11/11 [==============================] - 0s 4ms/step - loss: 0.2499 - accuracy: 0.9316 - val_loss: 0.2694 - val_accuracy: 0.9296\n",
      "Epoch 29/70\n",
      "11/11 [==============================] - 0s 4ms/step - loss: 0.2481 - accuracy: 0.9316 - val_loss: 0.2737 - val_accuracy: 0.9155\n",
      "Epoch 30/70\n",
      "11/11 [==============================] - 0s 4ms/step - loss: 0.2560 - accuracy: 0.9288 - val_loss: 0.2651 - val_accuracy: 0.9296\n",
      "Epoch 31/70\n",
      "11/11 [==============================] - 0s 3ms/step - loss: 0.2756 - accuracy: 0.9145 - val_loss: 0.2806 - val_accuracy: 0.9155\n",
      "Epoch 32/70\n",
      "11/11 [==============================] - 0s 4ms/step - loss: 0.2730 - accuracy: 0.9174 - val_loss: 0.2917 - val_accuracy: 0.9155\n",
      "Epoch 33/70\n",
      "11/11 [==============================] - 0s 3ms/step - loss: 0.2474 - accuracy: 0.9288 - val_loss: 0.2656 - val_accuracy: 0.9296\n",
      "Epoch 34/70\n",
      "11/11 [==============================] - 0s 3ms/step - loss: 0.2534 - accuracy: 0.9288 - val_loss: 0.2799 - val_accuracy: 0.9155\n",
      "Epoch 35/70\n",
      "11/11 [==============================] - 0s 4ms/step - loss: 0.2518 - accuracy: 0.9259 - val_loss: 0.2674 - val_accuracy: 0.9296\n",
      "Epoch 36/70\n",
      "11/11 [==============================] - 0s 4ms/step - loss: 0.2455 - accuracy: 0.9288 - val_loss: 0.2645 - val_accuracy: 0.9296\n",
      "Epoch 37/70\n",
      "11/11 [==============================] - 0s 4ms/step - loss: 0.2450 - accuracy: 0.9316 - val_loss: 0.2667 - val_accuracy: 0.9296\n",
      "Epoch 38/70\n",
      "11/11 [==============================] - 0s 4ms/step - loss: 0.2350 - accuracy: 0.9345 - val_loss: 0.2655 - val_accuracy: 0.9296\n",
      "Epoch 39/70\n",
      "11/11 [==============================] - 0s 4ms/step - loss: 0.2429 - accuracy: 0.9288 - val_loss: 0.2674 - val_accuracy: 0.9296\n",
      "Epoch 40/70\n",
      "11/11 [==============================] - 0s 4ms/step - loss: 0.2353 - accuracy: 0.9316 - val_loss: 0.2888 - val_accuracy: 0.9155\n",
      "Epoch 41/70\n",
      "11/11 [==============================] - 0s 3ms/step - loss: 0.2499 - accuracy: 0.9259 - val_loss: 0.2863 - val_accuracy: 0.9155\n",
      "Epoch 42/70\n",
      "11/11 [==============================] - 0s 3ms/step - loss: 0.2398 - accuracy: 0.9259 - val_loss: 0.2682 - val_accuracy: 0.9296\n",
      "Epoch 43/70\n",
      "11/11 [==============================] - 0s 3ms/step - loss: 0.2352 - accuracy: 0.9345 - val_loss: 0.2676 - val_accuracy: 0.9296\n",
      "Epoch 44/70\n",
      "11/11 [==============================] - 0s 4ms/step - loss: 0.2387 - accuracy: 0.9316 - val_loss: 0.2688 - val_accuracy: 0.9296\n",
      "Epoch 45/70\n",
      "11/11 [==============================] - 0s 3ms/step - loss: 0.2361 - accuracy: 0.9345 - val_loss: 0.2686 - val_accuracy: 0.9296\n",
      "Epoch 46/70\n",
      "11/11 [==============================] - 0s 3ms/step - loss: 0.2320 - accuracy: 0.9345 - val_loss: 0.2693 - val_accuracy: 0.9296\n",
      "Epoch 47/70\n",
      "11/11 [==============================] - 0s 3ms/step - loss: 0.2303 - accuracy: 0.9345 - val_loss: 0.2687 - val_accuracy: 0.9296\n",
      "Epoch 48/70\n",
      "11/11 [==============================] - 0s 4ms/step - loss: 0.2315 - accuracy: 0.9345 - val_loss: 0.2688 - val_accuracy: 0.9296\n",
      "Epoch 49/70\n",
      "11/11 [==============================] - 0s 3ms/step - loss: 0.2302 - accuracy: 0.9345 - val_loss: 0.2683 - val_accuracy: 0.9296\n",
      "Epoch 50/70\n",
      "11/11 [==============================] - 0s 3ms/step - loss: 0.2288 - accuracy: 0.9373 - val_loss: 0.2687 - val_accuracy: 0.9296\n",
      "Epoch 51/70\n",
      "11/11 [==============================] - 0s 3ms/step - loss: 0.2278 - accuracy: 0.9373 - val_loss: 0.2697 - val_accuracy: 0.9296\n",
      "Epoch 52/70\n",
      "11/11 [==============================] - 0s 3ms/step - loss: 0.2277 - accuracy: 0.9373 - val_loss: 0.2698 - val_accuracy: 0.9296\n",
      "Epoch 53/70\n",
      "11/11 [==============================] - 0s 3ms/step - loss: 0.2273 - accuracy: 0.9373 - val_loss: 0.2700 - val_accuracy: 0.9296\n",
      "Epoch 54/70\n",
      "11/11 [==============================] - 0s 3ms/step - loss: 0.2271 - accuracy: 0.9373 - val_loss: 0.2703 - val_accuracy: 0.9296\n",
      "Epoch 55/70\n",
      "11/11 [==============================] - 0s 3ms/step - loss: 0.2269 - accuracy: 0.9373 - val_loss: 0.2704 - val_accuracy: 0.9296\n",
      "Epoch 56/70\n",
      "11/11 [==============================] - 0s 3ms/step - loss: 0.2268 - accuracy: 0.9373 - val_loss: 0.2705 - val_accuracy: 0.9296\n",
      "Epoch 57/70\n",
      "11/11 [==============================] - 0s 4ms/step - loss: 0.2267 - accuracy: 0.9373 - val_loss: 0.2715 - val_accuracy: 0.9296\n",
      "Epoch 58/70\n",
      "11/11 [==============================] - 0s 3ms/step - loss: 0.2264 - accuracy: 0.9373 - val_loss: 0.2715 - val_accuracy: 0.9296\n",
      "Epoch 59/70\n",
      "11/11 [==============================] - 0s 3ms/step - loss: 0.2262 - accuracy: 0.9373 - val_loss: 0.2716 - val_accuracy: 0.9296\n",
      "Epoch 60/70\n",
      "11/11 [==============================] - 0s 3ms/step - loss: 0.2259 - accuracy: 0.9373 - val_loss: 0.2708 - val_accuracy: 0.9296\n",
      "Epoch 61/70\n",
      "11/11 [==============================] - 0s 3ms/step - loss: 0.2354 - accuracy: 0.9288 - val_loss: 0.2693 - val_accuracy: 0.9296\n",
      "Epoch 62/70\n",
      "11/11 [==============================] - 0s 3ms/step - loss: 0.2298 - accuracy: 0.9345 - val_loss: 0.2676 - val_accuracy: 0.9296\n",
      "Epoch 63/70\n",
      "11/11 [==============================] - 0s 3ms/step - loss: 0.2455 - accuracy: 0.9288 - val_loss: 0.2736 - val_accuracy: 0.9296\n",
      "Epoch 64/70\n",
      "11/11 [==============================] - 0s 3ms/step - loss: 0.2307 - accuracy: 0.9345 - val_loss: 0.2802 - val_accuracy: 0.9296\n",
      "Epoch 65/70\n",
      "11/11 [==============================] - 0s 3ms/step - loss: 0.2444 - accuracy: 0.9288 - val_loss: 0.2785 - val_accuracy: 0.9296\n",
      "Epoch 66/70\n",
      "11/11 [==============================] - 0s 3ms/step - loss: 0.2445 - accuracy: 0.9288 - val_loss: 0.2856 - val_accuracy: 0.9155\n",
      "Epoch 67/70\n",
      "11/11 [==============================] - 0s 3ms/step - loss: 0.2289 - accuracy: 0.9345 - val_loss: 0.2725 - val_accuracy: 0.9296\n",
      "Epoch 68/70\n",
      "11/11 [==============================] - 0s 3ms/step - loss: 0.2526 - accuracy: 0.9231 - val_loss: 0.2659 - val_accuracy: 0.9296\n",
      "Epoch 69/70\n",
      "11/11 [==============================] - 0s 3ms/step - loss: 0.2361 - accuracy: 0.9316 - val_loss: 0.2708 - val_accuracy: 0.9296\n",
      "Epoch 70/70\n",
      "11/11 [==============================] - 0s 3ms/step - loss: 0.2261 - accuracy: 0.9345 - val_loss: 0.2749 - val_accuracy: 0.9296\n"
     ]
    }
   ],
   "source": [
    "model.compile(loss=tf.keras.losses.BinaryCrossentropy(from_logits=True),\n",
    "              optimizer=tf.keras.optimizers.Adam(0.01),\n",
    "              metrics=['accuracy']    \n",
    ")\n",
    "\n",
    "#fit the model\n",
    "history = model.fit(\n",
    "    scaled_features, init_labels,\n",
    "    validation_data=(X_cv, y_cv),\n",
    "    epochs=70\n",
    ")"
   ],
   "metadata": {
    "collapsed": false,
    "ExecuteTime": {
     "end_time": "2023-12-10T01:17:08.846522700Z",
     "start_time": "2023-12-10T01:17:05.299315600Z"
    }
   },
   "id": "a325ec9078165f5b"
  },
  {
   "cell_type": "code",
   "execution_count": 115,
   "outputs": [
    {
     "name": "stdout",
     "output_type": "stream",
     "text": [
      "dict_keys(['loss', 'accuracy', 'val_loss', 'val_accuracy'])\n"
     ]
    }
   ],
   "source": [
    "#list history data\n",
    "print(history.history.keys())"
   ],
   "metadata": {
    "collapsed": false,
    "ExecuteTime": {
     "end_time": "2023-12-10T01:17:10.335531200Z",
     "start_time": "2023-12-10T01:17:10.311038100Z"
    }
   },
   "id": "13918b97b5128bb"
  },
  {
   "cell_type": "code",
   "execution_count": 116,
   "outputs": [
    {
     "data": {
      "text/plain": "<Figure size 640x480 with 1 Axes>",
      "image/png": "[encoded data removed]"
     },
     "metadata": {},
     "output_type": "display_data"
    }
   ],
   "source": [
    "#summarize history for loss\n",
    "plt.plot(history.history['loss'])\n",
    "plt.plot(history.history['val_loss'])\n",
    "plt.title('model loss')\n",
    "plt.ylabel('loss')\n",
    "plt.xlabel('epochs')\n",
    "plt.legend(['train', 'CV'], loc='upper left')\n",
    "plt.show()"
   ],
   "metadata": {
    "collapsed": false,
    "ExecuteTime": {
     "end_time": "2023-12-10T01:17:11.350027300Z",
     "start_time": "2023-12-10T01:17:11.237121300Z"
    }
   },
   "id": "a37d3e126dfcb089"
  },
  {
   "cell_type": "code",
   "execution_count": 117,
   "outputs": [
    {
     "data": {
      "text/plain": "<Figure size 640x480 with 1 Axes>",
      "image/png": "[encoded data removed]"
     },
     "metadata": {},
     "output_type": "display_data"
    }
   ],
   "source": [
    "#summarize history for accuracy\n",
    "plt.plot(history.history['accuracy'])\n",
    "plt.plot(history.history['val_accuracy'])\n",
    "plt.title('model accuracy')\n",
    "plt.ylabel('accuracy')\n",
    "plt.xlabel('epochs')\n",
    "plt.legend(['train', 'test'], loc='upper left')\n",
    "plt.show()"
   ],
   "metadata": {
    "collapsed": false,
    "ExecuteTime": {
     "end_time": "2023-12-10T01:17:13.073830100Z",
     "start_time": "2023-12-10T01:17:12.973671300Z"
    }
   },
   "id": "3be463da23deb87d"
  },
  {
   "cell_type": "code",
   "execution_count": 118,
   "outputs": [],
   "source": [
    "#Get predictions for training set\n",
    "prediction_train = get_predictions(X_train)"
   ],
   "metadata": {
    "collapsed": false,
    "ExecuteTime": {
     "end_time": "2023-12-10T01:17:15.105317100Z",
     "start_time": "2023-12-10T01:17:15.057574900Z"
    }
   },
   "id": "d8d2bdf26ee27674"
  },
  {
   "cell_type": "code",
   "execution_count": 119,
   "outputs": [
    {
     "name": "stdout",
     "output_type": "stream",
     "text": [
      "Accuracy: 94.76190476190476\n"
     ]
    }
   ],
   "source": [
    "calculate_accuracy(y_train, prediction_train)"
   ],
   "metadata": {
    "collapsed": false,
    "ExecuteTime": {
     "end_time": "2023-12-10T01:17:15.861145300Z",
     "start_time": "2023-12-10T01:17:15.831659300Z"
    }
   },
   "id": "64a35add45a493ea"
  },
  {
   "cell_type": "code",
   "execution_count": 120,
   "outputs": [
    {
     "name": "stdout",
     "output_type": "stream",
     "text": [
      "Precision: 0.92\n",
      "Recall: 1.00\n",
      "F1 Score: 0.96\n"
     ]
    },
    {
     "data": {
      "text/plain": "<Figure size 640x480 with 1 Axes>",
      "image/png": "[encoded data removed]"
     },
     "metadata": {},
     "output_type": "display_data"
    }
   ],
   "source": [
    "print_confusion_matrix(y_train, prediction_train)"
   ],
   "metadata": {
    "collapsed": false,
    "ExecuteTime": {
     "end_time": "2023-12-10T01:17:18.057221700Z",
     "start_time": "2023-12-10T01:17:17.967589200Z"
    }
   },
   "id": "1607c5b0d453f5c4"
  },
  {
   "cell_type": "code",
   "execution_count": 121,
   "outputs": [],
   "source": [
    "#CV predictions\n",
    "prediction_cv = get_predictions(X_cv)"
   ],
   "metadata": {
    "collapsed": false,
    "ExecuteTime": {
     "end_time": "2023-12-10T01:17:25.190286Z",
     "start_time": "2023-12-10T01:17:25.158815600Z"
    }
   },
   "id": "e6b89fd6f03e2c3d"
  },
  {
   "cell_type": "code",
   "execution_count": 122,
   "outputs": [
    {
     "name": "stdout",
     "output_type": "stream",
     "text": [
      "Accuracy: 92.95774647887323\n"
     ]
    }
   ],
   "source": [
    "calculate_accuracy(y_cv, prediction_cv)"
   ],
   "metadata": {
    "collapsed": false,
    "ExecuteTime": {
     "end_time": "2023-12-10T01:17:27.749792600Z",
     "start_time": "2023-12-10T01:17:27.721661400Z"
    }
   },
   "id": "9671a258a9400c6b"
  },
  {
   "cell_type": "code",
   "execution_count": 123,
   "outputs": [
    {
     "name": "stdout",
     "output_type": "stream",
     "text": [
      "Precision: 0.94\n",
      "Recall: 0.96\n",
      "F1 Score: 0.95\n"
     ]
    },
    {
     "data": {
      "text/plain": "<Figure size 640x480 with 1 Axes>",
      "image/png": "[encoded data removed]"
     },
     "metadata": {},
     "output_type": "display_data"
    }
   ],
   "source": [
    "print_confusion_matrix(y_cv, prediction_cv)"
   ],
   "metadata": {
    "collapsed": false,
    "ExecuteTime": {
     "end_time": "2023-12-10T01:17:28.777783600Z",
     "start_time": "2023-12-10T01:17:28.702418400Z"
    }
   },
   "id": "768122e654836144"
  },
  {
   "cell_type": "code",
   "execution_count": 124,
   "outputs": [
    {
     "name": "stdout",
     "output_type": "stream",
     "text": [
      "Evaluate on test Data\n",
      "3/3 [==============================] - 0s 2ms/step - loss: 0.2431 - accuracy: 0.9286\n",
      "test loss, test acc: [0.2430737018585205, 0.9285714030265808]\n"
     ]
    }
   ],
   "source": [
    "#evaluate model on test set\n",
    "print(\"Evaluate on test Data\")\n",
    "results = model.evaluate(X_test, y_test)\n",
    "print(f\"test loss, test acc: {results}\")"
   ],
   "metadata": {
    "collapsed": false,
    "ExecuteTime": {
     "end_time": "2023-12-10T01:17:31.540542700Z",
     "start_time": "2023-12-10T01:17:31.469899500Z"
    }
   },
   "id": "bc4f179c170f6bc"
  },
  {
   "cell_type": "code",
   "execution_count": 125,
   "outputs": [],
   "source": [
    "#determine the accuracy for test set\n",
    "prediction_test = get_predictions(X_test)"
   ],
   "metadata": {
    "collapsed": false,
    "ExecuteTime": {
     "end_time": "2023-12-10T01:17:33.002444Z",
     "start_time": "2023-12-10T01:17:32.972376800Z"
    }
   },
   "id": "41df526ddd40abc4"
  },
  {
   "cell_type": "code",
   "execution_count": 126,
   "outputs": [
    {
     "name": "stdout",
     "output_type": "stream",
     "text": [
      "Accuracy: 92.85714285714286\n"
     ]
    }
   ],
   "source": [
    "calculate_accuracy(y_test, prediction_test)"
   ],
   "metadata": {
    "collapsed": false,
    "ExecuteTime": {
     "end_time": "2023-12-10T01:17:34.206212300Z",
     "start_time": "2023-12-10T01:17:34.189208100Z"
    }
   },
   "id": "20aa2250bfcab251"
  },
  {
   "cell_type": "code",
   "execution_count": 127,
   "outputs": [
    {
     "name": "stdout",
     "output_type": "stream",
     "text": [
      "Precision: 0.90\n",
      "Recall: 1.00\n",
      "F1 Score: 0.95\n"
     ]
    },
    {
     "data": {
      "text/plain": "<Figure size 640x480 with 1 Axes>",
      "image/png": "[encoded data removed]"
     },
     "metadata": {},
     "output_type": "display_data"
    }
   ],
   "source": [
    "print_confusion_matrix(y_test, prediction_test)"
   ],
   "metadata": {
    "collapsed": false,
    "ExecuteTime": {
     "end_time": "2023-12-10T01:17:35.413092800Z",
     "start_time": "2023-12-10T01:17:35.337490100Z"
    }
   },
   "id": "4d29121cda236278"
  }
 ],
 "metadata": {
  "kernelspec": {
   "name": "python311",
   "language": "python",
   "display_name": "Python 3.11"
  },
  "language_info": {
   "codemirror_mode": {
    "name": "ipython",
    "version": 2
   },
   "file_extension": ".py",
   "mimetype": "text/x-python",
   "name": "python",
   "nbconvert_exporter": "python",
   "pygments_lexer": "ipython2",
   "version": "2.7.6"
  }
 },
 "nbformat": 4,
 "nbformat_minor": 5
}
