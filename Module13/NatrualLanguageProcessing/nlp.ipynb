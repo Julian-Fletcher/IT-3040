{
 "cells": [
  {
   "cell_type": "code",
   "execution_count": 2,
   "id": "initial_id",
   "metadata": {
    "collapsed": true,
    "ExecuteTime": {
     "end_time": "2023-11-15T16:10:06.354055900Z",
     "start_time": "2023-11-15T16:10:06.132159600Z"
    }
   },
   "outputs": [],
   "source": [
    "import nltk\n",
    "from nltk.corpus import twitter_samples\n",
    "import matplotlib.pyplot as plt\n",
    "import random \n",
    "import re #regular expressions allow you to capture patterns in text \n",
    "import string\n",
    "from nltk.corpus import stopwords\n",
    "from nltk.stem import PorterStemmer\n",
    "from nltk.tokenize import TweetTokenizer\n",
    "from nltk.stem import WordNetLemmatizer\n",
    "from sklearn.feature_extraction.text import CountVectorizer\n",
    "import pandas as pd"
   ]
  },
  {
   "cell_type": "code",
   "execution_count": 3,
   "outputs": [
    {
     "name": "stderr",
     "output_type": "stream",
     "text": [
      "[nltk_data] Downloading package twitter_samples to\n",
      "[nltk_data]     C:\\Users\\julia\\AppData\\Roaming\\nltk_data...\n",
      "[nltk_data]   Package twitter_samples is already up-to-date!\n"
     ]
    },
    {
     "data": {
      "text/plain": "True"
     },
     "execution_count": 3,
     "metadata": {},
     "output_type": "execute_result"
    }
   ],
   "source": [
    "#Download tweet samples \n",
    "nltk.download('twitter_samples')"
   ],
   "metadata": {
    "collapsed": false,
    "ExecuteTime": {
     "end_time": "2023-11-15T16:10:06.440923600Z",
     "start_time": "2023-11-15T16:10:06.138901700Z"
    }
   },
   "id": "bdd7fc8231ec6490"
  },
  {
   "cell_type": "code",
   "execution_count": 4,
   "outputs": [],
   "source": [
    "#Select a set of positive and negative tweets \n",
    "all_positive_tweets = twitter_samples.strings('positive_tweets.json')\n",
    "all_negative_tweets = twitter_samples.strings('negative_tweets.json')"
   ],
   "metadata": {
    "collapsed": false,
    "ExecuteTime": {
     "end_time": "2023-11-15T16:10:06.969473800Z",
     "start_time": "2023-11-15T16:10:06.387632400Z"
    }
   },
   "id": "16f55fb3225817a0"
  },
  {
   "cell_type": "code",
   "execution_count": 5,
   "outputs": [
    {
     "name": "stdout",
     "output_type": "stream",
     "text": [
      "Number of positive tweets: 5000\n",
      "Number of negative tweets: 5000\n",
      "Type of all positive tweets: <class 'list'>\n",
      "Type of all negative tweets: <class 'list'>\n",
      "Tweet entry typeis : <class 'str'>\n"
     ]
    }
   ],
   "source": [
    "print(f\"Number of positive tweets: {len(all_positive_tweets)}\")\n",
    "print(f\"Number of negative tweets: {len(all_negative_tweets)}\")\n",
    "\n",
    "print(f\"Type of all positive tweets: {type(all_positive_tweets)}\")\n",
    "print(f\"Type of all negative tweets: {type(all_negative_tweets)}\")\n",
    "\n",
    "print(f\"Tweet entry typeis : {type(all_negative_tweets[0])}\")"
   ],
   "metadata": {
    "collapsed": false,
    "ExecuteTime": {
     "end_time": "2023-11-15T16:10:06.969473800Z",
     "start_time": "2023-11-15T16:10:06.956669800Z"
    }
   },
   "id": "4461688935434475"
  },
  {
   "cell_type": "code",
   "execution_count": 6,
   "outputs": [
    {
     "name": "stdout",
     "output_type": "stream",
     "text": [
      "\u0003[92mFriend's lunch... yummmm :)\n",
      "#Nostalgia #TBS #KU.\n",
      "\u001B[91mHas a poorly pup :(\n"
     ]
    }
   ],
   "source": [
    "#view random positive and negative tweets\n",
    "#print positive in green and negative in red\n",
    "\n",
    "print('\\003[92m' + all_positive_tweets[random.randint(0,5000)])\n",
    "print('\\033[91m' + all_negative_tweets[random.randint(0,5000)])"
   ],
   "metadata": {
    "collapsed": false,
    "ExecuteTime": {
     "end_time": "2023-11-15T16:10:06.972475400Z",
     "start_time": "2023-11-15T16:10:06.962472Z"
    }
   },
   "id": "6fa090d9eee01e01"
  },
  {
   "cell_type": "code",
   "execution_count": 7,
   "outputs": [
    {
     "name": "stdout",
     "output_type": "stream",
     "text": [
      "My beautiful sunflowers on a sunny Friday morning off :) #sunflowers #favourites #happy #Friday off… https://t.co/3tfYom0N1i\n"
     ]
    }
   ],
   "source": [
    "#Select a sample tweet Complex enough to exemplify each step \n",
    "tweet = all_positive_tweets[2277]\n",
    "print(tweet)"
   ],
   "metadata": {
    "collapsed": false,
    "ExecuteTime": {
     "end_time": "2023-11-15T16:10:06.976582100Z",
     "start_time": "2023-11-15T16:10:06.966171300Z"
    }
   },
   "id": "82f0941ab9d8f2a0"
  },
  {
   "cell_type": "code",
   "execution_count": 8,
   "outputs": [
    {
     "name": "stderr",
     "output_type": "stream",
     "text": [
      "[nltk_data] Downloading package stopwords to\n",
      "[nltk_data]     C:\\Users\\julia\\AppData\\Roaming\\nltk_data...\n",
      "[nltk_data]   Package stopwords is already up-to-date!\n"
     ]
    },
    {
     "data": {
      "text/plain": "True"
     },
     "execution_count": 8,
     "metadata": {},
     "output_type": "execute_result"
    }
   ],
   "source": [
    "nltk.download('stopwords')"
   ],
   "metadata": {
    "collapsed": false,
    "ExecuteTime": {
     "end_time": "2023-11-15T16:10:07.007787300Z",
     "start_time": "2023-11-15T16:10:06.972475400Z"
    }
   },
   "id": "7d6a518eb60abd42"
  },
  {
   "cell_type": "code",
   "execution_count": 9,
   "outputs": [
    {
     "name": "stdout",
     "output_type": "stream",
     "text": [
      "My beautiful sunflowers on a sunny Friday morning off :) sunflowers favourites happy Friday off… \n"
     ]
    }
   ],
   "source": [
    "#remove old style retweet text RT\n",
    "tweet2 = re.sub(r'^RT[\\s]+', '', tweet)\n",
    "#remove hyperlinks\n",
    "tweet2 = re.sub(r'https?:\\/\\/.*[\\r\\n]*', '', tweet2)\n",
    "#remove hashtags\n",
    "tweet2 = re.sub(r'#', '', tweet2)\n",
    "\n",
    "print(tweet2)"
   ],
   "metadata": {
    "collapsed": false,
    "ExecuteTime": {
     "end_time": "2023-11-15T16:10:07.012424100Z",
     "start_time": "2023-11-15T16:10:06.981241900Z"
    }
   },
   "id": "2c866a6b684fdcbd"
  },
  {
   "cell_type": "code",
   "execution_count": 10,
   "outputs": [],
   "source": [
    "#instantiate tokenizer class\n",
    "tokenizer = TweetTokenizer(preserve_case=False, strip_handles=True, reduce_len=True)"
   ],
   "metadata": {
    "collapsed": false,
    "ExecuteTime": {
     "end_time": "2023-11-15T16:10:07.037327900Z",
     "start_time": "2023-11-15T16:10:06.986870600Z"
    }
   },
   "id": "88e4fa23c4564399"
  },
  {
   "cell_type": "code",
   "execution_count": 11,
   "outputs": [
    {
     "name": "stdout",
     "output_type": "stream",
     "text": [
      "['my', 'beautiful', 'sunflowers', 'on', 'a', 'sunny', 'friday', 'morning', 'off', ':)', 'sunflowers', 'favourites', 'happy', 'friday', 'off', '…']\n"
     ]
    }
   ],
   "source": [
    "tweet_tokens = tokenizer.tokenize(tweet2)\n",
    "print(tweet_tokens)"
   ],
   "metadata": {
    "collapsed": false,
    "ExecuteTime": {
     "end_time": "2023-11-15T16:10:07.138750100Z",
     "start_time": "2023-11-15T16:10:06.991415900Z"
    }
   },
   "id": "5281d78ab4e0283c"
  },
  {
   "cell_type": "code",
   "execution_count": 12,
   "outputs": [
    {
     "name": "stdout",
     "output_type": "stream",
     "text": [
      "\n",
      "Stop words\n",
      "-------------------\n",
      "['i', 'me', 'my', 'myself', 'we', 'our', 'ours', 'ourselves', 'you', \"you're\", \"you've\", \"you'll\", \"you'd\", 'your', 'yours', 'yourself', 'yourselves', 'he', 'him', 'his', 'himself', 'she', \"she's\", 'her', 'hers', 'herself', 'it', \"it's\", 'its', 'itself', 'they', 'them', 'their', 'theirs', 'themselves', 'what', 'which', 'who', 'whom', 'this', 'that', \"that'll\", 'these', 'those', 'am', 'is', 'are', 'was', 'were', 'be', 'been', 'being', 'have', 'has', 'had', 'having', 'do', 'does', 'did', 'doing', 'a', 'an', 'the', 'and', 'but', 'if', 'or', 'because', 'as', 'until', 'while', 'of', 'at', 'by', 'for', 'with', 'about', 'against', 'between', 'into', 'through', 'during', 'before', 'after', 'above', 'below', 'to', 'from', 'up', 'down', 'in', 'out', 'on', 'off', 'over', 'under', 'again', 'further', 'then', 'once', 'here', 'there', 'when', 'where', 'why', 'how', 'all', 'any', 'both', 'each', 'few', 'more', 'most', 'other', 'some', 'such', 'no', 'nor', 'not', 'only', 'own', 'same', 'so', 'than', 'too', 'very', 's', 't', 'can', 'will', 'just', 'don', \"don't\", 'should', \"should've\", 'now', 'd', 'll', 'm', 'o', 're', 've', 'y', 'ain', 'aren', \"aren't\", 'couldn', \"couldn't\", 'didn', \"didn't\", 'doesn', \"doesn't\", 'hadn', \"hadn't\", 'hasn', \"hasn't\", 'haven', \"haven't\", 'isn', \"isn't\", 'ma', 'mightn', \"mightn't\", 'mustn', \"mustn't\", 'needn', \"needn't\", 'shan', \"shan't\", 'shouldn', \"shouldn't\", 'wasn', \"wasn't\", 'weren', \"weren't\", 'won', \"won't\", 'wouldn', \"wouldn't\"]\n",
      "\n",
      "Punctuation List\n",
      "-------------------\n",
      "!\"#$%&'()*+,-./:;<=>?@[\\]^_`{|}~\n"
     ]
    }
   ],
   "source": [
    "#Import stopwords list\n",
    "\n",
    "stopwords_english = stopwords.words('english')\n",
    "print(\"\\nStop words\\n-------------------\")\n",
    "print(stopwords_english)\n",
    "\n",
    "print(\"\\nPunctuation List\\n-------------------\")\n",
    "print(string.punctuation)"
   ],
   "metadata": {
    "collapsed": false,
    "ExecuteTime": {
     "end_time": "2023-11-15T16:10:07.186221400Z",
     "start_time": "2023-11-15T16:10:07.007787300Z"
    }
   },
   "id": "d54f7141f42fbc91"
  },
  {
   "cell_type": "code",
   "execution_count": 13,
   "outputs": [
    {
     "name": "stdout",
     "output_type": "stream",
     "text": [
      "\n",
      "\u001B[92m\n",
      "['my', 'beautiful', 'sunflowers', 'on', 'a', 'sunny', 'friday', 'morning', 'off', ':)', 'sunflowers', 'favourites', 'happy', 'friday', 'off', '…']\n",
      "\u001B[94m\n",
      "removed stop words and punctuation\n",
      "['beautiful', 'sunflowers', 'sunny', 'friday', 'morning', ':)', 'sunflowers', 'favourites', 'happy', 'friday', '…']\n"
     ]
    }
   ],
   "source": [
    "print()\n",
    "print('\\033[92m')\n",
    "print(tweet_tokens)\n",
    "print('\\033[94m')\n",
    "\n",
    "tweet_clean = []\n",
    "for word in tweet_tokens:\n",
    "    if word not in stopwords_english and word not in string.punctuation:\n",
    "        tweet_clean.append(word)\n",
    "        \n",
    "print('removed stop words and punctuation')\n",
    "print(tweet_clean)"
   ],
   "metadata": {
    "collapsed": false,
    "ExecuteTime": {
     "end_time": "2023-11-15T16:10:07.186221400Z",
     "start_time": "2023-11-15T16:10:07.016111400Z"
    }
   },
   "id": "396e59fcf3f0613c"
  },
  {
   "cell_type": "code",
   "execution_count": 14,
   "outputs": [
    {
     "name": "stderr",
     "output_type": "stream",
     "text": [
      "[nltk_data] Downloading package wordnet to\n",
      "[nltk_data]     C:\\Users\\julia\\AppData\\Roaming\\nltk_data...\n"
     ]
    },
    {
     "name": "stdout",
     "output_type": "stream",
     "text": [
      "['beautiful', 'sunflower', 'sunny', 'friday', 'morning', ':)', 'sunflower', 'favourite', 'happy', 'friday', '…']\n"
     ]
    }
   ],
   "source": [
    "#Lemmatize our documents\n",
    "nltk.download('wordnet')\n",
    "lemmatizer = WordNetLemmatizer()\n",
    "\n",
    "#combines a loop and appending into the same line\n",
    "#for token in tweet_clean\n",
    "#lemmatized.append(lemmatizer.lematize(token)\n",
    "\n",
    "lemmatized = [lemmatizer.lemmatize(token) for token in tweet_clean]\n",
    "print(lemmatized)"
   ],
   "metadata": {
    "collapsed": false,
    "ExecuteTime": {
     "end_time": "2023-11-15T16:21:46.216614400Z",
     "start_time": "2023-11-15T16:21:41.981355400Z"
    }
   },
   "id": "735ffce13847727a"
  },
  {
   "cell_type": "code",
   "execution_count": 16,
   "outputs": [
    {
     "name": "stdout",
     "output_type": "stream",
     "text": [
      "\n",
      "\u001B[92m\n",
      "['beautiful', 'sunflowers', 'sunny', 'friday', 'morning', ':)', 'sunflowers', 'favourites', 'happy', 'friday', '…']\n",
      "\u001B[94m\n",
      "Stemmed words\n",
      "['beauti', 'sunflow', 'sunni', 'friday', 'morn', ':)', 'sunflow', 'favourit', 'happi', 'friday', '…']\n"
     ]
    }
   ],
   "source": [
    "print()\n",
    "print('\\033[92m')\n",
    "print(tweet_clean)\n",
    "print('\\033[94m')\n",
    "\n",
    "#Instantiate the Stemming Class\n",
    "stemmer = PorterStemmer()\n",
    "\n",
    "#create an empty list\n",
    "tweets_stem = []\n",
    "\n",
    "for word in lemmatized:\n",
    "    stem_word = stemmer.stem(word)\n",
    "    tweets_stem.append(stem_word)\n",
    "    \n",
    "print(\"Stemmed words\")\n",
    "print(tweets_stem)"
   ],
   "metadata": {
    "collapsed": false,
    "ExecuteTime": {
     "end_time": "2023-11-15T16:28:07.779455400Z",
     "start_time": "2023-11-15T16:28:07.764915400Z"
    }
   },
   "id": "e98e097e9d5a0d55"
  }
 ],
 "metadata": {
  "kernelspec": {
   "name": "python311",
   "language": "python",
   "display_name": "Python 3.11"
  },
  "language_info": {
   "codemirror_mode": {
    "name": "ipython",
    "version": 2
   },
   "file_extension": ".py",
   "mimetype": "text/x-python",
   "name": "python",
   "nbconvert_exporter": "python",
   "pygments_lexer": "ipython2",
   "version": "2.7.6"
  }
 },
 "nbformat": 4,
 "nbformat_minor": 5
}
